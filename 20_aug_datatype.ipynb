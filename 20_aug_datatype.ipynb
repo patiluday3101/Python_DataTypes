{
  "cells": [
    {
      "cell_type": "markdown",
      "metadata": {
        "id": "bsvspF9Kv_sD"
      },
      "source": [
        "#String Based Assignment Problem"
      ]
    },
    {
      "cell_type": "markdown",
      "metadata": {
        "id": "ma8m2sxQwQR2"
      },
      "source": [
        "1. Write a program to reverse a string."
      ]
    },
    {
      "cell_type": "code",
      "execution_count": null,
      "metadata": {
        "colab": {
          "base_uri": "https://localhost:8080/"
        },
        "id": "bhmfJbjXwMB6",
        "outputId": "f143d3b1-1f50-4ce8-d1f1-b0a7bfa9be31"
      },
      "outputs": [
        {
          "output_type": "stream",
          "name": "stdout",
          "text": [
            "yadu"
          ]
        }
      ],
      "source": [
        "a = \"uday\"\n",
        "for i in a[::-1]:\n",
        "  print(i, end=\"\") # prints yadu"
      ]
    },
    {
      "cell_type": "markdown",
      "metadata": {
        "id": "kQ01sHDFwxlU"
      },
      "source": [
        "2. Check if a string is a palindrome."
      ]
    },
    {
      "cell_type": "code",
      "execution_count": null,
      "metadata": {
        "id": "Z5oQwnbqwmVY"
      },
      "outputs": [],
      "source": [
        "def is_palindrome(s):\n",
        "    # Convert the string to lowercase to ensure case-insensitive comparison\n",
        "    s = s.lower()\n",
        "\n",
        "    # Remove spaces and punctuation from the string\n",
        "    s = ''.join(e for e in s if e.isalnum())\n",
        "\n",
        "    # Compare the original string with its reverse\n",
        "    return s == s[::-1]\n",
        "\n",
        "s = \"A man, a plan, a canal: Panama\"\n",
        "result = is_palindrome(s)\n",
        "print(result)"
      ]
    },
    {
      "cell_type": "markdown",
      "metadata": {
        "id": "weJhzRXzxZ1w"
      },
      "source": [
        "3. Convert a string to uppercase."
      ]
    },
    {
      "cell_type": "code",
      "execution_count": null,
      "metadata": {
        "colab": {
          "base_uri": "https://localhost:8080/"
        },
        "id": "Ij1rSgOfxYpv",
        "outputId": "e6d755b9-6de6-4bd3-86fb-71a94e260096"
      },
      "outputs": [
        {
          "output_type": "stream",
          "name": "stdout",
          "text": [
            "Enter the string: uday\n",
            "UDAY\n"
          ]
        }
      ],
      "source": [
        "str1=input(\"Enter the string: \")\n",
        "a=str1.upper()\n",
        "print(a)"
      ]
    },
    {
      "cell_type": "markdown",
      "metadata": {
        "id": "Bg30j40RZGYV"
      },
      "source": [
        "4. Convert a string to lowercase."
      ]
    },
    {
      "cell_type": "code",
      "execution_count": null,
      "metadata": {
        "colab": {
          "base_uri": "https://localhost:8080/"
        },
        "id": "qFJbaZv-SsNR",
        "outputId": "bbd2e69e-3030-4fe1-fa69-4696a71cb1a9"
      },
      "outputs": [
        {
          "output_type": "stream",
          "name": "stdout",
          "text": [
            "Enter the string: UdaY\n",
            "uday\n"
          ]
        }
      ],
      "source": [
        "str1=input(\"Enter the string: \")\n",
        "a=str1.lower()\n",
        "print(a)"
      ]
    },
    {
      "cell_type": "markdown",
      "metadata": {
        "id": "HJ9zlL_vZO2e"
      },
      "source": [
        "5. Count the number of vowels in a string."
      ]
    },
    {
      "cell_type": "code",
      "execution_count": null,
      "metadata": {
        "colab": {
          "base_uri": "https://localhost:8080/"
        },
        "id": "kpGh8tQNZOfZ",
        "outputId": "5fea18ba-b8fb-4ae0-d8d5-5ab3cc26707e"
      },
      "outputs": [
        {
          "output_type": "execute_result",
          "data": {
            "text/plain": [
              "2"
            ]
          },
          "metadata": {},
          "execution_count": 5
        }
      ],
      "source": [
        "def count(str1):\n",
        "  count = 0\n",
        "  vol = 'a','e','i','o','u'\n",
        "  for i in str1:\n",
        "    if i in vol:\n",
        "      count +=1\n",
        "  return count\n",
        "str1 = \"uday\"\n",
        "count(str1)"
      ]
    },
    {
      "cell_type": "markdown",
      "metadata": {
        "id": "uT6hbEtrcnqP"
      },
      "source": [
        "6. Count the number of consonants in a string."
      ]
    },
    {
      "cell_type": "code",
      "execution_count": null,
      "metadata": {
        "colab": {
          "base_uri": "https://localhost:8080/"
        },
        "id": "_tfU6ZXXcgNW",
        "outputId": "d69611e3-1329-44ba-c4a3-1a93e6df52ee"
      },
      "outputs": [
        {
          "output_type": "execute_result",
          "data": {
            "text/plain": [
              "2"
            ]
          },
          "metadata": {},
          "execution_count": 6
        }
      ],
      "source": [
        "def count(str1):\n",
        "  str1=str1.lower()\n",
        "  count = 0\n",
        "  vol = 'a','e','i','o','u'\n",
        "  for i in str1:\n",
        "    if i not in vol:\n",
        "      count +=1\n",
        "  return count\n",
        "str1 = \"uday\"\n",
        "count(str1)"
      ]
    },
    {
      "cell_type": "markdown",
      "metadata": {
        "id": "kzFR2Db1c7bK"
      },
      "source": [
        "7. Remove all whitespaces from a string."
      ]
    },
    {
      "cell_type": "code",
      "execution_count": null,
      "metadata": {
        "colab": {
          "base_uri": "https://localhost:8080/",
          "height": 36
        },
        "id": "zbUVQaO5cgJ0",
        "outputId": "0c6ae413-7c3c-44d3-99bf-7cd5bb4a8cc6"
      },
      "outputs": [
        {
          "output_type": "execute_result",
          "data": {
            "text/plain": [
              "'udaypatil'"
            ],
            "application/vnd.google.colaboratory.intrinsic+json": {
              "type": "string"
            }
          },
          "metadata": {},
          "execution_count": 7
        }
      ],
      "source": [
        "def remo_space(a):\n",
        "  a=a.replace(\" \",'')\n",
        "  return a\n",
        "\n",
        "a= \"uday  patil\"\n",
        "a=a.replace(\" \",'')\n",
        "remo_space(a)\n"
      ]
    },
    {
      "cell_type": "markdown",
      "metadata": {
        "id": "-JxPss07d1sy"
      },
      "source": [
        "8. Find the length of a string without using the `len()` function."
      ]
    },
    {
      "cell_type": "code",
      "execution_count": null,
      "metadata": {
        "colab": {
          "base_uri": "https://localhost:8080/"
        },
        "id": "ULMFbCJ7dyJo",
        "outputId": "800d84ff-fec0-48f5-b02c-5d6f6a68b660"
      },
      "outputs": [
        {
          "output_type": "execute_result",
          "data": {
            "text/plain": [
              "4"
            ]
          },
          "metadata": {},
          "execution_count": 8
        }
      ],
      "source": [
        "\n",
        "def count(str1):\n",
        "  count=0\n",
        "  for i in str1:\n",
        "    count+=1\n",
        "  return count\n",
        "str1 = \"uday\"\n",
        "count(str1)"
      ]
    },
    {
      "cell_type": "markdown",
      "metadata": {
        "id": "9mOqyIYaea07"
      },
      "source": [
        "9. Check if a string contains a specific word."
      ]
    },
    {
      "cell_type": "code",
      "execution_count": null,
      "metadata": {
        "colab": {
          "base_uri": "https://localhost:8080/"
        },
        "id": "7DTZej_DefKm",
        "outputId": "502c94ca-d09d-4bb2-f017-33c2695727d5"
      },
      "outputs": [
        {
          "output_type": "stream",
          "name": "stdout",
          "text": [
            "Enter a string: i love india\n",
            "Enter the specific word to check for: love\n",
            "The string contains the word 'love'.\n"
          ]
        }
      ],
      "source": [
        "# Step 1: Input the string and the specific word\n",
        "input_string = input(\"Enter a string: \")\n",
        "specific_word = input(\"Enter the specific word to check for: \")\n",
        "\n",
        "# Step 2: Check if the specific word is present in the string using the 'in' keyword\n",
        "if specific_word in input_string:\n",
        "    # Step 3: Print message if word is present\n",
        "    print(f\"The string contains the word '{specific_word}'.\")\n",
        "else:\n",
        "    # Step 3: Print message if word is not present\n",
        "    print(f\"The string does not contain the word '{specific_word}'.\")"
      ]
    },
    {
      "cell_type": "markdown",
      "metadata": {
        "id": "X_iwxu-hfVBQ"
      },
      "source": [
        "10. Replace a word in a string with another word."
      ]
    },
    {
      "cell_type": "code",
      "execution_count": null,
      "metadata": {
        "colab": {
          "base_uri": "https://localhost:8080/"
        },
        "id": "JoSMZCIXfWtN",
        "outputId": "66388197-15d2-4f8f-e53a-3c0ae46698ab"
      },
      "outputs": [
        {
          "output_type": "stream",
          "name": "stdout",
          "text": [
            "Enter a sentence: i love india\n",
            "Enter the word to be replaced: i\n",
            "Enter the new word: we\n",
            "Modified string: we love wendwea\n"
          ]
        }
      ],
      "source": [
        "# Step 1: Accept the input string\n",
        "input_string = input(\"Enter a sentence: \")\n",
        "\n",
        "# Step 2: Accept the old word and the new word\n",
        "old_word = input(\"Enter the word to be replaced: \")\n",
        "new_word = input(\"Enter the new word: \")\n",
        "\n",
        "# Step 3: Replace the old word with the new word using string.replace() method\n",
        "modified_string = input_string.replace(old_word, new_word)\n",
        "\n",
        "# Step 4: Print the modified string\n",
        "print(\"Modified string:\", modified_string)"
      ]
    },
    {
      "cell_type": "markdown",
      "metadata": {
        "id": "3X-GE9W6goCO"
      },
      "source": [
        "11. Count the occurrences of a word in a string."
      ]
    },
    {
      "cell_type": "code",
      "execution_count": null,
      "metadata": {
        "colab": {
          "base_uri": "https://localhost:8080/"
        },
        "id": "wa38X0kVgR3Y",
        "outputId": "970bd3b3-9510-4109-bd46-5b9c10cd9008"
      },
      "outputs": [
        {
          "output_type": "stream",
          "name": "stdout",
          "text": [
            "The word 'sample' appears 1 times in the input string.\n"
          ]
        }
      ],
      "source": [
        "def count_word_occurrences(input_string, target_word):\n",
        "    # Step 1: Initialize a variable to keep track of the word count\n",
        "    word_count = 0\n",
        "\n",
        "    # Step 2: Split the input string into a list of words\n",
        "    words = input_string.split()\n",
        "\n",
        "    # Step 3: Iterate through each word in the list\n",
        "    for word in words:\n",
        "        # Step 4: Check if the current word matches the target word\n",
        "        if word == target_word:\n",
        "            # Step 5: Increment the word count if the words match\n",
        "            word_count += 1\n",
        "\n",
        "    # Step 6: Return the final word count\n",
        "    return word_count\n",
        "\n",
        "# Input string\n",
        "input_string = \"This is a sample sentence. This sentence contains the word 'sample' multiple times.\"\n",
        "\n",
        "# Target word to count\n",
        "target_word = \"sample\"\n",
        "\n",
        "# Call the function and print the result\n",
        "result = count_word_occurrences(input_string, target_word)\n",
        "print(f\"The word '{target_word}' appears {result} times in the input string.\")"
      ]
    },
    {
      "cell_type": "markdown",
      "metadata": {
        "id": "Tszx9kZ8bhiO"
      },
      "source": [
        "12. Find the first occurrence of a word in a string."
      ]
    },
    {
      "cell_type": "code",
      "execution_count": null,
      "metadata": {
        "colab": {
          "base_uri": "https://localhost:8080/"
        },
        "id": "HYZQCFblhRxt",
        "outputId": "fc3212b1-71a0-4cd0-88d3-beb5a0fe330d"
      },
      "outputs": [
        {
          "output_type": "execute_result",
          "data": {
            "text/plain": [
              "14"
            ]
          },
          "metadata": {},
          "execution_count": 12
        }
      ],
      "source": [
        "def find_occ(text,word):\n",
        "  index=text.find(word)\n",
        "  if index==-1:\n",
        "    return None\n",
        "\n",
        "  return index\n",
        "\n",
        "text = \"uday sudhakar patil dhiraj patil\"\n",
        "word =\"patil\"\n",
        "find_occ(text,word)"
      ]
    },
    {
      "cell_type": "markdown",
      "metadata": {
        "id": "M52X0r9ec0-0"
      },
      "source": [
        "12. Find the first occurrence of a word in a string."
      ]
    },
    {
      "cell_type": "code",
      "execution_count": null,
      "metadata": {
        "colab": {
          "base_uri": "https://localhost:8080/"
        },
        "id": "NfnygKEMc8uY",
        "outputId": "b6704742-cdbd-4143-8241-0127edf6817d"
      },
      "outputs": [
        {
          "output_type": "execute_result",
          "data": {
            "text/plain": [
              "27"
            ]
          },
          "metadata": {},
          "execution_count": 13
        }
      ],
      "source": [
        "def find_occ(text,word):\n",
        "  index=text.rfind(word)\n",
        "  if index==-1:\n",
        "    return None\n",
        "\n",
        "  return index\n",
        "\n",
        "text = \"uday sudhakar patil dhiraj patil\"\n",
        "word =\"patil\"\n",
        "find_occ(text,word)"
      ]
    },
    {
      "cell_type": "markdown",
      "metadata": {
        "id": "tM-NDhrYddRe"
      },
      "source": [
        "14. Split a string into a list of words.\n"
      ]
    },
    {
      "cell_type": "code",
      "execution_count": null,
      "metadata": {
        "colab": {
          "base_uri": "https://localhost:8080/"
        },
        "id": "1QpOEGV7dbk3",
        "outputId": "9fa3e944-517d-4874-8d47-62feb065802d"
      },
      "outputs": [
        {
          "output_type": "stream",
          "name": "stdout",
          "text": [
            "List of words: ['This', 'is', 'an', 'example', 'sentence.']\n"
          ]
        }
      ],
      "source": [
        "def split_string_into_words(text):\n",
        "    # Step 1: Use the split() method to split the text into a list of words.\n",
        "    words_list = text.split()\n",
        "\n",
        "    # Step 2: Return the list of words.\n",
        "    return words_list\n",
        "\n",
        "# Example usage\n",
        "text = \"This is an example sentence.\"\n",
        "words = split_string_into_words(text)\n",
        "print(\"List of words:\", words)"
      ]
    },
    {
      "cell_type": "markdown",
      "metadata": {
        "id": "38S0EVkkd8Hf"
      },
      "source": [
        "15. Join a list of words into a string."
      ]
    },
    {
      "cell_type": "code",
      "execution_count": null,
      "metadata": {
        "colab": {
          "base_uri": "https://localhost:8080/",
          "height": 36
        },
        "id": "6JxiqEGsd-P9",
        "outputId": "1f968cae-844f-4271-8605-0c64b39cdf32"
      },
      "outputs": [
        {
          "output_type": "execute_result",
          "data": {
            "text/plain": [
              "'uday sudhakar patil'"
            ],
            "application/vnd.google.colaboratory.intrinsic+json": {
              "type": "string"
            }
          },
          "metadata": {},
          "execution_count": 15
        }
      ],
      "source": [
        "def join(list1):\n",
        "  join_str = ' '.join(list1)\n",
        "  return join_str\n",
        "\n",
        "list1=['uday','sudhakar','patil']\n",
        "join(list1)"
      ]
    },
    {
      "cell_type": "markdown",
      "metadata": {
        "id": "vDgUY7TJWvYz"
      },
      "source": [
        "16. Convert a string where words are separated by spaces to one where words\n",
        "are separated by underscores."
      ]
    },
    {
      "cell_type": "code",
      "execution_count": null,
      "metadata": {
        "colab": {
          "base_uri": "https://localhost:8080/"
        },
        "id": "G9ZNquEmWzA1",
        "outputId": "413f5b54-840b-4ac3-b2fe-b93c2ea6f552"
      },
      "outputs": [
        {
          "output_type": "stream",
          "name": "stdout",
          "text": [
            "Converted text: This_is_an_example_sentence.\n"
          ]
        }
      ],
      "source": [
        "def convert_to_underscore_separated(text):\n",
        "    # Step 1: Use the replace() method to replace spaces with underscores.\n",
        "    underscore_separated = text.replace(\" \", \"_\")\n",
        "\n",
        "    # Step 2: Return the converted string.\n",
        "    return underscore_separated\n",
        "\n",
        "# Example usage\n",
        "text = \"This is an example sentence.\"\n",
        "converted_text = convert_to_underscore_separated(text)\n",
        "print(\"Converted text:\", converted_text)"
      ]
    },
    {
      "cell_type": "markdown",
      "metadata": {
        "id": "-47KwU7tXCgR"
      },
      "source": [
        "17. Check if a string starts with a specific word or phrase\\"
      ]
    },
    {
      "cell_type": "code",
      "execution_count": null,
      "metadata": {
        "colab": {
          "base_uri": "https://localhost:8080/"
        },
        "id": "Lp98eAknXEeE",
        "outputId": "b6caf5b4-71bb-412c-e2d1-fd1b96fc1d48"
      },
      "outputs": [
        {
          "output_type": "stream",
          "name": "stdout",
          "text": [
            "The text starts with the prefix.\n"
          ]
        }
      ],
      "source": [
        "def starts_with(text, prefix):\n",
        "    # Step 1: Use the startswith() method to check if the text starts with the specified prefix.\n",
        "    is_start = text.startswith(prefix)\n",
        "\n",
        "    # Step 2: Return the result of the check.\n",
        "    return is_start\n",
        "\n",
        "# Example usage\n",
        "text = \"Hello, world!\"\n",
        "prefix = \"Hello\"\n",
        "result = starts_with(text, prefix)\n",
        "if result:\n",
        "    print(\"The text starts with the prefix.\")\n",
        "else:\n",
        "    print(\"The text does not start with the prefix.\")"
      ]
    },
    {
      "cell_type": "markdown",
      "metadata": {
        "id": "GG9YkMntYYt4"
      },
      "source": [
        "18. Check if a string ends with a specific word or phrase."
      ]
    },
    {
      "cell_type": "code",
      "execution_count": null,
      "metadata": {
        "colab": {
          "base_uri": "https://localhost:8080/"
        },
        "id": "nG8EG3bJYVog",
        "outputId": "b13a84cf-19b8-4f96-bb60-f682697d1510"
      },
      "outputs": [
        {
          "output_type": "stream",
          "name": "stdout",
          "text": [
            "The text starts with the prefix.\n"
          ]
        }
      ],
      "source": [
        "def starts_with(text, prefix):\n",
        "    # Step 1: Use the startswith() method to check if the text starts with the specified prefix.\n",
        "    is_start = text.endswith(prefix)\n",
        "\n",
        "    # Step 2: Return the result of the check.\n",
        "    return is_start\n",
        "\n",
        "# Example usage\n",
        "text = \"Hello, world!\"\n",
        "prefix = \"world!\"\n",
        "result = starts_with(text, prefix)\n",
        "if result:\n",
        "    print(\"The text starts with the prefix.\")\n",
        "else:\n",
        "    print(\"The text does not start with the prefix.\")"
      ]
    },
    {
      "cell_type": "markdown",
      "metadata": {
        "id": "At0DUw1iYsz2"
      },
      "source": [
        "19. Convert a string to title case (e.g., \"hello world\" to \"Hello World\")."
      ]
    },
    {
      "cell_type": "code",
      "execution_count": null,
      "metadata": {
        "colab": {
          "base_uri": "https://localhost:8080/"
        },
        "id": "scMlDG-qYsC4",
        "outputId": "b887a18c-8319-4809-fba3-330c4eeed455"
      },
      "outputs": [
        {
          "output_type": "stream",
          "name": "stdout",
          "text": [
            "Title case: Hello World\n"
          ]
        }
      ],
      "source": [
        "def convert_to_title_case(text):\n",
        "    # Step 1: Use the title() method to convert the text to title case.\n",
        "    title_case_text = text.title()\n",
        "\n",
        "    # Step 2: Return the converted text.\n",
        "    return title_case_text\n",
        "\n",
        "# Example usage\n",
        "text = \"hello world\"\n",
        "title_case_result = convert_to_title_case(text)\n",
        "print(\"Title case:\", title_case_result)"
      ]
    },
    {
      "cell_type": "markdown",
      "metadata": {
        "id": "zr7bCL_SZGkd"
      },
      "source": [
        "20. Find the longest word in a string."
      ]
    },
    {
      "cell_type": "code",
      "execution_count": null,
      "metadata": {
        "colab": {
          "base_uri": "https://localhost:8080/",
          "height": 36
        },
        "id": "CGWIR1jLZH5Q",
        "outputId": "1351e119-3723-478a-8421-4c99a4c34e2d"
      },
      "outputs": [
        {
          "output_type": "execute_result",
          "data": {
            "text/plain": [
              "'india'"
            ],
            "application/vnd.google.colaboratory.intrinsic+json": {
              "type": "string"
            }
          },
          "metadata": {},
          "execution_count": 20
        }
      ],
      "source": [
        "def long_word(text):\n",
        "  words = text.split()\n",
        "  long_word=\"\"\n",
        "  max_len=0\n",
        "  for word in words:\n",
        "    if len(word)>max_len:\n",
        "      max_len=len(word)\n",
        "      long_word=word\n",
        "  return long_word\n",
        "\n",
        "text = \"i love india\"\n",
        "long_word(text)"
      ]
    },
    {
      "cell_type": "markdown",
      "metadata": {
        "id": "W_CdA2V-b9wG"
      },
      "source": [
        "21. Find the shortest word in a string.\n"
      ]
    },
    {
      "cell_type": "code",
      "execution_count": null,
      "metadata": {
        "colab": {
          "base_uri": "https://localhost:8080/",
          "height": 36
        },
        "id": "10ag1cFocBaf",
        "outputId": "b8cb1f60-4584-4adb-b651-dcfc007ba964"
      },
      "outputs": [
        {
          "output_type": "execute_result",
          "data": {
            "text/plain": [
              "'i'"
            ],
            "application/vnd.google.colaboratory.intrinsic+json": {
              "type": "string"
            }
          },
          "metadata": {},
          "execution_count": 21
        }
      ],
      "source": [
        "def short_word(text):\n",
        "  words =text.split()\n",
        "  short_word=''\n",
        "  min_len=float('inf')\n",
        "  for word in words:\n",
        "    if len(word) < min_len:\n",
        "      min_len=len(word)\n",
        "      short_word=word\n",
        "  return short_word\n",
        "\n",
        "text = \"i love india\"\n",
        "short_word(text)"
      ]
    },
    {
      "cell_type": "markdown",
      "metadata": {
        "id": "5dI1iUbndzD9"
      },
      "source": [
        "22. Reverse the order of words in a string.\n"
      ]
    },
    {
      "cell_type": "code",
      "execution_count": null,
      "metadata": {
        "colab": {
          "base_uri": "https://localhost:8080/"
        },
        "id": "vkWzoYoremFl",
        "outputId": "d5fbc237-e44e-4db1-8cd3-6de6acf84b74"
      },
      "outputs": [
        {
          "output_type": "stream",
          "name": "stdout",
          "text": [
            "country great is india\n"
          ]
        }
      ],
      "source": [
        "def reverse(text):\n",
        "  str1=text.split()\n",
        "  str1.reverse()\n",
        "  print(\" \".join(str1))\n",
        "text = \"india is great country\"\n",
        "reverse(text)"
      ]
    },
    {
      "cell_type": "markdown",
      "metadata": {
        "id": "pqjlnLGmLOiM"
      },
      "source": [
        "23.Check if a string is alphanumeric."
      ]
    },
    {
      "cell_type": "code",
      "execution_count": null,
      "metadata": {
        "colab": {
          "base_uri": "https://localhost:8080/"
        },
        "id": "I0nWX2pJLVhV",
        "outputId": "b9f3629b-1c22-4255-ce40-ded44523cdc6"
      },
      "outputs": [
        {
          "output_type": "stream",
          "name": "stdout",
          "text": [
            "yes\n"
          ]
        }
      ],
      "source": [
        "def check(text):\n",
        "  if text.isalnum():\n",
        "    print(\"yes\")\n",
        "  else:\n",
        "    print(\"No\")\n",
        "text=\"uday3101\"\n",
        "check(text)"
      ]
    },
    {
      "cell_type": "markdown",
      "metadata": {
        "id": "pNxkiZ5TLvgP"
      },
      "source": [
        "24. Extract all digits from a string."
      ]
    },
    {
      "cell_type": "code",
      "execution_count": null,
      "metadata": {
        "colab": {
          "base_uri": "https://localhost:8080/",
          "height": 36
        },
        "id": "EfiB_V8PLvIM",
        "outputId": "3ec765fa-52ab-493e-d06b-75d1a3747538"
      },
      "outputs": [
        {
          "output_type": "execute_result",
          "data": {
            "text/plain": [
              "'3101'"
            ],
            "application/vnd.google.colaboratory.intrinsic+json": {
              "type": "string"
            }
          },
          "metadata": {},
          "execution_count": 24
        }
      ],
      "source": [
        "def check(text):\n",
        "  digit= \"\"\n",
        "  for i in text:\n",
        "    if i.isdigit():\n",
        "      digit+=i\n",
        "  return digit\n",
        "text=\"uday3101\"\n",
        "check(text)"
      ]
    },
    {
      "cell_type": "markdown",
      "metadata": {
        "id": "7qo2fUDtQXxk"
      },
      "source": [
        "25. Extract all alphabets from a string."
      ]
    },
    {
      "cell_type": "code",
      "execution_count": null,
      "metadata": {
        "colab": {
          "base_uri": "https://localhost:8080/",
          "height": 36
        },
        "id": "qe6UXdS_QXFj",
        "outputId": "a4c63770-d769-460e-8462-a36d3fe660be"
      },
      "outputs": [
        {
          "output_type": "execute_result",
          "data": {
            "text/plain": [
              "'uday'"
            ],
            "application/vnd.google.colaboratory.intrinsic+json": {
              "type": "string"
            }
          },
          "metadata": {},
          "execution_count": 25
        }
      ],
      "source": [
        "def check(text):\n",
        "  digit= \"\"\n",
        "  for i in text:\n",
        "    if i.isalpha():\n",
        "      digit+=i\n",
        "  return digit\n",
        "text=\"uday3101\"\n",
        "check(text)"
      ]
    },
    {
      "cell_type": "markdown",
      "metadata": {
        "id": "JIvTo3ECQz4E"
      },
      "source": [
        "26. Count the number of uppercase letters in a string."
      ]
    },
    {
      "cell_type": "code",
      "execution_count": null,
      "metadata": {
        "colab": {
          "base_uri": "https://localhost:8080/"
        },
        "id": "hEisDdiYQzV4",
        "outputId": "e4c82c5d-6380-4cc3-c1e3-0c3751e1a914"
      },
      "outputs": [
        {
          "output_type": "stream",
          "name": "stdout",
          "text": [
            "6\n"
          ]
        }
      ],
      "source": [
        "def count_uppercase(input_string):\n",
        "    uppercase_count = sum(1 for char in input_string if char.isupper())\n",
        "    return uppercase_count\n",
        "\n",
        "# Example input string\n",
        "input_string = \"HelloWORLD\"\n",
        "result = count_uppercase(input_string)\n",
        "print(result)"
      ]
    },
    {
      "cell_type": "markdown",
      "metadata": {
        "id": "vOBB8VjsRf24"
      },
      "source": [
        "27. Count the number of lowercase letters in a string."
      ]
    },
    {
      "cell_type": "code",
      "execution_count": null,
      "metadata": {
        "colab": {
          "base_uri": "https://localhost:8080/"
        },
        "id": "FBOQ20SWS3on",
        "outputId": "1370527b-a787-4dfc-abfe-1cb2d39209e2"
      },
      "outputs": [
        {
          "output_type": "stream",
          "name": "stdout",
          "text": [
            "4\n"
          ]
        }
      ],
      "source": [
        "def count_lowercase(input_string):\n",
        "    lowercase_count = sum(1 for char in input_string if char.islower())\n",
        "    return lowercase_count\n",
        "\n",
        "# Example input string\n",
        "input_string = \"HelloWORLD\"\n",
        "result = count_lowercase(input_string)\n",
        "print(result)"
      ]
    },
    {
      "cell_type": "markdown",
      "metadata": {
        "id": "V_ynFMaPTTKR"
      },
      "source": [
        "28. Swap the case of each character in a string."
      ]
    },
    {
      "cell_type": "code",
      "execution_count": null,
      "metadata": {
        "colab": {
          "base_uri": "https://localhost:8080/"
        },
        "id": "oA3cw6UiT_23",
        "outputId": "eb2294e6-c646-4408-8930-9901a95e7756"
      },
      "outputs": [
        {
          "output_type": "execute_result",
          "data": {
            "text/plain": [
              "10"
            ]
          },
          "metadata": {},
          "execution_count": 28
        }
      ],
      "source": [
        "def check(text):\n",
        "  digit=0\n",
        "  for i in text:\n",
        "    digit +=1\n",
        "  return digit\n",
        "text=\"HelloWORLD\"\n",
        "check(text)\n"
      ]
    },
    {
      "cell_type": "code",
      "execution_count": null,
      "metadata": {
        "colab": {
          "base_uri": "https://localhost:8080/"
        },
        "id": "YXS30nXLVcLk",
        "outputId": "d89dddee-eb9e-4125-d7f0-4ccaf02220ae"
      },
      "outputs": [
        {
          "output_type": "stream",
          "name": "stdout",
          "text": [
            "hELLOworld\n"
          ]
        }
      ],
      "source": [
        "def swap_case(input_string):\n",
        "    swapped_string = input_string.swapcase()\n",
        "    return swapped_string\n",
        "\n",
        "# Example input string\n",
        "input_string = \"HelloWORLD\"\n",
        "result = swap_case(input_string)\n",
        "print(result)"
      ]
    },
    {
      "cell_type": "markdown",
      "metadata": {
        "id": "FqEDRRF7WlCz"
      },
      "source": [
        "29. Remove a specific word from a string."
      ]
    },
    {
      "cell_type": "code",
      "execution_count": null,
      "metadata": {
        "colab": {
          "base_uri": "https://localhost:8080/"
        },
        "id": "lMrvFsVPWnve",
        "outputId": "3443bc6c-fb55-498f-88a3-acb30d21ecc9"
      },
      "outputs": [
        {
          "output_type": "stream",
          "name": "stdout",
          "text": [
            "Hello world, welcome to the of programming.\n"
          ]
        }
      ],
      "source": [
        "def remove_word(input_string, word_to_remove):\n",
        "    words = input_string.split()  # Split the input string into a list of words\n",
        "    filtered_words = [word for word in words if word != word_to_remove]  # Create a new list excluding the word to remove\n",
        "    modified_string = ' '.join(filtered_words)  # Join the filtered words back into a string\n",
        "    return modified_string\n",
        "\n",
        "# Example input string and word to remove\n",
        "input_string = \"Hello world, welcome to the world of programming.\"\n",
        "word_to_remove = \"world\"\n",
        "result = remove_word(input_string, word_to_remove)\n",
        "print(result)"
      ]
    },
    {
      "cell_type": "markdown",
      "metadata": {
        "id": "IVHajTo8ZG7h"
      },
      "source": [
        "30. Check if a string is a valid email address."
      ]
    },
    {
      "cell_type": "code",
      "execution_count": null,
      "metadata": {
        "colab": {
          "base_uri": "https://localhost:8080/"
        },
        "id": "hJT3tdtEZKNp",
        "outputId": "463f1510-b32c-488f-a926-0b501ae3ebf5"
      },
      "outputs": [
        {
          "output_type": "stream",
          "name": "stdout",
          "text": [
            "The email address is valid.\n"
          ]
        }
      ],
      "source": [
        "# prompt: Check if a string is a valid email address. not using re simple way\n",
        "\n",
        "def is_valid_email(email):\n",
        "  \"\"\"\n",
        "  This function checks if a string is a valid email address.\n",
        "\n",
        "  Args:\n",
        "    email: The string to be checked.\n",
        "\n",
        "  Returns:\n",
        "    True if the string is a valid email address, False otherwise.\n",
        "  \"\"\"\n",
        "\n",
        "  # Check if the string contains the \"@\" symbol.\n",
        "  if \"@\" not in email:\n",
        "    return False\n",
        "\n",
        "  # Split the string into the local part and the domain part.\n",
        "  local_part, domain_part = email.split(\"@\")\n",
        "\n",
        "  # Check if the local part is valid.\n",
        "  if not local_part:\n",
        "    return False\n",
        "  for char in local_part:\n",
        "    if not char.isalnum() and char not in \".-_\":\n",
        "      return False\n",
        "\n",
        "  # Check if the domain part is valid.\n",
        "  if not domain_part:\n",
        "    return False\n",
        "  for char in domain_part:\n",
        "    if not char.isalnum() and char not in \".-\":\n",
        "      return False\n",
        "\n",
        "  # Check if the domain part contains a period.\n",
        "  if \".\" not in domain_part:\n",
        "    return False\n",
        "\n",
        "  return True\n",
        "\n",
        "\n",
        "# Example usage\n",
        "email = \"uday.patil@example.com\"\n",
        "if is_valid_email(email):\n",
        "  print(\"The email address is valid.\")\n",
        "else:\n",
        "  print(\"The email address is invalid.\")\n"
      ]
    },
    {
      "cell_type": "markdown",
      "metadata": {
        "id": "gDvVBjAGa0yK"
      },
      "source": [
        "31. Extract the username from an email address string."
      ]
    },
    {
      "cell_type": "code",
      "execution_count": null,
      "metadata": {
        "colab": {
          "base_uri": "https://localhost:8080/",
          "height": 36
        },
        "id": "fxdlekuga4os",
        "outputId": "15823cb6-77de-4e5c-e1fa-a900734eaf1a"
      },
      "outputs": [
        {
          "output_type": "execute_result",
          "data": {
            "text/plain": [
              "'uday.patil'"
            ],
            "application/vnd.google.colaboratory.intrinsic+json": {
              "type": "string"
            }
          },
          "metadata": {},
          "execution_count": 32
        }
      ],
      "source": [
        "def extract_username(email):\n",
        "  local_part=email.split(\"@\")\n",
        "  return local_part[0]\n",
        "email = \"uday.patil@example.com\"\n",
        "extract_username(email)"
      ]
    },
    {
      "cell_type": "markdown",
      "metadata": {
        "id": "6gnxzXQta0lD"
      },
      "source": []
    },
    {
      "cell_type": "markdown",
      "metadata": {
        "id": "WtYkp50UbKnk"
      },
      "source": [
        "32. Extract the domain name from an email address string."
      ]
    },
    {
      "cell_type": "code",
      "execution_count": null,
      "metadata": {
        "colab": {
          "base_uri": "https://localhost:8080/",
          "height": 36
        },
        "id": "tfcFvqjFbN-L",
        "outputId": "76721cb3-b9d1-49df-8f6b-a1249a05c41b"
      },
      "outputs": [
        {
          "output_type": "execute_result",
          "data": {
            "text/plain": [
              "'example.com'"
            ],
            "application/vnd.google.colaboratory.intrinsic+json": {
              "type": "string"
            }
          },
          "metadata": {},
          "execution_count": 33
        }
      ],
      "source": [
        "def extract_username(email):\n",
        "  local_part=email.split(\"@\")\n",
        "  return local_part[1]\n",
        "email = \"uday.patil@example.com\"\n",
        "extract_username(email)"
      ]
    },
    {
      "cell_type": "markdown",
      "metadata": {
        "id": "kKWNjZVKbUuq"
      },
      "source": [
        "33. Replace multiple spaces in a string with a single space."
      ]
    },
    {
      "cell_type": "code",
      "execution_count": null,
      "metadata": {
        "colab": {
          "base_uri": "https://localhost:8080/"
        },
        "id": "XpAUXkOdbSac",
        "outputId": "1bfec2f5-2e31-41c7-e480-6f4b85775d60"
      },
      "outputs": [
        {
          "output_type": "stream",
          "name": "stdout",
          "text": [
            "Hello world! How are you?\n"
          ]
        }
      ],
      "source": [
        "def replace_multiple_spaces(input_string):\n",
        "    cleaned_string = ' '.join(input_string.split())  # Split the string at spaces and then join using a single space\n",
        "    return cleaned_string\n",
        "\n",
        "# Example input string with multiple spaces\n",
        "input_string = \"Hello     world!   How   are   you?\"\n",
        "result = replace_multiple_spaces(input_string)\n",
        "print(result)"
      ]
    },
    {
      "cell_type": "markdown",
      "metadata": {
        "id": "e06Tt71ecKQZ"
      },
      "source": [
        "34. Check if a string is a valid URL.\n",
        "\n",
        "> Add blockquote\n",
        "\n"
      ]
    },
    {
      "cell_type": "code",
      "execution_count": null,
      "metadata": {
        "colab": {
          "base_uri": "https://localhost:8080/"
        },
        "id": "lqwDInAZcXhi",
        "outputId": "c010a515-8372-4a61-c8ce-4251225a7139"
      },
      "outputs": [
        {
          "output_type": "stream",
          "name": "stdout",
          "text": [
            "True\n",
            "False\n"
          ]
        }
      ],
      "source": [
        "from urllib.parse import urlparse\n",
        "\n",
        "def is_valid_url(url):\n",
        "    try:\n",
        "        result = urlparse(url)\n",
        "        return all([result.scheme, result.netloc])  # Check if both scheme and netloc are present\n",
        "    except ValueError:\n",
        "        return False\n",
        "\n",
        "# Example URLs\n",
        "url1 = \"https://www.example.com\"\n",
        "url2 = \"invalid-url\"\n",
        "result1 = is_valid_url(url1)\n",
        "result2 = is_valid_url(url2)\n",
        "print(result1)  # Should print True\n",
        "print(result2)  # Should print False"
      ]
    },
    {
      "cell_type": "markdown",
      "metadata": {
        "id": "Vm8FDtVodpEN"
      },
      "source": [
        "35. Extract the protocol (http or https) from a URL string."
      ]
    },
    {
      "cell_type": "code",
      "execution_count": null,
      "metadata": {
        "colab": {
          "base_uri": "https://localhost:8080/"
        },
        "id": "2JWwonaPdoqr",
        "outputId": "0648530c-cc87-4c95-a283-8c840e504ba6"
      },
      "outputs": [
        {
          "output_type": "stream",
          "name": "stdout",
          "text": [
            "Protocol 1: https\n",
            "Protocol 2: http\n",
            "Protocol 3: ftp\n"
          ]
        }
      ],
      "source": [
        "def extract_protocol(url):\n",
        "    # Find the index of the first occurrence of \"://\"\n",
        "    protocol_end = url.find(\"://\")\n",
        "\n",
        "    if protocol_end != -1:\n",
        "        # Extract the protocol from the URL\n",
        "        protocol = url[:protocol_end]\n",
        "        return protocol\n",
        "    else:\n",
        "        return None\n",
        "\n",
        "# Example URL strings\n",
        "url1 = \"https://www.example.com\"\n",
        "url2 = \"http://google.com\"\n",
        "url3 = \"ftp://ftp.example.com\"\n",
        "\n",
        "# Extract protocols\n",
        "protocol1 = extract_protocol(url1)\n",
        "protocol2 = extract_protocol(url2)\n",
        "protocol3 = extract_protocol(url3)\n",
        "\n",
        "# Print extracted protocols\n",
        "print(\"Protocol 1:\", protocol1)\n",
        "print(\"Protocol 2:\", protocol2)\n",
        "print(\"Protocol 3:\", protocol3)"
      ]
    },
    {
      "cell_type": "markdown",
      "metadata": {
        "id": "pAwx7LAjeVxj"
      },
      "source": [
        "36. Find the frequency of each character in a string."
      ]
    },
    {
      "cell_type": "code",
      "execution_count": null,
      "metadata": {
        "colab": {
          "base_uri": "https://localhost:8080/"
        },
        "id": "qSQOpzWmgZva",
        "outputId": "c93f47d5-73ab-47e2-e3a6-dba7d0177b2a"
      },
      "outputs": [
        {
          "output_type": "execute_result",
          "data": {
            "text/plain": [
              "3"
            ]
          },
          "metadata": {},
          "execution_count": 39
        }
      ],
      "source": [
        "a=\"i love india\"\n",
        "a.count('i')"
      ]
    },
    {
      "cell_type": "markdown",
      "metadata": {
        "id": "9f_DKX0bgxdb"
      },
      "source": [
        "37. Remove all punctuation from a string."
      ]
    },
    {
      "cell_type": "code",
      "execution_count": null,
      "metadata": {
        "colab": {
          "base_uri": "https://localhost:8080/",
          "height": 36
        },
        "id": "5tvbiBhtguED",
        "outputId": "27cf283d-c2c9-4cd0-cbcd-86495b9fad41"
      },
      "outputs": [
        {
          "output_type": "execute_result",
          "data": {
            "text/plain": [
              "'uday  patilhow are you '"
            ],
            "application/vnd.google.colaboratory.intrinsic+json": {
              "type": "string"
            }
          },
          "metadata": {},
          "execution_count": 40
        }
      ],
      "source": [
        "def removed(text):\n",
        "  punc = '''!()-[]{};:'\"\\,<>./?@#$%^&*_~'''\n",
        "  no_punc =\"\"\n",
        "  for i in text:\n",
        "    if i not in punc:\n",
        "      no_punc+=i\n",
        "  return no_punc\n",
        "\n",
        "text=\"uday ! patil,how are you ?\"\n",
        "removed(text)"
      ]
    },
    {
      "cell_type": "markdown",
      "metadata": {
        "id": "21i4AmAsRooh"
      },
      "source": [
        "38. Check if a string contains only digits."
      ]
    },
    {
      "cell_type": "code",
      "execution_count": null,
      "metadata": {
        "colab": {
          "base_uri": "https://localhost:8080/"
        },
        "id": "aH4RqgFuRv0u",
        "outputId": "db7e86bb-cfa6-4f47-c389-8f1bb850bc2f"
      },
      "outputs": [
        {
          "output_type": "execute_result",
          "data": {
            "text/plain": [
              "False"
            ]
          },
          "metadata": {},
          "execution_count": 41
        }
      ],
      "source": [
        "def check(text):\n",
        "  return text.isdigit()\n",
        "\n",
        "\n",
        "text=\"uda111\"\n",
        "check(text)"
      ]
    },
    {
      "cell_type": "markdown",
      "metadata": {
        "id": "u2Q2Oof_Toxm"
      },
      "source": [
        "39. Check if a string contains only alphabets."
      ]
    },
    {
      "cell_type": "code",
      "execution_count": null,
      "metadata": {
        "colab": {
          "base_uri": "https://localhost:8080/"
        },
        "id": "lBfJEm-UTsDE",
        "outputId": "e46f9443-2ab8-4082-caa5-b5deadcabfc2"
      },
      "outputs": [
        {
          "output_type": "execute_result",
          "data": {
            "text/plain": [
              "False"
            ]
          },
          "metadata": {},
          "execution_count": 43
        }
      ],
      "source": [
        "def check(text):\n",
        "  return text.isalpha()\n",
        "\n",
        "\n",
        "text=\"uda111\"\n",
        "check(text)"
      ]
    },
    {
      "cell_type": "markdown",
      "metadata": {
        "id": "zB1O5Y-TTvy1"
      },
      "source": [
        "40. Convert a string to a list of characters."
      ]
    },
    {
      "cell_type": "code",
      "execution_count": null,
      "metadata": {
        "colab": {
          "base_uri": "https://localhost:8080/"
        },
        "id": "GFz41fXATz6m",
        "outputId": "fff2451c-7f56-4aa0-e601-662df7b29d65"
      },
      "outputs": [
        {
          "output_type": "execute_result",
          "data": {
            "text/plain": [
              "['u', 'd', 'a', 'y', ' ', 'p', 'a', 't', 'i', 'l']"
            ]
          },
          "metadata": {},
          "execution_count": 44
        }
      ],
      "source": [
        "def convert1(text):\n",
        "  return list(text)\n",
        "\n",
        "text=\"uday patil\"\n",
        "convert1(text)\n"
      ]
    },
    {
      "cell_type": "markdown",
      "metadata": {
        "id": "NWHwhrD7UKBI"
      },
      "source": [
        "41. Check if two strings are anagrams."
      ]
    },
    {
      "cell_type": "code",
      "execution_count": null,
      "metadata": {
        "colab": {
          "base_uri": "https://localhost:8080/"
        },
        "id": "va1M7giMUN4j",
        "outputId": "653b2126-6d2e-484c-97a4-46e726a27982"
      },
      "outputs": [
        {
          "output_type": "stream",
          "name": "stdout",
          "text": [
            "'listen' and 'silent' are anagrams: True\n",
            "'hello' and 'world' are anagrams: False\n"
          ]
        }
      ],
      "source": [
        "def are_anagrams(str1, str2):\n",
        "    # Remove spaces and convert strings to lowercase for accurate comparison\n",
        "    str1 = str1.replace(\" \", \"\").lower()\n",
        "    str2 = str2.replace(\" \", \"\").lower()\n",
        "\n",
        "    # Sort the characters in both strings and compare\n",
        "    return sorted(str1) == sorted(str2)\n",
        "\n",
        "# Example strings\n",
        "string1 = \"listen\"\n",
        "string2 = \"silent\"\n",
        "string3 = \"hello\"\n",
        "string4 = \"world\"\n",
        "\n",
        "# Check if strings are anagrams\n",
        "result1 = are_anagrams(string1, string2)\n",
        "result2 = are_anagrams(string3, string4)\n",
        "\n",
        "# Print the results\n",
        "print(f\"'{string1}' and '{string2}' are anagrams:\", result1)\n",
        "print(f\"'{string3}' and '{string4}' are anagrams:\", result2)"
      ]
    },
    {
      "cell_type": "markdown",
      "metadata": {
        "id": "OKoayMNkV-g2"
      },
      "source": [
        "42. Encode a string using a Caesar cipher."
      ]
    },
    {
      "cell_type": "code",
      "execution_count": null,
      "metadata": {
        "id": "gYwKMySleft1"
      },
      "outputs": [],
      "source": [
        "# Define a function named caesar_cipher that encodes a string using a Caesar cipher.\n",
        "def caesar_cipher(text, shift):\n",
        "\n",
        "  # Initialize an empty string to store the encoded text.\n",
        "  encoded_text = \"\"\n",
        "\n",
        "  # Iterate through each character in the input text.\n",
        "  for char in text:\n",
        "    # Check if the character is alphabetic.\n",
        "    if char.isalpha():\n",
        "      # Calculate the encoded character's Unicode code point value by shifting it by the specified amount.\n",
        "      # Ensure the value wraps around within the lowercase alphabet range (a-z).\n",
        "      encoded_char = chr((ord(char) + shift - ord('a')) % 26 + ord('a'))\n",
        "    else:\n",
        "      # Keep non-alphabetic characters unchanged.\n",
        "      encoded_char = char\n",
        "\n",
        "    # Add the encoded character to the encoded text.\n",
        "    encoded_text += encoded_char\n",
        "\n",
        "  # Return the resulting encoded text.\n",
        "  return encoded_text\n",
        "\n",
        "# Define the input text and the shift value for encoding.\n",
        "text = \"Hello, world!\"\n",
        "shift = 3\n",
        "\n",
        "# Call the caesar_cipher function to encode the text using the specified shift.\n",
        "encoded_text = caesar_cipher(text, shift)\n",
        "\n",
        "# Print the encoded text.\n",
        "print(\"Encoded text:\", encoded_text)"
      ]
    },
    {
      "cell_type": "markdown",
      "metadata": {
        "id": "F9NdT_Efj9-e"
      },
      "source": [
        "43. Decode a Caesar cipher encoded string."
      ]
    },
    {
      "cell_type": "code",
      "execution_count": null,
      "metadata": {
        "colab": {
          "base_uri": "https://localhost:8080/"
        },
        "id": "yNtPzJz-k5og",
        "outputId": "1694324d-8ade-4eef-98a4-01df75e3ef2c"
      },
      "outputs": [
        {
          "output_type": "stream",
          "name": "stdout",
          "text": [
            "Decoded text: bello, world!\n"
          ]
        }
      ],
      "source": [
        "# Define a function to decode a string using a Caesar cipher\n",
        "def caesar_cipher_decoder(text, shift):\n",
        "\n",
        "    # Initialize an empty string to store the decoded text\n",
        "    decoded_text = \"\"\n",
        "\n",
        "    # Loop through each character in the input text\n",
        "    for char in text:\n",
        "        # Check if the character is an alphabetic character\n",
        "        if char.isalpha():\n",
        "            # Calculate the decoded character using the shift value\n",
        "            decoded_char = chr((ord(char) - shift - ord('a')) % 26 + ord('a'))\n",
        "        else:\n",
        "            # If the character is not alphabetic, keep it unchanged\n",
        "            decoded_char = char\n",
        "\n",
        "        # Add the decoded character to the decoded text\n",
        "        decoded_text += decoded_char\n",
        "\n",
        "    # Return the fully decoded text\n",
        "    return decoded_text\n",
        "\n",
        "# Example input\n",
        "text = \"ehoor, zruog!\"\n",
        "shift = 3\n",
        "\n",
        "# Call the caesar_cipher_decoder function to decode the input text\n",
        "decoded_text = caesar_cipher_decoder(text, shift)\n",
        "\n",
        "# Print the decoded text\n",
        "print(\"Decoded text:\", decoded_text)"
      ]
    },
    {
      "cell_type": "markdown",
      "metadata": {
        "id": "T6yf3WEZmXuK"
      },
      "source": [
        "\n",
        "44. Find the most frequent word in a string"
      ]
    },
    {
      "cell_type": "code",
      "execution_count": null,
      "metadata": {
        "colab": {
          "base_uri": "https://localhost:8080/"
        },
        "id": "5_gQhRB0mvXn",
        "outputId": "a8872676-c7a6-4133-c943-b12b47ec3d51"
      },
      "outputs": [
        {
          "output_type": "stream",
          "name": "stdout",
          "text": [
            "Most frequent word: like\n"
          ]
        }
      ],
      "source": [
        "def most_frequent_word(text):\n",
        "  words = text.split()\n",
        "  word_counts = {}\n",
        "  for word in words:\n",
        "    if word in word_counts:\n",
        "      word_counts[word] += 1\n",
        "    else:\n",
        "      word_counts[word] = 1\n",
        "  most_frequent_word = None\n",
        "  max_count = 0\n",
        "  for word, count in word_counts.items():\n",
        "    if count > max_count:\n",
        "      most_frequent_word = word\n",
        "      max_count = count\n",
        "  return most_frequent_word\n",
        "\n",
        "text = \"This is a sentence with some repeated words like like and like\"\n",
        "most_frequent_word = most_frequent_word(text)\n",
        "print(f\"Most frequent word: {most_frequent_word}\")\n"
      ]
    },
    {
      "cell_type": "markdown",
      "metadata": {
        "id": "eqsZPKHnmRd1"
      },
      "source": []
    },
    {
      "cell_type": "markdown",
      "metadata": {
        "id": "8Nj0gWHFv97L"
      },
      "source": [
        "45. Find all unique words in a string."
      ]
    },
    {
      "cell_type": "code",
      "execution_count": null,
      "metadata": {
        "colab": {
          "base_uri": "https://localhost:8080/"
        },
        "id": "MqbgoIh_we-u",
        "outputId": "79b80358-5300-4e29-899a-95004c823399"
      },
      "outputs": [
        {
          "output_type": "execute_result",
          "data": {
            "text/plain": [
              "['with',\n",
              " 'a',\n",
              " 'This',\n",
              " 'is',\n",
              " 'repeated',\n",
              " 'like',\n",
              " 'and',\n",
              " 'words',\n",
              " 'some',\n",
              " 'sentence']"
            ]
          },
          "metadata": {},
          "execution_count": 48
        }
      ],
      "source": [
        "def unique(text):\n",
        "  words = text.split()\n",
        "  unique_words = set()\n",
        "  for word in words:\n",
        "    unique_words.add(word)\n",
        "  return list(unique_words)\n",
        "\n",
        "text=\"This is a sentence with some repeated words like like and like\"\n",
        "unique(text)"
      ]
    },
    {
      "cell_type": "markdown",
      "metadata": {
        "id": "EPyC2ox5ycNv"
      },
      "source": [
        "46. Count the number of syllables in a string."
      ]
    },
    {
      "cell_type": "code",
      "execution_count": null,
      "metadata": {
        "colab": {
          "base_uri": "https://localhost:8080/"
        },
        "id": "DnotQE64yhxd",
        "outputId": "33a72e71-58dc-4504-d8d6-8be873d8c6ff"
      },
      "outputs": [
        {
          "output_type": "execute_result",
          "data": {
            "text/plain": [
              "2"
            ]
          },
          "metadata": {},
          "execution_count": 49
        }
      ],
      "source": [
        "# prompt: Count the number of syllables in a string. not use re\n",
        "\n",
        "def count_syllables(text):\n",
        "  count = 0\n",
        "  vowels = \"aeiou\"\n",
        "  text = text.lower()\n",
        "  if text[0] in vowels:\n",
        "    count += 1\n",
        "  for i in range(1, len(text)):\n",
        "    if text[i] in vowels and text[i-1] not in vowels:\n",
        "      count += 1\n",
        "  if text.endswith(\"e\"):\n",
        "    count -= 1\n",
        "  if count == 0:\n",
        "    count += 1\n",
        "  return count\n",
        "\n",
        "text = \"Hello\"\n",
        "count_syllables(text)\n"
      ]
    },
    {
      "cell_type": "markdown",
      "metadata": {
        "id": "ul6IqBmK37GU"
      },
      "source": [
        "47. Check if a string contains any special characters."
      ]
    },
    {
      "cell_type": "code",
      "execution_count": null,
      "metadata": {
        "colab": {
          "base_uri": "https://localhost:8080/"
        },
        "id": "g-GJydbU3_Ke",
        "outputId": "e0bf762c-d036-4a48-9748-fc751f40fe85"
      },
      "outputs": [
        {
          "output_type": "execute_result",
          "data": {
            "text/plain": [
              "True"
            ]
          },
          "metadata": {},
          "execution_count": 50
        }
      ],
      "source": [
        "def check(text):\n",
        "  special = '''!()-[]{};:'\"\\,<>./?@#$%^&*_~'''\n",
        "  for i in text:\n",
        "    if i in special:\n",
        "      return True\n",
        "  return False\n",
        "\n",
        "text=\"uday@3101\"\n",
        "check(text)"
      ]
    },
    {
      "cell_type": "markdown",
      "metadata": {
        "id": "TDW1Tkn18tbI"
      },
      "source": [
        "48. Remove the nth word from a string."
      ]
    },
    {
      "cell_type": "code",
      "execution_count": null,
      "metadata": {
        "id": "skFFFw4G8z3S"
      },
      "outputs": [],
      "source": [
        "def removed(text,number):\n",
        "  words = text.split()\n",
        "  words.pop(number)\n",
        "  return words\n",
        "text=\"i love rainy season\"\n",
        "number=2\n",
        "removed(text,number)"
      ]
    },
    {
      "cell_type": "markdown",
      "metadata": {
        "id": "-NiANqPa9ZR_"
      },
      "source": [
        "49. Insert a word at the nth position in a string."
      ]
    },
    {
      "cell_type": "code",
      "execution_count": null,
      "metadata": {
        "colab": {
          "base_uri": "https://localhost:8080/"
        },
        "id": "p_ME3-tj9diM",
        "outputId": "ac667f15-0b39-4b97-b945-e3a309cde967"
      },
      "outputs": [
        {
          "output_type": "execute_result",
          "data": {
            "text/plain": [
              "['i', 'love', 'uday', 'rainy', 'season']"
            ]
          },
          "metadata": {},
          "execution_count": 51
        }
      ],
      "source": [
        "def removed(text,number):\n",
        "  words = text.split()\n",
        "  words.insert(number,\"uday\")\n",
        "  return words\n",
        "text=\"i love rainy season\"\n",
        "number=2\n",
        "removed(text,number)"
      ]
    },
    {
      "cell_type": "markdown",
      "metadata": {
        "id": "8ksiIIHE9vQm"
      },
      "source": [
        "50. Convert a CSV string to a list of lists."
      ]
    },
    {
      "cell_type": "code",
      "execution_count": null,
      "metadata": {
        "colab": {
          "base_uri": "https://localhost:8080/"
        },
        "id": "yeIvMn_U91P8",
        "outputId": "02b331af-18b3-4e8a-e450-d7c9acf4ae3d"
      },
      "outputs": [
        {
          "output_type": "stream",
          "name": "stdout",
          "text": [
            "[['name', 'age', 'city'], ['John', '30', 'New York'], ['Jane', '25', 'London'], ['David', '40', 'Paris']]\n"
          ]
        }
      ],
      "source": [
        "\n",
        "\n",
        "def csv_to_list(csv_string):\n",
        "  rows = csv_string.split('\\n')\n",
        "  result = []\n",
        "  for row in rows:\n",
        "    values = row.split(',')\n",
        "    result.append(values)\n",
        "  return result\n",
        "\n",
        "csv_string = 'name,age,city\\nJohn,30,New York\\nJane,25,London\\nDavid,40,Paris'\n",
        "list_of_lists = csv_to_list(csv_string)\n",
        "print(list_of_lists)\n"
      ]
    },
    {
      "cell_type": "markdown",
      "metadata": {
        "id": "-GQJFo6KplKJ"
      },
      "source": [
        "#List Based Practice Problem :"
      ]
    },
    {
      "cell_type": "markdown",
      "metadata": {
        "id": "SxEUzXo0p27p"
      },
      "source": [
        "1. Create a list with integers from 1 to 10."
      ]
    },
    {
      "cell_type": "code",
      "execution_count": null,
      "metadata": {
        "colab": {
          "base_uri": "https://localhost:8080/"
        },
        "id": "j1AmG9zaqdSw",
        "outputId": "a5dd33bd-cc96-48af-b455-b3e3858a4b28"
      },
      "outputs": [
        {
          "output_type": "stream",
          "name": "stdout",
          "text": [
            "[1, 2, 3, 4, 5, 6, 7, 8, 9, 10]\n"
          ]
        }
      ],
      "source": [
        "a=[i for i in range(1,11)]\n",
        "print(a)\n"
      ]
    },
    {
      "cell_type": "markdown",
      "metadata": {
        "id": "tcewGI-arJ8Q"
      },
      "source": [
        "2. Find the length of a list without using the `len()` function."
      ]
    },
    {
      "cell_type": "code",
      "execution_count": null,
      "metadata": {
        "colab": {
          "base_uri": "https://localhost:8080/"
        },
        "id": "lzlCJRKrrMiv",
        "outputId": "f459e335-ab04-40d9-c345-c92e934291a9"
      },
      "outputs": [
        {
          "output_type": "execute_result",
          "data": {
            "text/plain": [
              "10"
            ]
          },
          "metadata": {},
          "execution_count": 54
        }
      ],
      "source": [
        "def find_len(a):\n",
        "  count=0\n",
        "  for i in a:\n",
        "    count+=1\n",
        "  return count\n",
        "a=[1, 2, 3, 4, 5, 6, 7, 8, 9, 10]\n",
        "find_len(a)\n"
      ]
    },
    {
      "cell_type": "markdown",
      "metadata": {
        "id": "HpsNVS61rqo1"
      },
      "source": [
        "3. Append an element to the end of a list."
      ]
    },
    {
      "cell_type": "code",
      "execution_count": null,
      "metadata": {
        "colab": {
          "base_uri": "https://localhost:8080/"
        },
        "id": "-lfMCvHQsFCf",
        "outputId": "aef0b991-6c8f-4b8e-e256-c5f8bdd0c5b6"
      },
      "outputs": [
        {
          "output_type": "execute_result",
          "data": {
            "text/plain": [
              "[1, 2, 3, 4, 5, 6, 7, 8, 9, 10, 3]"
            ]
          },
          "metadata": {},
          "execution_count": 55
        }
      ],
      "source": [
        "def inster(a):\n",
        "  a.append(3)\n",
        "  return a\n",
        "\n",
        "a=[1, 2, 3, 4, 5, 6, 7, 8, 9, 10]\n",
        "inster(a)\n"
      ]
    },
    {
      "cell_type": "markdown",
      "metadata": {
        "id": "eh9WlweLsWWm"
      },
      "source": [
        "4. Insert an element at a specific index in a list."
      ]
    },
    {
      "cell_type": "code",
      "execution_count": null,
      "metadata": {
        "colab": {
          "base_uri": "https://localhost:8080/"
        },
        "id": "V-ms73vKsx-z",
        "outputId": "6dc254bb-febd-4b19-f4cb-27e64ac751b4"
      },
      "outputs": [
        {
          "output_type": "execute_result",
          "data": {
            "text/plain": [
              "[1, 2, 3, 22, 4, 5, 6, 7, 8, 9, 10]"
            ]
          },
          "metadata": {},
          "execution_count": 56
        }
      ],
      "source": [
        "def inster(a):\n",
        "  a.insert(3,22)\n",
        "  return a\n",
        "a=[1, 2, 3, 4, 5, 6, 7, 8, 9, 10]\n",
        "inster(a)"
      ]
    },
    {
      "cell_type": "markdown",
      "metadata": {
        "id": "WfIRfSW8tcTy"
      },
      "source": [
        "5. Remove an element from a list by its value."
      ]
    },
    {
      "cell_type": "code",
      "execution_count": null,
      "metadata": {
        "colab": {
          "base_uri": "https://localhost:8080/"
        },
        "id": "XGei0sActrl9",
        "outputId": "05deba0e-72c9-4e76-a7e2-382af8b2641f"
      },
      "outputs": [
        {
          "output_type": "execute_result",
          "data": {
            "text/plain": [
              "[1, 2, 4, 5, 6, 7, 8, 9, 10]"
            ]
          },
          "metadata": {},
          "execution_count": 57
        }
      ],
      "source": [
        "def removed(a):\n",
        "  a.remove(3)\n",
        "  return a\n",
        "a=[1, 2, 3, 4, 5, 6, 7, 8, 9, 10]\n",
        "removed(a)"
      ]
    },
    {
      "cell_type": "markdown",
      "metadata": {
        "id": "fqxNMWbxuUVg"
      },
      "source": [
        "6. Remove an element from a list by its index."
      ]
    },
    {
      "cell_type": "code",
      "execution_count": null,
      "metadata": {
        "colab": {
          "base_uri": "https://localhost:8080/"
        },
        "id": "_4VMusTXucJo",
        "outputId": "9ced18a1-e9fc-4d91-b7d3-a1d643f195ad"
      },
      "outputs": [
        {
          "output_type": "execute_result",
          "data": {
            "text/plain": [
              "[1, 2, 3, 5, 6, 7, 8, 9, 10]"
            ]
          },
          "metadata": {},
          "execution_count": 58
        }
      ],
      "source": [
        "def removed(a):\n",
        "  a.pop(3)\n",
        "  return a\n",
        "a=[1, 2, 3, 4, 5, 6, 7, 8, 9, 10]\n",
        "removed(a)"
      ]
    },
    {
      "cell_type": "markdown",
      "metadata": {
        "id": "f9mjxVoEu3An"
      },
      "source": [
        "7. Check if an element exists in a list."
      ]
    },
    {
      "cell_type": "code",
      "execution_count": null,
      "metadata": {
        "colab": {
          "base_uri": "https://localhost:8080/"
        },
        "id": "0ZtZ94STu6MJ",
        "outputId": "6e641413-f910-4c12-c27f-4a73e65b5fef"
      },
      "outputs": [
        {
          "output_type": "stream",
          "name": "stdout",
          "text": [
            "present\n"
          ]
        }
      ],
      "source": [
        "a=[1, 2, 3, 4, 5, 6, 7, 8, 9, 10]\n",
        "target=3\n",
        "if target in a:\n",
        "  print(\"present\")\n",
        "else:\n",
        "  print(\"No\")\n"
      ]
    },
    {
      "cell_type": "markdown",
      "metadata": {
        "id": "AoUn8WqewjsT"
      },
      "source": [
        "8. Find the index of the first occurrence of an element in a list."
      ]
    },
    {
      "cell_type": "code",
      "execution_count": null,
      "metadata": {
        "colab": {
          "base_uri": "https://localhost:8080/"
        },
        "id": "V6PHWWQMwnZg",
        "outputId": "0ab0ea2b-9f02-4f0a-8f72-981ebe09207f"
      },
      "outputs": [
        {
          "output_type": "execute_result",
          "data": {
            "text/plain": [
              "2"
            ]
          },
          "metadata": {},
          "execution_count": 60
        }
      ],
      "source": [
        "a=[1, 2, 3, 4, 5, 6, 7, 8, 9, 10]\n",
        "target=3\n",
        "a=a.index(target)\n",
        "a"
      ]
    },
    {
      "cell_type": "markdown",
      "metadata": {
        "id": "b9iMwZNFxIL2"
      },
      "source": [
        "9. Count the occurrences of an element in a list."
      ]
    },
    {
      "cell_type": "code",
      "execution_count": null,
      "metadata": {
        "colab": {
          "base_uri": "https://localhost:8080/"
        },
        "id": "8gEFDl84xVJT",
        "outputId": "b461a725-73b2-433d-a763-06496ddab9b1"
      },
      "outputs": [
        {
          "output_type": "execute_result",
          "data": {
            "text/plain": [
              "3"
            ]
          },
          "metadata": {},
          "execution_count": 61
        }
      ],
      "source": [
        "a=[1, 2, 3, 4, 5, 3, 7, 3, 9, 10]\n",
        "target=3\n",
        "a=a.count(target)\n",
        "a"
      ]
    },
    {
      "cell_type": "markdown",
      "metadata": {
        "id": "fLC2wYBsxrXu"
      },
      "source": [
        "10. Reverse the order of elements in a list."
      ]
    },
    {
      "cell_type": "code",
      "execution_count": null,
      "metadata": {
        "colab": {
          "base_uri": "https://localhost:8080/"
        },
        "id": "_516gH9XxxYK",
        "outputId": "51bb6aad-09b9-4ee9-cb18-acdf5c19a14f"
      },
      "outputs": [
        {
          "output_type": "execute_result",
          "data": {
            "text/plain": [
              "[12, 9, 7, 5, 4, 2]"
            ]
          },
          "metadata": {},
          "execution_count": 62
        }
      ],
      "source": [
        "def reverse(arr):\n",
        "  n=len(arr)\n",
        "  for i in range(n//2):\n",
        "    arr[i],arr[n-i-1]=arr[n-i-1],arr[i]\n",
        "  return arr\n",
        "arr = [2, 4, 5, 7, 9, 12]\n",
        "reverse(arr)\n"
      ]
    },
    {
      "cell_type": "markdown",
      "metadata": {
        "id": "GGwiUjyo0e_S"
      },
      "source": [
        "11. Sort a list in ascending order.\n",
        "\n",
        "> Add blockquote\n",
        "\n"
      ]
    },
    {
      "cell_type": "code",
      "execution_count": null,
      "metadata": {
        "colab": {
          "base_uri": "https://localhost:8080/"
        },
        "id": "B47MebqI0jGA",
        "outputId": "b6cc46f2-4bb0-449c-93cc-957e609d2c32"
      },
      "outputs": [
        {
          "output_type": "execute_result",
          "data": {
            "text/plain": [
              "[2, 4, 5, 9, 12, 22]"
            ]
          },
          "metadata": {},
          "execution_count": 63
        }
      ],
      "source": [
        "a=[12, 9, 22, 5, 4, 2]\n",
        "a.sort()\n",
        "a"
      ]
    },
    {
      "cell_type": "markdown",
      "metadata": {
        "id": "tdfz3nYx3McI"
      },
      "source": [
        "12. Sort a list in descending order."
      ]
    },
    {
      "cell_type": "code",
      "execution_count": null,
      "metadata": {
        "colab": {
          "base_uri": "https://localhost:8080/"
        },
        "id": "SDiwEMZU3PGv",
        "outputId": "001568b5-9e5c-4d8d-d7e8-655215f4369c"
      },
      "outputs": [
        {
          "output_type": "stream",
          "name": "stdout",
          "text": [
            "Sorted list in descending order: [50, 40, 30, 20, 10]\n"
          ]
        }
      ],
      "source": [
        "# Example list\n",
        "my_list = [50, 10, 30, 40, 20]\n",
        "\n",
        "# Sort the list in descending order\n",
        "my_list.sort(reverse=True)\n",
        "\n",
        "# Print the sorted list\n",
        "print(\"Sorted list in descending order:\", my_list)"
      ]
    },
    {
      "cell_type": "markdown",
      "metadata": {
        "id": "BSogX7PP3lhI"
      },
      "source": [
        "13. Create a list of even numbers from 1 to 20."
      ]
    },
    {
      "cell_type": "code",
      "execution_count": null,
      "metadata": {
        "colab": {
          "base_uri": "https://localhost:8080/"
        },
        "id": "niYKkV6j3tf3",
        "outputId": "a6e3da00-6ac4-444e-80b7-e991fd65a7b9"
      },
      "outputs": [
        {
          "output_type": "execute_result",
          "data": {
            "text/plain": [
              "[2, 4, 6, 8, 10, 12, 14, 16, 18, 20]"
            ]
          },
          "metadata": {},
          "execution_count": 65
        }
      ],
      "source": [
        "a=[i for i in range(1,21) if i%2==0]\n",
        "a"
      ]
    },
    {
      "cell_type": "markdown",
      "metadata": {
        "id": "luTHDO-t333s"
      },
      "source": [
        "14. Create a list of odd numbers from 1 to 20."
      ]
    },
    {
      "cell_type": "code",
      "execution_count": null,
      "metadata": {
        "colab": {
          "base_uri": "https://localhost:8080/"
        },
        "id": "OJ8z17o137NQ",
        "outputId": "66b4af04-0e90-42e3-8e6c-4cb4d300d1e8"
      },
      "outputs": [
        {
          "output_type": "execute_result",
          "data": {
            "text/plain": [
              "[1, 3, 5, 7, 9, 11, 13, 15, 17, 19]"
            ]
          },
          "metadata": {},
          "execution_count": 66
        }
      ],
      "source": [
        "a=[i for i in range(1,21) if i%2!=0]\n",
        "a"
      ]
    },
    {
      "cell_type": "markdown",
      "metadata": {
        "id": "aOm3UCAn4Bax"
      },
      "source": [
        "15. Find the sum of all elements in a list."
      ]
    },
    {
      "cell_type": "code",
      "execution_count": null,
      "metadata": {
        "colab": {
          "base_uri": "https://localhost:8080/"
        },
        "id": "N-ix_Nyl4EXG",
        "outputId": "23714443-4be0-4519-e424-6b5d8dfbc392"
      },
      "outputs": [
        {
          "output_type": "execute_result",
          "data": {
            "text/plain": [
              "55"
            ]
          },
          "metadata": {},
          "execution_count": 67
        }
      ],
      "source": [
        "count=0\n",
        "a=[1, 2, 3, 4, 5, 6, 7, 8, 9, 10]\n",
        "for i in a:\n",
        "  count+=i\n",
        "count"
      ]
    },
    {
      "cell_type": "markdown",
      "metadata": {
        "id": "eSPLduJF6hH-"
      },
      "source": [
        "16. Find the maximum value in a list."
      ]
    },
    {
      "cell_type": "code",
      "execution_count": null,
      "metadata": {
        "colab": {
          "base_uri": "https://localhost:8080/"
        },
        "id": "0AWLHFwg7rkK",
        "outputId": "903c99d7-da54-4707-b275-985ebe253386"
      },
      "outputs": [
        {
          "output_type": "execute_result",
          "data": {
            "text/plain": [
              "10"
            ]
          },
          "metadata": {},
          "execution_count": 68
        }
      ],
      "source": [
        "a=[1, 2, 3, 4, 5, 6, 7, 8, 9, 10]\n",
        "max(a)"
      ]
    },
    {
      "cell_type": "markdown",
      "metadata": {
        "id": "InZomA_w8dOR"
      },
      "source": [
        "17. Find the minimum value in a list."
      ]
    },
    {
      "cell_type": "code",
      "execution_count": null,
      "metadata": {
        "colab": {
          "base_uri": "https://localhost:8080/"
        },
        "id": "4vCRT6eeP1BN",
        "outputId": "ed88716d-39c8-4556-f044-e1d413a89c23"
      },
      "outputs": [
        {
          "output_type": "execute_result",
          "data": {
            "text/plain": [
              "1"
            ]
          },
          "metadata": {},
          "execution_count": 69
        }
      ],
      "source": [
        "a=[1, 2, 3, 4, 5, 6, 7, 8, 9, 10]\n",
        "min(a)"
      ]
    },
    {
      "cell_type": "markdown",
      "metadata": {
        "id": "Muij-icoP55v"
      },
      "source": [
        "18. Create a list of squares of numbers from 1 to 10."
      ]
    },
    {
      "cell_type": "code",
      "execution_count": null,
      "metadata": {
        "colab": {
          "base_uri": "https://localhost:8080/"
        },
        "id": "ZRZjgexFP9em",
        "outputId": "b69d7fef-42df-4151-896e-f7e34459f2c3"
      },
      "outputs": [
        {
          "output_type": "execute_result",
          "data": {
            "text/plain": [
              "[1, 4, 9, 16, 25, 36, 49, 64, 81, 100]"
            ]
          },
          "metadata": {},
          "execution_count": 70
        }
      ],
      "source": [
        "a=[i**2 for i in range(1,11)]\n",
        "a"
      ]
    },
    {
      "cell_type": "markdown",
      "metadata": {
        "id": "hcwICYWiQr4J"
      },
      "source": [
        "19. Create a list of random numbers."
      ]
    },
    {
      "cell_type": "code",
      "execution_count": null,
      "metadata": {
        "colab": {
          "base_uri": "https://localhost:8080/"
        },
        "id": "K2BXQcZ4Q0-5",
        "outputId": "f0f6fb99-27cb-4507-8756-366d9affdbe3"
      },
      "outputs": [
        {
          "output_type": "execute_result",
          "data": {
            "text/plain": [
              "[74, 23, 5, 49, 65, 44, 66, 74, 84, 70]"
            ]
          },
          "metadata": {},
          "execution_count": 71
        }
      ],
      "source": [
        "import random\n",
        "a=[random.randint(1,100) for i in range(10)]\n",
        "a"
      ]
    },
    {
      "cell_type": "markdown",
      "metadata": {
        "id": "8k1HbwQ2Q6gt"
      },
      "source": [
        "20. Remove duplicates from a list."
      ]
    },
    {
      "cell_type": "code",
      "execution_count": null,
      "metadata": {
        "colab": {
          "base_uri": "https://localhost:8080/"
        },
        "id": "29CjN3lJQ6GH",
        "outputId": "97bc9bf1-9f6c-41ef-e26f-c276c4c473ae"
      },
      "outputs": [
        {
          "output_type": "execute_result",
          "data": {
            "text/plain": [
              "[12, 3, 34, 2, 5, 66]"
            ]
          },
          "metadata": {},
          "execution_count": 72
        }
      ],
      "source": [
        "def unique(a):\n",
        "  unique_list=[]\n",
        "  for i in a:\n",
        "    if i not in unique_list:\n",
        "      unique_list.append(i)\n",
        "  return unique_list\n",
        "\n",
        "a=[12,3,34,3,2,5,66]\n",
        "unique(a)\n"
      ]
    },
    {
      "cell_type": "markdown",
      "metadata": {
        "id": "uKYGA9YlRwIp"
      },
      "source": [
        "21. Find the common elements between two lists."
      ]
    },
    {
      "cell_type": "code",
      "execution_count": null,
      "metadata": {
        "colab": {
          "base_uri": "https://localhost:8080/"
        },
        "id": "tTDTQbsqR0U8",
        "outputId": "686b8dd2-c978-4d77-b5ae-9b2c2d2a0b24"
      },
      "outputs": [
        {
          "output_type": "execute_result",
          "data": {
            "text/plain": [
              "[2, 4, 5, 7, 9]"
            ]
          },
          "metadata": {},
          "execution_count": 73
        }
      ],
      "source": [
        "a=[1, 2, 3, 4, 5, 6, 7, 8, 9, 10]\n",
        "b=[2, 4, 5, 7, 9, 12]\n",
        "c=[i for i in a if i in b]\n",
        "c"
      ]
    },
    {
      "cell_type": "markdown",
      "metadata": {
        "id": "_eXeGAofVZsE"
      },
      "source": [
        "22. Find the difference between two lists."
      ]
    },
    {
      "cell_type": "code",
      "execution_count": null,
      "metadata": {
        "colab": {
          "base_uri": "https://localhost:8080/"
        },
        "id": "nQoMnVR2XSgp",
        "outputId": "a5f0f1af-cdf0-42a9-cd39-794bfb4215af"
      },
      "outputs": [
        {
          "output_type": "execute_result",
          "data": {
            "text/plain": [
              "[1, 3, 6, 8, 10]"
            ]
          },
          "metadata": {},
          "execution_count": 74
        }
      ],
      "source": [
        "a=[1, 2, 3, 4, 5, 6, 7, 8, 9, 10]\n",
        "b=[2, 4, 5, 7, 9, 12]\n",
        "c=[i for i in a if i not in b]\n",
        "c"
      ]
    },
    {
      "cell_type": "markdown",
      "metadata": {
        "id": "viZpPWadXwrH"
      },
      "source": [
        "23. Merge two lists."
      ]
    },
    {
      "cell_type": "code",
      "execution_count": null,
      "metadata": {
        "colab": {
          "base_uri": "https://localhost:8080/"
        },
        "id": "HpfyNAWdXb82",
        "outputId": "ee316978-fb22-49e3-99ab-059238f10eb9"
      },
      "outputs": [
        {
          "output_type": "execute_result",
          "data": {
            "text/plain": [
              "[1, 2, 3, 4, 5, 6, 7, 8, 9, 10, 2, 4, 5, 7, 9, 12]"
            ]
          },
          "metadata": {},
          "execution_count": 75
        }
      ],
      "source": [
        "a=[1, 2, 3, 4, 5, 6, 7, 8, 9, 10]\n",
        "b=[2, 4, 5, 7, 9, 12]\n",
        "c=a+b\n",
        "c"
      ]
    },
    {
      "cell_type": "markdown",
      "metadata": {
        "id": "LWT4KdQPu_I0"
      },
      "source": [
        "24. Multiply all elements in a list by 2."
      ]
    },
    {
      "cell_type": "code",
      "execution_count": null,
      "metadata": {
        "colab": {
          "base_uri": "https://localhost:8080/"
        },
        "id": "tPIzpNltvE2e",
        "outputId": "9d07c678-671c-41cc-8f48-074e3185d29d"
      },
      "outputs": [
        {
          "output_type": "execute_result",
          "data": {
            "text/plain": [
              "[2, 4, 6, 8, 10, 12, 14, 16, 18, 20]"
            ]
          },
          "metadata": {},
          "execution_count": 76
        }
      ],
      "source": [
        "a=[1, 2, 3, 4, 5, 6, 7, 8, 9, 10]\n",
        "b=[i*2 for i in a]\n",
        "b"
      ]
    },
    {
      "cell_type": "markdown",
      "metadata": {
        "id": "jOlzTdnMvMst"
      },
      "source": [
        "25. Filter out all even numbers from a list."
      ]
    },
    {
      "cell_type": "code",
      "execution_count": null,
      "metadata": {
        "colab": {
          "base_uri": "https://localhost:8080/"
        },
        "id": "ab9eaWWvvTRZ",
        "outputId": "6061d4f2-d7e7-433c-be2a-77efb156876a"
      },
      "outputs": [
        {
          "output_type": "execute_result",
          "data": {
            "text/plain": [
              "[2, 4, 6, 8, 10]"
            ]
          },
          "metadata": {},
          "execution_count": 77
        }
      ],
      "source": [
        "def even(lst):\n",
        "  even_list=[]\n",
        "  for i in lst:\n",
        "    if i%2==0:\n",
        "      even_list.append(i)\n",
        "  return even_list\n",
        "a=[1, 2, 3, 4, 5, 6, 7, 8, 9, 10]\n",
        "even(a)"
      ]
    },
    {
      "cell_type": "markdown",
      "metadata": {
        "id": "PpA2rT7IvoID"
      },
      "source": [
        "26. Convert a list of strings to a list of integers."
      ]
    },
    {
      "cell_type": "code",
      "execution_count": null,
      "metadata": {
        "colab": {
          "base_uri": "https://localhost:8080/"
        },
        "id": "UxbCbnnBvjuC",
        "outputId": "25701eaf-1071-4566-f0ad-34b0ac14ebc5"
      },
      "outputs": [
        {
          "output_type": "stream",
          "name": "stdout",
          "text": [
            "List of integers: [10, 20, 30, 40, 50]\n"
          ]
        }
      ],
      "source": [
        "# Example list of strings\n",
        "string_list = [\"10\", \"20\", \"30\", \"40\", \"50\"]\n",
        "\n",
        "# Convert list of strings to list of integers using a list comprehension\n",
        "integer_list = [int(x) for x in string_list]\n",
        "\n",
        "# Print the list of integers\n",
        "print(\"List of integers:\", integer_list)"
      ]
    },
    {
      "cell_type": "markdown",
      "metadata": {
        "id": "SFly5jzpwAo8"
      },
      "source": [
        "27. Convert a list of integers to a list of strings."
      ]
    },
    {
      "cell_type": "code",
      "execution_count": null,
      "metadata": {
        "colab": {
          "base_uri": "https://localhost:8080/"
        },
        "id": "DEosPadvwHt0",
        "outputId": "4b93dec4-cb96-4b94-9495-702dba149994"
      },
      "outputs": [
        {
          "output_type": "stream",
          "name": "stdout",
          "text": [
            "List of strings: ['10', '20', '30', '40', '50']\n"
          ]
        }
      ],
      "source": [
        "# Example list of strings\n",
        "integer_list =[10, 20, 30, 40, 50]\n",
        "\n",
        "# Convert list of strings to list of integers using a list comprehension\n",
        "string_list = [str(x) for x in string_list]\n",
        "\n",
        "# Print the list of integers\n",
        "print(\"List of strings:\", string_list)"
      ]
    },
    {
      "cell_type": "markdown",
      "metadata": {
        "id": "V4GXe8GzwsBN"
      },
      "source": [
        "28. Flatten a nested list."
      ]
    },
    {
      "cell_type": "code",
      "execution_count": null,
      "metadata": {
        "colab": {
          "base_uri": "https://localhost:8080/"
        },
        "id": "snM2yfmmxFna",
        "outputId": "1bafcb5b-7b46-4034-ddc3-865c2714f60b"
      },
      "outputs": [
        {
          "output_type": "stream",
          "name": "stdout",
          "text": [
            "Flattened list: [1, 2, 3, 4, 5, 6, 7, 8, 9]\n"
          ]
        }
      ],
      "source": [
        "# Example nested list\n",
        "nested_list = [[1, 2, 3], [4, 5], [6, 7, 8, 9]]\n",
        "\n",
        "# Function to flatten a nested list\n",
        "def flatten_list(nested):\n",
        "    flattened = []\n",
        "    for sublist in nested:\n",
        "        if isinstance(sublist, list):\n",
        "            flattened.extend(flatten_list(sublist))\n",
        "        else:\n",
        "            flattened.append(sublist)\n",
        "    return flattened\n",
        "\n",
        "# Flatten the nested list\n",
        "flattened_list = flatten_list(nested_list)\n",
        "\n",
        "# Print the flattened list\n",
        "print(\"Flattened list:\", flattened_list)"
      ]
    },
    {
      "cell_type": "markdown",
      "metadata": {
        "id": "C-kM8kkxx1Df"
      },
      "source": [
        "29. Create a list of the first 10 Fibonacci numbers."
      ]
    },
    {
      "cell_type": "code",
      "execution_count": null,
      "metadata": {
        "colab": {
          "base_uri": "https://localhost:8080/"
        },
        "id": "rpu18ERfx9Gi",
        "outputId": "f57cf5df-dc4e-495a-c697-904f19b37504"
      },
      "outputs": [
        {
          "output_type": "execute_result",
          "data": {
            "text/plain": [
              "[0, 1, 1, 2, 3, 5, 8, 13, 21, 34]"
            ]
          },
          "metadata": {},
          "execution_count": 83
        }
      ],
      "source": [
        "lst=[]\n",
        "for i in range(10):\n",
        "  if i==0:\n",
        "    lst.append(0)\n",
        "  elif i==1:\n",
        "    lst.append(1)\n",
        "  else:\n",
        "    lst.append(lst[i-1]+lst[i-2])\n",
        "lst\n"
      ]
    },
    {
      "cell_type": "markdown",
      "metadata": {
        "id": "i-5u7mFFyeB7"
      },
      "source": [
        "30. Check if a list is sorted."
      ]
    },
    {
      "cell_type": "code",
      "execution_count": null,
      "metadata": {
        "colab": {
          "base_uri": "https://localhost:8080/"
        },
        "id": "aNT8QkdbyiNR",
        "outputId": "08b628d6-36cf-40a1-cca0-5294091b06b2"
      },
      "outputs": [
        {
          "output_type": "stream",
          "name": "stdout",
          "text": [
            "sorted\n"
          ]
        }
      ],
      "source": [
        "lst=[0, 1, 1, 2, 3, 5, 8, 13, 21, 34]\n",
        "n=len(lst)\n",
        "for i in range(n-1):\n",
        "  if lst[i]>lst[i+1]:\n",
        "    print(\"not sorted\")\n",
        "    break\n",
        "else:\n",
        "  print(\"sorted\")"
      ]
    },
    {
      "cell_type": "markdown",
      "metadata": {
        "id": "mFoh_0gszKpZ"
      },
      "source": [
        "31. Rotate a list to the left by `n` positions."
      ]
    },
    {
      "cell_type": "code",
      "execution_count": null,
      "metadata": {
        "colab": {
          "base_uri": "https://localhost:8080/"
        },
        "id": "yutxWNau0I02",
        "outputId": "7451edca-d65d-4b80-e207-ee56ffb4b75d"
      },
      "outputs": [
        {
          "output_type": "execute_result",
          "data": {
            "text/plain": [
              "[4, 5, 6, 7, 8, 9, 10, 1, 2, 3]"
            ]
          },
          "metadata": {},
          "execution_count": 85
        }
      ],
      "source": [
        "lst=[1, 2, 3, 4, 5, 6, 7, 8, 9, 10]\n",
        "n=3\n",
        "for i in lst:\n",
        "  lst=lst[n:]+lst[:n]\n",
        "  break\n",
        "lst\n",
        "\n"
      ]
    },
    {
      "cell_type": "markdown",
      "metadata": {
        "id": "RbeohMkz0y_S"
      },
      "source": [
        "32. Rotate a list to the right by `n` positions."
      ]
    },
    {
      "cell_type": "code",
      "execution_count": null,
      "metadata": {
        "colab": {
          "base_uri": "https://localhost:8080/"
        },
        "id": "9WcdVpTM02MK",
        "outputId": "111bcc58-0fd6-45ef-ddd1-d20794dda596"
      },
      "outputs": [
        {
          "output_type": "execute_result",
          "data": {
            "text/plain": [
              "[8, 9, 10, 1, 2, 3, 4, 5, 6, 7]"
            ]
          },
          "metadata": {},
          "execution_count": 86
        }
      ],
      "source": [
        "lst=[1, 2, 3, 4, 5, 6, 7, 8, 9, 10]\n",
        "n=3\n",
        "for i in lst:\n",
        "  lst=lst[-n:]+lst[:-n]\n",
        "  break\n",
        "lst\n"
      ]
    },
    {
      "cell_type": "markdown",
      "metadata": {
        "id": "sGOVAKBu1Rfc"
      },
      "source": [
        "33. Create a list of prime numbers up to 50."
      ]
    },
    {
      "cell_type": "code",
      "execution_count": null,
      "metadata": {
        "colab": {
          "base_uri": "https://localhost:8080/"
        },
        "id": "FqTbTyxh1bPz",
        "outputId": "74f54e13-16cc-40c1-ebb2-ba1067d7a242"
      },
      "outputs": [
        {
          "output_type": "execute_result",
          "data": {
            "text/plain": [
              "[2, 3, 5, 7, 11, 13, 17, 19, 23, 29, 31, 37, 41, 43, 47]"
            ]
          },
          "metadata": {},
          "execution_count": 87
        }
      ],
      "source": [
        "lst=[]\n",
        "for i in range(50):\n",
        "  count=0\n",
        "  for j in range(1,i+1):\n",
        "    if i%j==0:\n",
        "      count+=1\n",
        "  if count==2:\n",
        "    lst.append(i)\n",
        "lst\n",
        "\n"
      ]
    },
    {
      "cell_type": "markdown",
      "metadata": {
        "id": "XEEwzdzO2T4D"
      },
      "source": [
        "34. Split a list into chunks of size `n`."
      ]
    },
    {
      "cell_type": "code",
      "execution_count": null,
      "metadata": {
        "id": "u9lhEpbF3LN3",
        "colab": {
          "base_uri": "https://localhost:8080/"
        },
        "outputId": "8ccabe6b-410c-47dd-dd31-665c674cfe39"
      },
      "outputs": [
        {
          "output_type": "stream",
          "name": "stdout",
          "text": [
            "List of prime numbers up to 50: [2, 3, 5, 7, 11, 13, 17, 19, 23, 29, 31, 37, 41, 43, 47]\n"
          ]
        }
      ],
      "source": [
        "# Create a list of prime numbers up to 50 using Sieve of Eratosthenes algorithm\n",
        "def sieve_of_eratosthenes(limit):\n",
        "    primes = []\n",
        "    is_prime = [True] * (limit + 1)\n",
        "    is_prime[0] = is_prime[1] = False\n",
        "\n",
        "    for num in range(2, int(limit ** 0.5) + 1):\n",
        "        if is_prime[num]:\n",
        "            primes.append(num)\n",
        "            for multiple in range(num * num, limit + 1, num):\n",
        "                is_prime[multiple] = False\n",
        "\n",
        "    for num in range(int(limit ** 0.5) + 1, limit + 1):\n",
        "        if is_prime[num]:\n",
        "            primes.append(num)\n",
        "\n",
        "    return primes\n",
        "\n",
        "# Create a list of prime numbers up to 50\n",
        "prime_numbers = sieve_of_eratosthenes(50)\n",
        "\n",
        "# Print the list of prime numbers\n",
        "print(\"List of prime numbers up to 50:\", prime_numbers)"
      ]
    },
    {
      "cell_type": "markdown",
      "metadata": {
        "id": "vDpxBlCG4Ytr"
      },
      "source": [
        "35. Find the second largest number in a list."
      ]
    },
    {
      "cell_type": "code",
      "execution_count": null,
      "metadata": {
        "colab": {
          "base_uri": "https://localhost:8080/"
        },
        "id": "D9w5WCs34pEt",
        "outputId": "64a11272-2dc3-4af1-f7c2-ae222f43b2fc"
      },
      "outputs": [
        {
          "output_type": "execute_result",
          "data": {
            "text/plain": [
              "22"
            ]
          },
          "metadata": {},
          "execution_count": 89
        }
      ],
      "source": [
        "lst=[1, 2, 3, 4, 5, 22, 7, 33, 9, 10]\n",
        "lst.sort()\n",
        "lst[-2]"
      ]
    },
    {
      "cell_type": "markdown",
      "metadata": {
        "id": "M9t8uuSg5SzQ"
      },
      "source": [
        "36. Replace every element in a list with its square."
      ]
    },
    {
      "cell_type": "code",
      "execution_count": null,
      "metadata": {
        "id": "-PjBiWcZ4x6_",
        "colab": {
          "base_uri": "https://localhost:8080/"
        },
        "outputId": "69dbde40-d526-48c0-a589-fb43da783698"
      },
      "outputs": [
        {
          "output_type": "stream",
          "name": "stdout",
          "text": [
            "Squared list: [4, 16, 36, 64, 100]\n"
          ]
        }
      ],
      "source": [
        "# Example list\n",
        "my_list = [2, 4, 6, 8, 10]\n",
        "\n",
        "# Replace every element with its square using a list comprehension\n",
        "squared_list = [x ** 2 for x in my_list]\n",
        "\n",
        "# Print the squared list\n",
        "print(\"Squared list:\", squared_list)"
      ]
    },
    {
      "cell_type": "markdown",
      "metadata": {
        "id": "Y3fzUGiT5W3B"
      },
      "source": [
        "37. Convert a list to a dictionary where list elements become keys and their\n",
        "indices become values."
      ]
    },
    {
      "cell_type": "code",
      "execution_count": null,
      "metadata": {
        "colab": {
          "base_uri": "https://localhost:8080/"
        },
        "id": "Y31TRENo5ZiM",
        "outputId": "c773cfc9-69ad-4b26-fff8-6464537ce17c"
      },
      "outputs": [
        {
          "output_type": "execute_result",
          "data": {
            "text/plain": [
              "{1: 0, 2: 1, 3: 2, 4: 3, 5: 4, 6: 5, 7: 6, 8: 7, 9: 8, 10: 9}"
            ]
          },
          "metadata": {},
          "execution_count": 91
        }
      ],
      "source": [
        "dis={i:j for j,i in enumerate([1, 2, 3, 4, 5, 6, 7, 8, 9, 10])}\n",
        "dis"
      ]
    },
    {
      "cell_type": "markdown",
      "metadata": {
        "id": "E4ObBqti57QN"
      },
      "source": [
        "38. Shuffle the elements of a list randomly."
      ]
    },
    {
      "cell_type": "code",
      "execution_count": null,
      "metadata": {
        "colab": {
          "base_uri": "https://localhost:8080/"
        },
        "id": "-eqb9geW5-Yx",
        "outputId": "e69189f1-95fc-4735-db8a-116507f7f6ec"
      },
      "outputs": [
        {
          "output_type": "execute_result",
          "data": {
            "text/plain": [
              "[9, 5, 4, 7, 6, 2, 10, 8, 3, 1]"
            ]
          },
          "metadata": {},
          "execution_count": 92
        }
      ],
      "source": [
        "import random\n",
        "lst=[1, 2, 3, 4, 5, 6, 7, 8, 9, 10]\n",
        "random.shuffle(lst)\n",
        "lst"
      ]
    },
    {
      "cell_type": "markdown",
      "metadata": {
        "id": "rKrUlSQ_6T7N"
      },
      "source": [
        "39. Create a list of the first 10 factorial numbers."
      ]
    },
    {
      "cell_type": "code",
      "execution_count": null,
      "metadata": {
        "colab": {
          "base_uri": "https://localhost:8080/"
        },
        "id": "Qs3D1Nl56WVw",
        "outputId": "e5da6ed4-251c-4fcd-9c67-be8892ddcc8b"
      },
      "outputs": [
        {
          "output_type": "execute_result",
          "data": {
            "text/plain": [
              "[1, 2, 6, 24, 120, 720, 5040, 40320, 362880, 3628800]"
            ]
          },
          "metadata": {},
          "execution_count": 93
        }
      ],
      "source": [
        "lst=[]\n",
        "for i in range(1,11):\n",
        "  fact=1\n",
        "  for j in range(1,i+1):\n",
        "    fact*=j\n",
        "  lst.append(fact)\n",
        "lst"
      ]
    },
    {
      "cell_type": "markdown",
      "metadata": {
        "id": "A7ghCH0m6787"
      },
      "source": [
        "40. Check if two lists have at least one element in common."
      ]
    },
    {
      "cell_type": "code",
      "execution_count": null,
      "metadata": {
        "colab": {
          "base_uri": "https://localhost:8080/"
        },
        "id": "Tds8UduG6_6N",
        "outputId": "35221475-9efa-485a-e6d3-9b115a0b03d7"
      },
      "outputs": [
        {
          "output_type": "stream",
          "name": "stdout",
          "text": [
            "True\n"
          ]
        }
      ],
      "source": [
        "lst1=[1, 2, 3, 4, 5, 6, 7, 8, 9, 10]\n",
        "lst2=[2, 4, 5, 7, 9, 12]\n",
        "lst3=[i for i in lst1 if i in lst2]\n",
        "if len(lst3)>0:\n",
        "  print(\"True\")\n",
        "else:\n",
        "  print(\"False\")"
      ]
    },
    {
      "cell_type": "markdown",
      "metadata": {
        "id": "4zRHZFK07I14"
      },
      "source": [
        "41. Remove all elements from a list."
      ]
    },
    {
      "cell_type": "code",
      "execution_count": null,
      "metadata": {
        "colab": {
          "base_uri": "https://localhost:8080/"
        },
        "id": "NBhhtU_Z7LGE",
        "outputId": "63ece45b-4c5f-4315-9030-0a36568cdb37"
      },
      "outputs": [
        {
          "output_type": "execute_result",
          "data": {
            "text/plain": [
              "[]"
            ]
          },
          "metadata": {},
          "execution_count": 95
        }
      ],
      "source": [
        "lst=[1, 2, 3, 4, 5, 6, 7, 8, 9, 10]\n",
        "lst.clear()\n",
        "lst"
      ]
    },
    {
      "cell_type": "markdown",
      "metadata": {
        "id": "XUnSgOio8KTL"
      },
      "source": [
        "42. Replace negative numbers in a list with 0."
      ]
    },
    {
      "cell_type": "code",
      "execution_count": null,
      "metadata": {
        "colab": {
          "base_uri": "https://localhost:8080/"
        },
        "id": "g5snwCgA8Nv0",
        "outputId": "ef19f31c-f99a-4e53-a984-7e35bc1c6882"
      },
      "outputs": [
        {
          "output_type": "execute_result",
          "data": {
            "text/plain": [
              "[1, 2, 3, 4, 0, 0, 7, 8, 9, 10]"
            ]
          },
          "metadata": {},
          "execution_count": 96
        }
      ],
      "source": [
        "lst=[1, 2, 3, 4, -5, -6, 7, 8, 9, 10]\n",
        "for i in range(len(lst)):\n",
        "  if lst[i]<0:\n",
        "    lst[i]=0\n",
        "lst"
      ]
    },
    {
      "cell_type": "markdown",
      "metadata": {
        "id": "zyyY9IbT80Mo"
      },
      "source": [
        "43. Convert a string into a list of words."
      ]
    },
    {
      "cell_type": "code",
      "execution_count": null,
      "metadata": {
        "colab": {
          "base_uri": "https://localhost:8080/"
        },
        "id": "52sefbU383nq",
        "outputId": "a4c340f7-fc97-41af-8b18-21267287b21e"
      },
      "outputs": [
        {
          "output_type": "stream",
          "name": "stdout",
          "text": [
            "List of words: ['Hello,', 'this', 'is', 'a', 'sample', 'sentence.']\n"
          ]
        }
      ],
      "source": [
        "# Example string\n",
        "my_string = \"Hello, this is a sample sentence.\"\n",
        "\n",
        "# Convert the string into a list of words\n",
        "word_list = my_string.split()\n",
        "\n",
        "# Print the list of words\n",
        "print(\"List of words:\", word_list)"
      ]
    },
    {
      "cell_type": "markdown",
      "metadata": {
        "id": "4eQwwjM6-M1a"
      },
      "source": [
        "44. Convert a list of words into a string."
      ]
    },
    {
      "cell_type": "code",
      "execution_count": null,
      "metadata": {
        "colab": {
          "base_uri": "https://localhost:8080/"
        },
        "id": "s0qAeuxT-Tdb",
        "outputId": "e5a33efd-15de-4d88-ccb0-331d650bc142"
      },
      "outputs": [
        {
          "output_type": "stream",
          "name": "stdout",
          "text": [
            "Converted string: Hello, this is a sample sentence.\n"
          ]
        }
      ],
      "source": [
        "# Example list of words\n",
        "word_list = [\"Hello,\", \"this\", \"is\", \"a\", \"sample\", \"sentence.\"]\n",
        "\n",
        "# Convert the list of words into a string\n",
        "my_string = \" \".join(word_list)\n",
        "\n",
        "# Print the resulting string\n",
        "print(\"Converted string:\", my_string)"
      ]
    },
    {
      "cell_type": "markdown",
      "metadata": {
        "id": "TgsgDilb-i6A"
      },
      "source": [
        "45. Create a list of the first `n` powers of 2."
      ]
    },
    {
      "cell_type": "code",
      "execution_count": null,
      "metadata": {
        "colab": {
          "base_uri": "https://localhost:8080/"
        },
        "id": "vh0c63Yi-lez",
        "outputId": "c1735fa6-6272-424e-df7f-89e9178a6c6f"
      },
      "outputs": [
        {
          "output_type": "stream",
          "name": "stdout",
          "text": [
            "List of the first 5 powers of 2: [1, 2, 4, 8, 16]\n"
          ]
        }
      ],
      "source": [
        "# Specify the value of n\n",
        "n = 5\n",
        "\n",
        "# Create a list of the first n powers of 2 using a loop\n",
        "power_list = [2 ** i for i in range(n)]\n",
        "\n",
        "# Print the list of powers of 2\n",
        "print(\"List of the first\", n, \"powers of 2:\", power_list)"
      ]
    },
    {
      "cell_type": "markdown",
      "metadata": {
        "id": "dreysuIx-32W"
      },
      "source": [
        "46. Find the longest string in a list of strings."
      ]
    },
    {
      "cell_type": "code",
      "execution_count": null,
      "metadata": {
        "colab": {
          "base_uri": "https://localhost:8080/"
        },
        "id": "FBofJAkI_HY5",
        "outputId": "e28ea8f4-bfaa-4af3-e359-f741ad778ac5"
      },
      "outputs": [
        {
          "output_type": "stream",
          "name": "stdout",
          "text": [
            "Longest string: elderberry\n"
          ]
        }
      ],
      "source": [
        "# Example list of strings\n",
        "string_list = [\"apple\", \"banana\", \"cherry\", \"date\", \"elderberry\"]\n",
        "\n",
        "# Find the longest string in the list\n",
        "longest_string = \"\"\n",
        "for s in string_list:\n",
        "    if len(s) > len(longest_string):\n",
        "        longest_string = s\n",
        "\n",
        "# Print the longest string\n",
        "print(\"Longest string:\", longest_string)\n"
      ]
    },
    {
      "cell_type": "markdown",
      "metadata": {
        "id": "tjH9wXjnAOlF"
      },
      "source": [
        "47. Find the shortest string in a list of strings."
      ]
    },
    {
      "cell_type": "code",
      "execution_count": null,
      "metadata": {
        "colab": {
          "base_uri": "https://localhost:8080/"
        },
        "id": "yj18LICuAbFe",
        "outputId": "9de1b880-aa8d-4028-ad6b-454a597f144a"
      },
      "outputs": [
        {
          "output_type": "stream",
          "name": "stdout",
          "text": [
            "short string: date\n"
          ]
        }
      ],
      "source": [
        "# Example list of strings\n",
        "string_list = [\"apple\", \"banana\", \"cherry\", \"date\", \"elderberry\"]\n",
        "\n",
        "# Find the longest string in the list\n",
        "short_string = \"\"\n",
        "for s in string_list:\n",
        "    if len(s) < len(longest_string):\n",
        "        short_string = s\n",
        "\n",
        "# Print the longest string\n",
        "print(\"short string:\", short_string)"
      ]
    },
    {
      "cell_type": "markdown",
      "metadata": {
        "id": "QURL8Q5OBi9_"
      },
      "source": [
        "48. Create a list of the first `n` triangular numbers."
      ]
    },
    {
      "cell_type": "code",
      "execution_count": null,
      "metadata": {
        "colab": {
          "base_uri": "https://localhost:8080/"
        },
        "id": "c4f6VX_1A3d7",
        "outputId": "a6456f2e-6265-4eb5-cab8-f80f1c4ec55d"
      },
      "outputs": [
        {
          "output_type": "stream",
          "name": "stdout",
          "text": [
            "List of the first 5 triangular numbers: [1, 3, 6, 10, 15]\n"
          ]
        }
      ],
      "source": [
        "# Function to calculate triangular numbers\n",
        "def triangular_numbers(n):\n",
        "    return [i * (i + 1) // 2 for i in range(1, n + 1)]\n",
        "\n",
        "# Specify the value of n\n",
        "n = 5\n",
        "\n",
        "# Create a list of the first n triangular numbers\n",
        "triangular_list = triangular_numbers(n)\n",
        "\n",
        "# Print the list of triangular numbers\n",
        "print(\"List of the first\", n, \"triangular numbers:\", triangular_list)"
      ]
    },
    {
      "cell_type": "markdown",
      "metadata": {
        "id": "E8zsSf7_CCzg"
      },
      "source": [
        "49. Check if a list contains another list as a subsequence."
      ]
    },
    {
      "cell_type": "code",
      "execution_count": null,
      "metadata": {
        "colab": {
          "base_uri": "https://localhost:8080/"
        },
        "id": "n8kT-lNNCQmu",
        "outputId": "565a944b-fec8-4824-867f-ee6bd435fa4b"
      },
      "outputs": [
        {
          "output_type": "stream",
          "name": "stdout",
          "text": [
            "Main list contains the subsequence.\n"
          ]
        }
      ],
      "source": [
        "# Function to check if a list contains another list as a subsequence\n",
        "def is_subsequence(subsequence, main_list):\n",
        "    subseq_index = 0  # Index for the subsequence elements\n",
        "    for element in main_list:\n",
        "        if element == subsequence[subseq_index]:\n",
        "            subseq_index += 1\n",
        "            if subseq_index == len(subsequence):\n",
        "                return True\n",
        "    return False\n",
        "\n",
        "# Example main list and subsequence\n",
        "main_list = [1, 2, 3, 4, 5, 6, 7, 8, 9, 10]\n",
        "subsequence = [3, 5, 8]\n",
        "\n",
        "# Check if the main list contains the subsequence\n",
        "if is_subsequence(subsequence, main_list):\n",
        "    print(\"Main list contains the subsequence.\")\n",
        "else:\n",
        "    print(\"Main list does not contain the subsequence.\")"
      ]
    },
    {
      "cell_type": "markdown",
      "metadata": {
        "id": "IhsNRdl0ChRQ"
      },
      "source": [
        "50. Swap two elements in a list by their indices."
      ]
    },
    {
      "cell_type": "code",
      "execution_count": null,
      "metadata": {
        "colab": {
          "base_uri": "https://localhost:8080/"
        },
        "id": "yVbspYznCluN",
        "outputId": "7da41365-01c9-443d-c5bf-b7888f37278d"
      },
      "outputs": [
        {
          "output_type": "stream",
          "name": "stdout",
          "text": [
            "List after swapping elements: [1, 4, 3, 2, 5]\n"
          ]
        }
      ],
      "source": [
        "# Example list\n",
        "my_list = [1, 2, 3, 4, 5]\n",
        "\n",
        "# Indices of elements to swap\n",
        "index1 = 1\n",
        "index2 = 3\n",
        "\n",
        "# Swap the elements at the specified indices\n",
        "temp = my_list[index1]\n",
        "my_list[index1] = my_list[index2]\n",
        "my_list[index2] = temp\n",
        "\n",
        "# Print the list after swapping\n",
        "print(\"List after swapping elements:\", my_list)\n"
      ]
    },
    {
      "cell_type": "markdown",
      "metadata": {
        "id": "FJaTxqMSgoDC"
      },
      "source": [
        "#Tuple Based Practice Problem :"
      ]
    },
    {
      "cell_type": "markdown",
      "metadata": {
        "id": "S9S6GjJEgv2M"
      },
      "source": [
        "1. Create a tuple with integers from 1 to 5."
      ]
    },
    {
      "cell_type": "code",
      "execution_count": null,
      "metadata": {
        "colab": {
          "base_uri": "https://localhost:8080/"
        },
        "id": "d29n-n4ZhEVB",
        "outputId": "92a2d74f-e9df-46df-d693-e64a223b9520"
      },
      "outputs": [
        {
          "output_type": "stream",
          "name": "stdout",
          "text": [
            "('apple', 'banana', 'cherry')\n"
          ]
        }
      ],
      "source": [
        "thistuple = (\"apple\", \"banana\", \"cherry\")\n",
        "print(thistuple)"
      ]
    },
    {
      "cell_type": "markdown",
      "metadata": {
        "id": "Dl3MuJ1ehS9Z"
      },
      "source": [
        "2. Access the third element of a tuple."
      ]
    },
    {
      "cell_type": "code",
      "execution_count": null,
      "metadata": {
        "colab": {
          "base_uri": "https://localhost:8080/"
        },
        "id": "ISn3RHo1hVUV",
        "outputId": "54ac6796-a3c7-4ecd-fc65-8b3d79a785d8"
      },
      "outputs": [
        {
          "output_type": "execute_result",
          "data": {
            "text/plain": [
              "30"
            ]
          },
          "metadata": {},
          "execution_count": 106
        }
      ],
      "source": [
        "my_tuple = (10, 20, 30, 40, 50)\n",
        "my_tuple[2]"
      ]
    },
    {
      "cell_type": "markdown",
      "metadata": {
        "id": "pZOWrp_EkPt4"
      },
      "source": [
        "3. Find the length of a tuple without using the `len()` function."
      ]
    },
    {
      "cell_type": "code",
      "execution_count": null,
      "metadata": {
        "colab": {
          "base_uri": "https://localhost:8080/"
        },
        "id": "IsZASxz6kTeR",
        "outputId": "948ef36d-db53-40bc-9480-70e3b1a4b308"
      },
      "outputs": [
        {
          "output_type": "execute_result",
          "data": {
            "text/plain": [
              "5"
            ]
          },
          "metadata": {},
          "execution_count": 107
        }
      ],
      "source": [
        "my_tuple = (10, 20, 30, 40, 50)\n",
        "count=0\n",
        "for i in my_tuple:\n",
        "  count+=1\n",
        "count"
      ]
    },
    {
      "cell_type": "markdown",
      "metadata": {
        "id": "eo7R0tRPklEG"
      },
      "source": [
        "4. Count the occurrences of an element in a tuple."
      ]
    },
    {
      "cell_type": "code",
      "execution_count": null,
      "metadata": {
        "colab": {
          "base_uri": "https://localhost:8080/"
        },
        "id": "g8w_xNw7knv-",
        "outputId": "8501b533-b500-41f5-ad81-3961a3ae4d9d"
      },
      "outputs": [
        {
          "output_type": "execute_result",
          "data": {
            "text/plain": [
              "2"
            ]
          },
          "metadata": {},
          "execution_count": 108
        }
      ],
      "source": [
        "my_tuple = (10, 30, 30, 40, 50)\n",
        "count=0\n",
        "a=30\n",
        "for i in my_tuple:\n",
        "  if i==a:\n",
        "    count+=1\n",
        "count"
      ]
    },
    {
      "cell_type": "markdown",
      "metadata": {
        "id": "KhXGRShjlA1V"
      },
      "source": [
        "5. Find the index of the first occurrence of an element in a tuple."
      ]
    },
    {
      "cell_type": "code",
      "execution_count": null,
      "metadata": {
        "colab": {
          "base_uri": "https://localhost:8080/"
        },
        "id": "3uloMhePlEMr",
        "outputId": "ff9ac273-03ba-404f-9551-34e7593647d4"
      },
      "outputs": [
        {
          "output_type": "execute_result",
          "data": {
            "text/plain": [
              "4"
            ]
          },
          "metadata": {},
          "execution_count": 109
        }
      ],
      "source": [
        "my_tuple = (10, 30, 30, 40, 50)\n",
        "index=-1\n",
        "a=50\n",
        "for i ,item in enumerate(my_tuple):\n",
        "  if item == a:\n",
        "    index=i\n",
        "    break\n",
        "index\n",
        "\n"
      ]
    },
    {
      "cell_type": "markdown",
      "metadata": {
        "id": "wYLCSQpvl5A_"
      },
      "source": [
        "6. Check if an element exists in a tuple."
      ]
    },
    {
      "cell_type": "code",
      "execution_count": null,
      "metadata": {
        "colab": {
          "base_uri": "https://localhost:8080/"
        },
        "id": "H4k5JL2Fl7_o",
        "outputId": "769ee3fc-7fd5-4049-c1b5-f65576c6f671"
      },
      "outputs": [
        {
          "output_type": "stream",
          "name": "stdout",
          "text": [
            "no\n"
          ]
        }
      ],
      "source": [
        "my_tuple = (10, 30, 30, 40, 50)\n",
        "a=100\n",
        "if a in my_tuple:\n",
        "  print(\"exist\")\n",
        "else:\n",
        "  print(\"no\")\n"
      ]
    },
    {
      "cell_type": "markdown",
      "metadata": {
        "id": "4MH9gn6Hmm8I"
      },
      "source": [
        "7. Convert a tuple to a list."
      ]
    },
    {
      "cell_type": "code",
      "execution_count": null,
      "metadata": {
        "colab": {
          "base_uri": "https://localhost:8080/"
        },
        "id": "Qii7RjugmHPY",
        "outputId": "6483247a-d314-40c0-9e36-93eaab63a188"
      },
      "outputs": [
        {
          "output_type": "execute_result",
          "data": {
            "text/plain": [
              "[10, 30, 30, 40, 50]"
            ]
          },
          "metadata": {},
          "execution_count": 113
        }
      ],
      "source": [
        "my_tuple = (10, 30, 30, 40, 50)\n",
        "a=list(my_tuple)\n",
        "a"
      ]
    },
    {
      "cell_type": "markdown",
      "metadata": {
        "id": "00Q2mFb4m10f"
      },
      "source": [
        "8. Convert a list to a tuple."
      ]
    },
    {
      "cell_type": "code",
      "execution_count": null,
      "metadata": {
        "colab": {
          "base_uri": "https://localhost:8080/"
        },
        "id": "4jWHD1lAm3zG",
        "outputId": "810119db-7868-4a05-cc8b-791b2cc3e503"
      },
      "outputs": [
        {
          "output_type": "execute_result",
          "data": {
            "text/plain": [
              "(10, 30, 30, 40, 50)"
            ]
          },
          "metadata": {},
          "execution_count": 114
        }
      ],
      "source": [
        "a=[10, 30, 30, 40, 50]\n",
        "my_tuple=tuple(a)\n",
        "my_tuple"
      ]
    },
    {
      "cell_type": "markdown",
      "metadata": {
        "id": "qudJbvnCnDcv"
      },
      "source": [
        "9. Unpack the elements of a tuple into variables."
      ]
    },
    {
      "cell_type": "code",
      "execution_count": null,
      "metadata": {
        "colab": {
          "base_uri": "https://localhost:8080/"
        },
        "id": "7M5PipQUnFyj",
        "outputId": "40d9dd2b-9ae5-4a0c-a3ab-f4fb67de5f35"
      },
      "outputs": [
        {
          "output_type": "stream",
          "name": "stdout",
          "text": [
            "10\n",
            "30\n",
            "30\n",
            "[40, 50]\n"
          ]
        }
      ],
      "source": [
        "my_tuple = (10, 30, 30, 40, 50)\n",
        "(a,b,c,*d)=my_tuple\n",
        "print(a)\n",
        "print(b)\n",
        "print(c)\n",
        "print(d)"
      ]
    },
    {
      "cell_type": "markdown",
      "metadata": {
        "id": "TQZeJdgVn14o"
      },
      "source": [
        "10. Create a tuple of even numbers from 1 to 10."
      ]
    },
    {
      "cell_type": "code",
      "execution_count": null,
      "metadata": {
        "colab": {
          "base_uri": "https://localhost:8080/"
        },
        "id": "20uj68wNn_sJ",
        "outputId": "8a73328b-74dd-4b9f-f69b-0d9dcbc01d7c"
      },
      "outputs": [
        {
          "output_type": "execute_result",
          "data": {
            "text/plain": [
              "(2, 4, 6, 8, 10)"
            ]
          },
          "metadata": {},
          "execution_count": 116
        }
      ],
      "source": [
        "a=[]\n",
        "for i in range(1,11):\n",
        "  if i%2==0:\n",
        "    a.append(i)\n",
        "tuple(a)"
      ]
    },
    {
      "cell_type": "markdown",
      "metadata": {
        "id": "fqOf-dCXobq2"
      },
      "source": [
        "11. Create a tuple of odd numbers from 1 to 10."
      ]
    },
    {
      "cell_type": "code",
      "execution_count": null,
      "metadata": {
        "colab": {
          "base_uri": "https://localhost:8080/"
        },
        "id": "ofcEdp85okwT",
        "outputId": "e886e059-8d8b-4031-a5ab-5e3aeecf39f0"
      },
      "outputs": [
        {
          "output_type": "execute_result",
          "data": {
            "text/plain": [
              "(1, 3, 5, 7, 9)"
            ]
          },
          "metadata": {},
          "execution_count": 117
        }
      ],
      "source": [
        "a=[i for i in range(1,10,2)]\n",
        "tuple(a)"
      ]
    },
    {
      "cell_type": "markdown",
      "metadata": {
        "id": "58HUZqwNoywl"
      },
      "source": [
        "12. Concatenate two tuples."
      ]
    },
    {
      "cell_type": "code",
      "execution_count": null,
      "metadata": {
        "colab": {
          "base_uri": "https://localhost:8080/"
        },
        "id": "MvPvzzvQo1D8",
        "outputId": "ee091098-88cf-471b-a6c0-757506577c5f"
      },
      "outputs": [
        {
          "output_type": "execute_result",
          "data": {
            "text/plain": [
              "(1, 23, 4, 5, 2, 4, 6, 8, 0)"
            ]
          },
          "metadata": {},
          "execution_count": 118
        }
      ],
      "source": [
        "a=(1,23,4,5)\n",
        "b=(2,4,6,8,0)\n",
        "c=a+b\n",
        "c"
      ]
    },
    {
      "cell_type": "markdown",
      "metadata": {
        "id": "BDPxFlOno_JE"
      },
      "source": [
        "13. Repeat a tuple three times.\n"
      ]
    },
    {
      "cell_type": "code",
      "execution_count": null,
      "metadata": {
        "id": "amkKI9Hiprpv"
      },
      "outputs": [],
      "source": []
    },
    {
      "cell_type": "code",
      "execution_count": null,
      "metadata": {
        "colab": {
          "base_uri": "https://localhost:8080/"
        },
        "id": "qjLZSWzko8aa",
        "outputId": "19465c91-b911-436a-efa6-1062437928b5"
      },
      "outputs": [
        {
          "output_type": "execute_result",
          "data": {
            "text/plain": [
              "(10, 30, 30, 40, 50, 10, 30, 30, 40, 50, 10, 30, 30, 40, 50)"
            ]
          },
          "metadata": {},
          "execution_count": 119
        }
      ],
      "source": [
        "a= (10, 30, 30, 40, 50)\n",
        "b= a*3\n",
        "b"
      ]
    },
    {
      "cell_type": "markdown",
      "metadata": {
        "id": "7y4DZ3OCpjGx"
      },
      "source": [
        "14. Check if a tuple is empty."
      ]
    },
    {
      "cell_type": "code",
      "execution_count": null,
      "metadata": {
        "colab": {
          "base_uri": "https://localhost:8080/"
        },
        "id": "zgU1r34ZpnQo",
        "outputId": "726ae815-9309-4905-a479-9176c482e1f6"
      },
      "outputs": [
        {
          "output_type": "stream",
          "name": "stdout",
          "text": [
            "Not \n"
          ]
        }
      ],
      "source": [
        "a= (10, 30, 30, 40, 50)\n",
        "if not a:\n",
        "  print(\"Empty\")\n",
        "else:\n",
        "  print(\"Not \")\n"
      ]
    },
    {
      "cell_type": "markdown",
      "metadata": {
        "id": "TOrB9UkOqGPw"
      },
      "source": [
        "15. Create a nested tuple."
      ]
    },
    {
      "cell_type": "code",
      "execution_count": null,
      "metadata": {
        "colab": {
          "base_uri": "https://localhost:8080/"
        },
        "id": "PtLEvxm8qE8u",
        "outputId": "0008eda4-f21b-4d5e-8302-39873d4a88b9"
      },
      "outputs": [
        {
          "output_type": "stream",
          "name": "stdout",
          "text": [
            "Nested tuple: ((1, 2, 3), ('a', 'b', 'c'), (True, False))\n"
          ]
        }
      ],
      "source": [
        "# Step 1: Create a nested tuple\n",
        "nested_tuple = ((1, 2, 3), ('a', 'b', 'c'), (True, False))\n",
        "\n",
        "# Step 2: Print the nested tuple\n",
        "print(\"Nested tuple:\", nested_tuple)"
      ]
    },
    {
      "cell_type": "markdown",
      "metadata": {
        "id": "gQOj5l_rqq1Q"
      },
      "source": [
        "16. Access the first element of a nested tuple."
      ]
    },
    {
      "cell_type": "code",
      "execution_count": null,
      "metadata": {
        "colab": {
          "base_uri": "https://localhost:8080/"
        },
        "id": "7Pv_eawBq-nh",
        "outputId": "c4bd0781-1fdf-44c3-c069-4a9156d595c8"
      },
      "outputs": [
        {
          "output_type": "execute_result",
          "data": {
            "text/plain": [
              "(1, 2, 3)"
            ]
          },
          "metadata": {},
          "execution_count": 122
        }
      ],
      "source": [
        "nested_tuple = ((1, 2, 3), ('a', 'b', 'c'), (True, False))\n",
        "a=nested_tuple[0]\n",
        "a"
      ]
    },
    {
      "cell_type": "markdown",
      "metadata": {
        "id": "LQCbEwfvrHkw"
      },
      "source": [
        "17. Create a tuple with a single element."
      ]
    },
    {
      "cell_type": "code",
      "execution_count": null,
      "metadata": {
        "colab": {
          "base_uri": "https://localhost:8080/"
        },
        "id": "4QaPal9KrNcB",
        "outputId": "2e16b263-8f03-46a2-a0ac-0a8c846f2bca"
      },
      "outputs": [
        {
          "output_type": "execute_result",
          "data": {
            "text/plain": [
              "('uday',)"
            ]
          },
          "metadata": {},
          "execution_count": 123
        }
      ],
      "source": [
        "a=(\"uday\",)\n",
        "a"
      ]
    },
    {
      "cell_type": "markdown",
      "metadata": {
        "id": "W6E8aRFcrb8W"
      },
      "source": [
        "18. Compare two tuples."
      ]
    },
    {
      "cell_type": "code",
      "execution_count": null,
      "metadata": {
        "colab": {
          "base_uri": "https://localhost:8080/"
        },
        "id": "sRshUrZ-rYkL",
        "outputId": "58032eba-71b4-415c-8f6e-70b752371344"
      },
      "outputs": [
        {
          "output_type": "stream",
          "name": "stdout",
          "text": [
            "tuple1 == tuple2: False\n",
            "tuple1 != tuple2: True\n",
            "tuple1 < tuple2: True\n",
            "tuple1 <= tuple2: True\n",
            "tuple1 > tuple2: False\n",
            "tuple1 >= tuple2: False\n"
          ]
        }
      ],
      "source": [
        "# Step 1: Create two tuples\n",
        "tuple1 = (1, 2, 3)\n",
        "tuple2 = (1, 2, 4)\n",
        "\n",
        "# Step 2: Compare the two tuples using comparison operators\n",
        "print(\"tuple1 == tuple2:\", tuple1 == tuple2)  # Equality check\n",
        "print(\"tuple1 != tuple2:\", tuple1 != tuple2)  # Inequality check\n",
        "print(\"tuple1 < tuple2:\", tuple1 < tuple2)    # Less than check\n",
        "print(\"tuple1 <= tuple2:\", tuple1 <= tuple2)  # Less than or equal to check\n",
        "print(\"tuple1 > tuple2:\", tuple1 > tuple2)    # Greater than check\n",
        "print(\"tuple1 >= tuple2:\", tuple1 >= tuple2)  # Greater than or equal to check"
      ]
    },
    {
      "cell_type": "markdown",
      "metadata": {
        "id": "qqLClQgFrij2"
      },
      "source": [
        "19. Delete a tuple."
      ]
    },
    {
      "cell_type": "code",
      "execution_count": null,
      "metadata": {
        "colab": {
          "base_uri": "https://localhost:8080/",
          "height": 185
        },
        "id": "LmSywJ10rl2B",
        "outputId": "dbc87bd8-27ca-44bc-a30f-4255dd9fbd09"
      },
      "outputs": [
        {
          "output_type": "error",
          "ename": "NameError",
          "evalue": "name 'tuple1' is not defined",
          "traceback": [
            "\u001b[0;31m---------------------------------------------------------------------------\u001b[0m",
            "\u001b[0;31mNameError\u001b[0m                                 Traceback (most recent call last)",
            "\u001b[0;32m<ipython-input-125-d81146628215>\u001b[0m in \u001b[0;36m<cell line: 3>\u001b[0;34m()\u001b[0m\n\u001b[1;32m      1\u001b[0m \u001b[0mtuple1\u001b[0m \u001b[0;34m=\u001b[0m \u001b[0;34m(\u001b[0m\u001b[0;36m1\u001b[0m\u001b[0;34m,\u001b[0m \u001b[0;36m2\u001b[0m\u001b[0;34m,\u001b[0m \u001b[0;36m3\u001b[0m\u001b[0;34m)\u001b[0m\u001b[0;34m\u001b[0m\u001b[0;34m\u001b[0m\u001b[0m\n\u001b[1;32m      2\u001b[0m \u001b[0;32mdel\u001b[0m \u001b[0mtuple1\u001b[0m\u001b[0;34m\u001b[0m\u001b[0;34m\u001b[0m\u001b[0m\n\u001b[0;32m----> 3\u001b[0;31m \u001b[0mtuple1\u001b[0m\u001b[0;34m\u001b[0m\u001b[0;34m\u001b[0m\u001b[0m\n\u001b[0m",
            "\u001b[0;31mNameError\u001b[0m: name 'tuple1' is not defined"
          ]
        }
      ],
      "source": [
        "tuple1 = (1, 2, 3)\n",
        "del tuple1\n",
        "tuple1"
      ]
    },
    {
      "cell_type": "markdown",
      "metadata": {
        "id": "QjS7VGLHrt8Z"
      },
      "source": [
        "20. Slice a tuple."
      ]
    },
    {
      "cell_type": "code",
      "execution_count": null,
      "metadata": {
        "colab": {
          "base_uri": "https://localhost:8080/"
        },
        "id": "yIJzU0Jlrwvf",
        "outputId": "292dff14-70bb-40b6-af95-8f4c950e89ee"
      },
      "outputs": [
        {
          "output_type": "stream",
          "name": "stdout",
          "text": [
            "Sliced tuple: (3, 4, 5, 6)\n"
          ]
        }
      ],
      "source": [
        "# Step 1: Create a tuple\n",
        "my_tuple = (1, 2, 3, 4, 5, 6, 7, 8, 9, 10)\n",
        "\n",
        "# Step 2: Slice the tuple to get a portion of it\n",
        "sliced_tuple = my_tuple[2:6]  # Elements from index 2 to 5 (end index is exclusive)\n",
        "\n",
        "# Step 3: Print the sliced tuple\n",
        "print(\"Sliced tuple:\", sliced_tuple)"
      ]
    },
    {
      "cell_type": "markdown",
      "metadata": {
        "id": "EU4HkPz9sKrt"
      },
      "source": [
        "21. Find the maximum value in a tuple."
      ]
    },
    {
      "cell_type": "code",
      "execution_count": null,
      "metadata": {
        "colab": {
          "base_uri": "https://localhost:8080/"
        },
        "id": "KkIRLt5psOI0",
        "outputId": "ff86bc86-eaf5-4341-caa3-239e74720bda"
      },
      "outputs": [
        {
          "output_type": "execute_result",
          "data": {
            "text/plain": [
              "10"
            ]
          },
          "metadata": {},
          "execution_count": 128
        }
      ],
      "source": [
        "my_tuple = (1, 2, 3, 4, 5, 6, 7, 8, 9, 10)\n",
        "max1=1\n",
        "for i in my_tuple:\n",
        "  if i > max1:\n",
        "    max1=i\n",
        "max1"
      ]
    },
    {
      "cell_type": "markdown",
      "metadata": {
        "id": "NP_dzxecsiuK"
      },
      "source": [
        "22. Find the minimum value in a tuple."
      ]
    },
    {
      "cell_type": "code",
      "execution_count": null,
      "metadata": {
        "colab": {
          "base_uri": "https://localhost:8080/"
        },
        "id": "26bIrdh_slNy",
        "outputId": "e26667c2-4f5b-47f3-80fe-26b0c98f1b7a"
      },
      "outputs": [
        {
          "output_type": "execute_result",
          "data": {
            "text/plain": [
              "1"
            ]
          },
          "metadata": {},
          "execution_count": 129
        }
      ],
      "source": [
        "my_tuple = (1, 2, 3, 4, 5, 6, 7, 8, 9, 10)\n",
        "max1=1\n",
        "for i in my_tuple:\n",
        "  if i < max1:\n",
        "    max1=i\n",
        "max1"
      ]
    },
    {
      "cell_type": "markdown",
      "metadata": {
        "id": "HtcvuZrSsvxj"
      },
      "source": [
        "23. Convert a string to a tuple of characters."
      ]
    },
    {
      "cell_type": "code",
      "execution_count": null,
      "metadata": {
        "colab": {
          "base_uri": "https://localhost:8080/"
        },
        "id": "-cspSkhctQBT",
        "outputId": "de7fd004-d3b7-4de9-df51-47cdb69e0567"
      },
      "outputs": [
        {
          "output_type": "stream",
          "name": "stdout",
          "text": [
            "('u', 'd', 'a', 'y', ' ', 's', 'u', 'd', 'h', 'a', 'k', 'a', 'r', ' ', 'p', 'a', 't', 'i', 'l')"
          ]
        }
      ],
      "source": [
        "a=\"uday sudhakar patil\"\n",
        "a=tuple(a)\n",
        "print(a,end='')"
      ]
    },
    {
      "cell_type": "markdown",
      "metadata": {
        "id": "H2HLuimnt8G0"
      },
      "source": [
        "24. Convert a tuple of characters to a string."
      ]
    },
    {
      "cell_type": "code",
      "execution_count": null,
      "metadata": {
        "colab": {
          "base_uri": "https://localhost:8080/",
          "height": 36
        },
        "id": "b1E66vwwuASJ",
        "outputId": "bb34245f-6f82-4262-9a53-c207d2e392ef"
      },
      "outputs": [
        {
          "output_type": "execute_result",
          "data": {
            "text/plain": [
              "'(1, 2, 3, 4, 5, 6, 7, 8, 9, 10)'"
            ],
            "application/vnd.google.colaboratory.intrinsic+json": {
              "type": "string"
            }
          },
          "metadata": {},
          "execution_count": 131
        }
      ],
      "source": [
        "my_tuple = (1, 2, 3, 4, 5, 6, 7, 8, 9, 10)\n",
        "a=(str(my_tuple))\n",
        "a"
      ]
    },
    {
      "cell_type": "markdown",
      "metadata": {
        "id": "8GMAIIdzt_kQ"
      },
      "source": [
        "25. Create a tuple from multiple data types."
      ]
    },
    {
      "cell_type": "code",
      "execution_count": null,
      "metadata": {
        "colab": {
          "base_uri": "https://localhost:8080/"
        },
        "id": "-AVIDBptvIl7",
        "outputId": "9133232c-fcfe-4cbc-e8b8-daa5b0b31040"
      },
      "outputs": [
        {
          "output_type": "execute_result",
          "data": {
            "text/plain": [
              "(1, 2, 3, 'a', 'b', 'c', True, False)"
            ]
          },
          "metadata": {},
          "execution_count": 132
        }
      ],
      "source": [
        "my_tuple = (1, 2, 3, 'a', 'b', 'c', True, False)\n",
        "my_tuple"
      ]
    },
    {
      "cell_type": "markdown",
      "metadata": {
        "id": "N_to_8zovb-8"
      },
      "source": [
        "26. Check if two tuples are identical."
      ]
    },
    {
      "cell_type": "code",
      "execution_count": null,
      "metadata": {
        "colab": {
          "base_uri": "https://localhost:8080/"
        },
        "id": "278SWsafviTh",
        "outputId": "29b13b3e-9a7b-497f-b7e0-2aa797b3cc87"
      },
      "outputs": [
        {
          "output_type": "stream",
          "name": "stdout",
          "text": [
            "non identical\n"
          ]
        }
      ],
      "source": [
        "tuple1 = (1, 2, 3)\n",
        "tuple2 = (1, 2, 4)\n",
        "if tuple1 is tuple2:\n",
        "  print(\"identical\")\n",
        "else:\n",
        "  print(\"non identical\")"
      ]
    },
    {
      "cell_type": "markdown",
      "metadata": {
        "id": "35WgeEcawC-8"
      },
      "source": [
        "27. Sort the elements of a tuple."
      ]
    },
    {
      "cell_type": "code",
      "execution_count": null,
      "metadata": {
        "colab": {
          "base_uri": "https://localhost:8080/"
        },
        "id": "3S_ByRXvwFL3",
        "outputId": "45df8b2e-d563-4f8f-f95c-678fb26182e8"
      },
      "outputs": [
        {
          "output_type": "execute_result",
          "data": {
            "text/plain": [
              "[21, 23, 43, 43, 54, 57]"
            ]
          },
          "metadata": {},
          "execution_count": 134
        }
      ],
      "source": [
        "a=(23,43,54,21,57,43)\n",
        "a=sorted(a)\n",
        "a"
      ]
    },
    {
      "cell_type": "markdown",
      "metadata": {
        "id": "wyG5mTKEwnIS"
      },
      "source": [
        "28. Convert a tuple of integers to a tuple of strings."
      ]
    },
    {
      "cell_type": "code",
      "execution_count": null,
      "metadata": {
        "colab": {
          "base_uri": "https://localhost:8080/"
        },
        "id": "UgevWqZRwsLW",
        "outputId": "dc740b1a-19e8-49f3-adb4-5430d77ad2f9"
      },
      "outputs": [
        {
          "output_type": "stream",
          "name": "stdout",
          "text": [
            "Tuple of strings: ('1', '2', '3', '4', '5')\n"
          ]
        }
      ],
      "source": [
        "# Step 1: Create a tuple of integers\n",
        "tuple_of_integers = (1, 2, 3, 4, 5)\n",
        "\n",
        "# Step 2: Convert the tuple of integers to a tuple of strings using a list comprehension\n",
        "tuple_of_strings = tuple(str(item) for item in tuple_of_integers)\n",
        "\n",
        "# Step 3: Print the tuple of strings\n",
        "print(\"Tuple of strings:\", tuple_of_strings)"
      ]
    },
    {
      "cell_type": "markdown",
      "metadata": {
        "id": "PBGbSGz3wwiS"
      },
      "source": [
        "29. Convert a tuple of strings to a tuple of integers.\n"
      ]
    },
    {
      "cell_type": "code",
      "execution_count": null,
      "metadata": {
        "colab": {
          "base_uri": "https://localhost:8080/"
        },
        "id": "H_rnFFoZw0xC",
        "outputId": "23ec4c39-c9e8-40d4-f100-d837fed310c1"
      },
      "outputs": [
        {
          "output_type": "stream",
          "name": "stdout",
          "text": [
            "Tuple of integers: (10, 20, 30, 40, 50)\n"
          ]
        }
      ],
      "source": [
        "# Step 1: Create a tuple of strings\n",
        "tuple_of_strings = ('10', '20', '30', '40', '50')\n",
        "\n",
        "# Step 2: Convert the tuple of strings to a tuple of integers using a list comprehension\n",
        "tuple_of_integers = tuple(int(item) for item in tuple_of_strings)\n",
        "\n",
        "# Step 3: Print the tuple of integers\n",
        "print(\"Tuple of integers:\", tuple_of_integers)"
      ]
    },
    {
      "cell_type": "markdown",
      "metadata": {
        "id": "5JJT-MG8w5In"
      },
      "source": [
        "30. Merge two tuples."
      ]
    },
    {
      "cell_type": "code",
      "execution_count": null,
      "metadata": {
        "colab": {
          "base_uri": "https://localhost:8080/"
        },
        "id": "7pdUqSvMw7_A",
        "outputId": "8bde6b27-bf69-4d40-e9d0-2474486bed2c"
      },
      "outputs": [
        {
          "output_type": "execute_result",
          "data": {
            "text/plain": [
              "(1, 2, 3, 1, 2, 4)"
            ]
          },
          "metadata": {},
          "execution_count": 137
        }
      ],
      "source": [
        "tuple1 = (1, 2, 3)\n",
        "tuple2 = (1, 2, 4)\n",
        "a=tuple1+tuple2\n",
        "a"
      ]
    },
    {
      "cell_type": "markdown",
      "metadata": {
        "id": "mLdB-0_-2Bg7"
      },
      "source": [
        "31. Flatten a nested tuple."
      ]
    },
    {
      "cell_type": "code",
      "execution_count": null,
      "metadata": {
        "colab": {
          "base_uri": "https://localhost:8080/"
        },
        "id": "pzwqekhW2I2u",
        "outputId": "42b22259-2879-4181-e4c9-788c1eba8f15"
      },
      "outputs": [
        {
          "output_type": "stream",
          "name": "stdout",
          "text": [
            "Flattened tuple: (1, 2, 3, 4, 5, 6, 7, 8)\n"
          ]
        }
      ],
      "source": [
        "# Recursive function to flatten a nested tuple\n",
        "def flatten_tuple(nested_tuple):\n",
        "    flattened = []\n",
        "    for item in nested_tuple:\n",
        "        if isinstance(item, tuple):\n",
        "            flattened.extend(flatten_tuple(item))\n",
        "        else:\n",
        "            flattened.append(item)\n",
        "    return flattened\n",
        "\n",
        "# Step 1: Create a nested tuple\n",
        "nested_tuple = ((1, 2), (3, 4, 5), (6, (7, 8)))\n",
        "\n",
        "# Step 2: Flatten the nested tuple\n",
        "flattened_tuple = tuple(flatten_tuple(nested_tuple))\n",
        "\n",
        "# Step 3: Print the flattened tuple\n",
        "print(\"Flattened tuple:\", flattened_tuple)"
      ]
    },
    {
      "cell_type": "markdown",
      "metadata": {
        "id": "z_61rjPH2PJF"
      },
      "source": [
        "32. Create a tuple of the first 5 prime numbers."
      ]
    },
    {
      "cell_type": "code",
      "execution_count": null,
      "metadata": {
        "colab": {
          "base_uri": "https://localhost:8080/"
        },
        "id": "XkQo2EsW2O11",
        "outputId": "1cc78915-581f-46b9-81d5-c1bff2159b42"
      },
      "outputs": [
        {
          "output_type": "stream",
          "name": "stdout",
          "text": [
            "Tuple of the first 5 prime numbers: (2, 3, 5, 7, 11)\n"
          ]
        }
      ],
      "source": [
        "# Function to check if a number is prime\n",
        "def is_prime(num):\n",
        "    if num <= 1:\n",
        "        return False\n",
        "    for i in range(2, int(num ** 0.5) + 1):\n",
        "        if num % i == 0:\n",
        "            return False\n",
        "    return True\n",
        "\n",
        "# Generate the first 5 prime numbers\n",
        "prime_numbers_list = [num for num in range(2, 100) if is_prime(num)][:5]\n",
        "\n",
        "# Convert the list to a tuple\n",
        "prime_numbers_tuple = tuple(prime_numbers_list)\n",
        "\n",
        "# Print the tuple of prime numbers\n",
        "print(\"Tuple of the first 5 prime numbers:\", prime_numbers_tuple)"
      ]
    },
    {
      "cell_type": "markdown",
      "metadata": {
        "id": "opSB2L8H2qz_"
      },
      "source": [
        "33. Check if a tuple is a palindrome."
      ]
    },
    {
      "cell_type": "code",
      "execution_count": null,
      "metadata": {
        "colab": {
          "base_uri": "https://localhost:8080/"
        },
        "id": "KEBhYbAN2te9",
        "outputId": "5990c899-13b8-430e-9d36-d9bd9d0f88d8"
      },
      "outputs": [
        {
          "output_type": "stream",
          "name": "stdout",
          "text": [
            "pelindrom\n"
          ]
        }
      ],
      "source": [
        "t=(1,2,3,2,1)\n",
        "if t==t[::-1]:\n",
        "  print(\"pelindrom\")\n",
        "else:\n",
        "  print(\"no\")"
      ]
    },
    {
      "cell_type": "markdown",
      "metadata": {
        "id": "92x0q3PR3uF4"
      },
      "source": [
        "34. Create a tuple of squares of numbers from 1 to 5."
      ]
    },
    {
      "cell_type": "code",
      "execution_count": null,
      "metadata": {
        "colab": {
          "base_uri": "https://localhost:8080/"
        },
        "id": "_GMy-gdw2-3A",
        "outputId": "47c0c120-4ac3-4eb7-8433-1dcbf0e41b49"
      },
      "outputs": [
        {
          "output_type": "execute_result",
          "data": {
            "text/plain": [
              "(1, 4, 9, 16, 25)"
            ]
          },
          "metadata": {},
          "execution_count": 141
        }
      ],
      "source": [
        "a=tuple(i**2 for i in range(1,6))\n",
        "a"
      ]
    },
    {
      "cell_type": "markdown",
      "metadata": {
        "id": "8vQm81tR4FLg"
      },
      "source": [
        "35. Filter out all even numbers from a tuple."
      ]
    },
    {
      "cell_type": "code",
      "execution_count": null,
      "metadata": {
        "colab": {
          "base_uri": "https://localhost:8080/"
        },
        "id": "hKlc0kTz4JOJ",
        "outputId": "3b13f573-8170-4bdc-dc84-11b4d943933c"
      },
      "outputs": [
        {
          "output_type": "execute_result",
          "data": {
            "text/plain": [
              "(2, 4, 6)"
            ]
          },
          "metadata": {},
          "execution_count": 142
        }
      ],
      "source": [
        "a=(1,2,3,4,5,6)\n",
        "b=tuple(i for i in a if i%2==0)\n",
        "b"
      ]
    },
    {
      "cell_type": "markdown",
      "metadata": {
        "id": "z-d6NQdU4g3-"
      },
      "source": [
        "36. Multiply all elements in a tuple by 2."
      ]
    },
    {
      "cell_type": "code",
      "execution_count": null,
      "metadata": {
        "colab": {
          "base_uri": "https://localhost:8080/"
        },
        "id": "a_nFYBru4j6G",
        "outputId": "555d2794-c6c9-480e-f955-dad2fa013382"
      },
      "outputs": [
        {
          "output_type": "execute_result",
          "data": {
            "text/plain": [
              "(2, 4, 6, 8, 10, 12)"
            ]
          },
          "metadata": {},
          "execution_count": 143
        }
      ],
      "source": [
        "a=(1,2,3,4,5,6)\n",
        "b=tuple(i*2 for i in a)\n",
        "b\n"
      ]
    },
    {
      "cell_type": "markdown",
      "metadata": {
        "id": "_GOlIbGk40Qo"
      },
      "source": [
        "37. Create a tuple of random numbers."
      ]
    },
    {
      "cell_type": "code",
      "execution_count": null,
      "metadata": {
        "colab": {
          "base_uri": "https://localhost:8080/"
        },
        "id": "DXnz7GVr42MJ",
        "outputId": "098bd233-dc4e-4164-fe1f-e11ffbfa38bc"
      },
      "outputs": [
        {
          "output_type": "stream",
          "name": "stdout",
          "text": [
            "Random tuple: (89, 19, 16, 49, 70, 23, 56, 83, 33, 71)\n"
          ]
        }
      ],
      "source": [
        "import random\n",
        "\n",
        "# Create a tuple of random numbers using a list comprehension\n",
        "random_tuple = tuple(random.randint(1, 100) for _ in range(10))  # Generating 10 random numbers between 1 and 100\n",
        "\n",
        "# Print the tuple of random numbers\n",
        "print(\"Random tuple:\", random_tuple)"
      ]
    },
    {
      "cell_type": "markdown",
      "metadata": {
        "id": "l5FM9O-d5YAk"
      },
      "source": [
        "38. Check if a tuple is sorted."
      ]
    },
    {
      "cell_type": "code",
      "execution_count": null,
      "metadata": {
        "colab": {
          "base_uri": "https://localhost:8080/"
        },
        "id": "gPzG0cJL5at_",
        "outputId": "d32cb6c3-b449-47f0-d1b7-9da257fc6080"
      },
      "outputs": [
        {
          "output_type": "stream",
          "name": "stdout",
          "text": [
            "not sorted\n"
          ]
        }
      ],
      "source": [
        "a=(98, 47, 9, 23, 38, 21, 9, 64, 25, 37)\n",
        "for i in range(len(a)-1):\n",
        "  if a[i]>a[i+1]:\n",
        "    print(\"not sorted\")\n",
        "    break\n",
        "  else:\n",
        "    print(\"shorted\")"
      ]
    },
    {
      "cell_type": "markdown",
      "metadata": {
        "id": "5e0NbPB56Nv4"
      },
      "source": [
        "39. Rotate a tuple to the left by `n` positions."
      ]
    },
    {
      "cell_type": "code",
      "execution_count": null,
      "metadata": {
        "colab": {
          "base_uri": "https://localhost:8080/"
        },
        "id": "7CN_d0lR6SZ_",
        "outputId": "4a406f94-4c2d-4066-a839-9d29b6150908"
      },
      "outputs": [
        {
          "output_type": "stream",
          "name": "stdout",
          "text": [
            "(3, 4, 5, 1, 2)\n"
          ]
        }
      ],
      "source": [
        "def rotate_tuple_left(tup, n):\n",
        "    n = n % len(tup)  # Ensure n is within the range of tuple length\n",
        "    rotated_tuple = tup[n:] + tup[:n]  # Rotate the tuple\n",
        "    return rotated_tuple\n",
        "\n",
        "# Example tuple\n",
        "my_tuple = (1, 2, 3, 4, 5)\n",
        "n_positions = 2\n",
        "result = rotate_tuple_left(my_tuple, n_positions)\n",
        "print(result)"
      ]
    },
    {
      "cell_type": "markdown",
      "metadata": {
        "id": "qrFKRWGu6fkL"
      },
      "source": [
        "40. Rotate a tuple to the right by `n` positions."
      ]
    },
    {
      "cell_type": "code",
      "execution_count": null,
      "metadata": {
        "colab": {
          "base_uri": "https://localhost:8080/"
        },
        "id": "SGpBYDzw6fMi",
        "outputId": "0abf6031-4cdd-4e4e-95e5-890a93595f41"
      },
      "outputs": [
        {
          "output_type": "stream",
          "name": "stdout",
          "text": [
            "(4, 5, 1, 2, 3)\n"
          ]
        }
      ],
      "source": [
        "def rotate_tuple_left(tup, n):\n",
        "    n = n % len(tup)  # Ensure n is within the range of tuple length\n",
        "    rotated_tuple = tup[-n:] + tup[:-n]  # Rotate the tuple\n",
        "    return rotated_tuple\n",
        "\n",
        "# Example tuple\n",
        "my_tuple = (1, 2, 3, 4, 5)\n",
        "n_positions = 2\n",
        "result = rotate_tuple_left(my_tuple, n_positions)\n",
        "print(result)"
      ]
    },
    {
      "cell_type": "markdown",
      "metadata": {
        "id": "jvvu7eUb6rw_"
      },
      "source": [
        "41. Create a tuple of the first 5 Fibonacci numbers."
      ]
    },
    {
      "cell_type": "code",
      "execution_count": null,
      "metadata": {
        "colab": {
          "base_uri": "https://localhost:8080/"
        },
        "id": "J_K83Jhx6sqU",
        "outputId": "5fdeae5d-49e7-402a-fd95-6b4174607636"
      },
      "outputs": [
        {
          "output_type": "stream",
          "name": "stdout",
          "text": [
            "(0, 1, 1, 2, 3, 5, 8, 13, 21, 34)\n"
          ]
        }
      ],
      "source": [
        "lst=[]\n",
        "for i in range(10):\n",
        "  if i==0:\n",
        "    lst.append(0)\n",
        "  elif i==1:\n",
        "    lst.append(1)\n",
        "  else:\n",
        "    lst.append(lst[i-1]+lst[i-2])\n",
        "print(tuple(lst))"
      ]
    },
    {
      "cell_type": "markdown",
      "metadata": {
        "id": "U_JkfMuP7Y5W"
      },
      "source": [
        "42. Create a tuple from user input."
      ]
    },
    {
      "cell_type": "code",
      "execution_count": null,
      "metadata": {
        "colab": {
          "base_uri": "https://localhost:8080/"
        },
        "id": "1t16dmxg777X",
        "outputId": "76e8e794-79c4-4ace-fee9-39dc4fe326ae"
      },
      "outputs": [
        {
          "output_type": "stream",
          "name": "stdout",
          "text": [
            "Enter elements separated by commas: uday\n",
            "User input tuple: ('uday',)\n"
          ]
        }
      ],
      "source": [
        "# Taking user input for creating a tuple\n",
        "input_str = input(\"Enter elements separated by commas: \")\n",
        "\n",
        "# Splitting the input string into a list of strings\n",
        "input_list = input_str.split(',')\n",
        "\n",
        "# Converting the list of strings to a tuple\n",
        "user_tuple = tuple(input_list)\n",
        "\n",
        "# Printing the created tuple\n",
        "print(\"User input tuple:\", user_tuple)"
      ]
    },
    {
      "cell_type": "markdown",
      "metadata": {
        "id": "TNcChV6P8n2S"
      },
      "source": [
        "43. Swap two elements in a tuple."
      ]
    },
    {
      "cell_type": "code",
      "execution_count": null,
      "metadata": {
        "colab": {
          "base_uri": "https://localhost:8080/"
        },
        "id": "NHn_f7O08rox",
        "outputId": "6102c836-d82d-4007-8d16-84a8f8cf2305"
      },
      "outputs": [
        {
          "output_type": "stream",
          "name": "stdout",
          "text": [
            "Swapped tuple: (1, 4, 3, 2, 5)\n"
          ]
        }
      ],
      "source": [
        "# Create a tuple\n",
        "my_tuple = (1, 2, 3, 4, 5)\n",
        "\n",
        "# Swap elements at indices 1 and 3\n",
        "index1 = 1\n",
        "index2 = 3\n",
        "swapped_tuple = tuple(\n",
        "    my_tuple[i] if i not in (index1, index2) else\n",
        "    my_tuple[index2] if i == index1 else\n",
        "    my_tuple[index1]\n",
        "    for i in range(len(my_tuple))\n",
        ")\n",
        "\n",
        "# Print the swapped tuple\n",
        "print(\"Swapped tuple:\", swapped_tuple)"
      ]
    },
    {
      "cell_type": "markdown",
      "metadata": {
        "id": "QHOHIKQG9O19"
      },
      "source": [
        "44. Reverse the elements of a tuple."
      ]
    },
    {
      "cell_type": "code",
      "execution_count": null,
      "metadata": {
        "colab": {
          "base_uri": "https://localhost:8080/"
        },
        "id": "u92K-lek9XTb",
        "outputId": "50aa6651-5269-4c11-c17e-a8678c12a97f"
      },
      "outputs": [
        {
          "output_type": "execute_result",
          "data": {
            "text/plain": [
              "(5, 4, 3, 2, 1)"
            ]
          },
          "metadata": {},
          "execution_count": 151
        }
      ],
      "source": [
        "my_tuple = (1, 2, 3, 4, 5)\n",
        "a=my_tuple[::-1]\n",
        "a"
      ]
    },
    {
      "cell_type": "markdown",
      "metadata": {
        "id": "YN3Jcxxa9dl5"
      },
      "source": [
        "45. Create a tuple of the first `n` powers of 2."
      ]
    },
    {
      "cell_type": "code",
      "execution_count": null,
      "metadata": {
        "colab": {
          "base_uri": "https://localhost:8080/"
        },
        "id": "-mvhhZjD9hLC",
        "outputId": "dc7b87f7-0f1b-4061-8160-9df73169c8ab"
      },
      "outputs": [
        {
          "output_type": "execute_result",
          "data": {
            "text/plain": [
              "(1, 2, 4, 8, 16)"
            ]
          },
          "metadata": {},
          "execution_count": 152
        }
      ],
      "source": [
        "a=tuple(2**i for i in range(5))\n",
        "a"
      ]
    },
    {
      "cell_type": "markdown",
      "metadata": {
        "id": "G_8uMSoS-GRk"
      },
      "source": [
        "46. Find the longest string in a tuple of strings."
      ]
    },
    {
      "cell_type": "code",
      "execution_count": null,
      "metadata": {
        "colab": {
          "base_uri": "https://localhost:8080/"
        },
        "id": "1H8h3V7d-L52",
        "outputId": "0e03e654-c1b9-4a1d-9e9d-921ed2446f6d"
      },
      "outputs": [
        {
          "output_type": "stream",
          "name": "stdout",
          "text": [
            "Longest string: watermelon\n"
          ]
        }
      ],
      "source": [
        "# Create a tuple of strings\n",
        "string_tuple = (\"apple\", \"banana\", \"grape\", \"kiwi\", \"watermelon\")\n",
        "\n",
        "# Find the longest string in the tuple\n",
        "longest_string = max(string_tuple, key=len)\n",
        "\n",
        "# Print the longest string\n",
        "print(\"Longest string:\", longest_string)"
      ]
    },
    {
      "cell_type": "markdown",
      "metadata": {
        "id": "zatPRQDE-j-b"
      },
      "source": [
        "47. Find the shortest string in a tuple of strings."
      ]
    },
    {
      "cell_type": "code",
      "execution_count": null,
      "metadata": {
        "colab": {
          "base_uri": "https://localhost:8080/"
        },
        "id": "4wBpB1W_-mmr",
        "outputId": "6fc70796-6822-4831-a945-a433a917dad4"
      },
      "outputs": [
        {
          "output_type": "stream",
          "name": "stdout",
          "text": [
            "shorted string:  kiwi\n"
          ]
        }
      ],
      "source": [
        "string_tuple = (\"apple\", \"banana\", \"grape\", \"kiwi\", \"watermelon\")\n",
        "shorted_string= min(string_tuple,key=len)\n",
        "print(\"shorted string: \",shorted_string)"
      ]
    },
    {
      "cell_type": "markdown",
      "metadata": {
        "id": "fEFGLTA3_Lrw"
      },
      "source": [
        "48. Create a tuple of the first `n` triangular numbers."
      ]
    },
    {
      "cell_type": "code",
      "execution_count": null,
      "metadata": {
        "colab": {
          "base_uri": "https://localhost:8080/"
        },
        "id": "3c7vR2gI_QE_",
        "outputId": "5f1e8853-a1f9-4439-d56e-ce71be199a02"
      },
      "outputs": [
        {
          "output_type": "stream",
          "name": "stdout",
          "text": [
            "Tuple of the first 5 triangular numbers: (1, 3, 6, 10, 15)\n"
          ]
        }
      ],
      "source": [
        "# Define the value of n\n",
        "n = 5\n",
        "\n",
        "# Create a tuple of the first n triangular numbers using a list comprehension\n",
        "triangular_numbers_tuple = tuple((i * (i + 1)) // 2 for i in range(1, n + 1))\n",
        "\n",
        "# Print the tuple of triangular numbers\n",
        "print(\"Tuple of the first\", n, \"triangular numbers:\", triangular_numbers_tuple)"
      ]
    },
    {
      "cell_type": "markdown",
      "metadata": {
        "id": "xfMcJDRI_V4M"
      },
      "source": [
        "49. Check if a tuple contains another tuple as a subsequence."
      ]
    },
    {
      "cell_type": "code",
      "execution_count": null,
      "metadata": {
        "colab": {
          "base_uri": "https://localhost:8080/"
        },
        "id": "NZlU5rdz_Z2W",
        "outputId": "8b82c000-7dd8-4e25-f064-11c22f8da36b"
      },
      "outputs": [
        {
          "output_type": "stream",
          "name": "stdout",
          "text": [
            "Main tuple contains subsequence tuple: True\n"
          ]
        }
      ],
      "source": [
        "# Function to check if a tuple contains another tuple as a subsequence\n",
        "def contains_subsequence(main_tuple, sub_tuple):\n",
        "    sub_length = len(sub_tuple)\n",
        "    for i in range(len(main_tuple) - sub_length + 1):\n",
        "        if main_tuple[i:i+sub_length] == sub_tuple:\n",
        "            return True\n",
        "    return False\n",
        "\n",
        "# Main tuple\n",
        "main_tuple = (1, 2, 3, 4, 5, 6, 7, 8, 9)\n",
        "\n",
        "# Subsequence tuple\n",
        "sub_tuple = (3, 4, 5)\n",
        "\n",
        "# Check if the main tuple contains the subsequence tuple\n",
        "contains_subseq = contains_subsequence(main_tuple, sub_tuple)\n",
        "\n",
        "# Print the result\n",
        "print(\"Main tuple contains subsequence tuple:\", contains_subseq)"
      ]
    },
    {
      "cell_type": "markdown",
      "metadata": {
        "id": "adFnQyRs_e9f"
      },
      "source": [
        "50. Create a tuple of alternating 1s and 0s of length `n`."
      ]
    },
    {
      "cell_type": "code",
      "execution_count": null,
      "metadata": {
        "colab": {
          "base_uri": "https://localhost:8080/"
        },
        "id": "JzyCP5SX_hfF",
        "outputId": "cf2c81b8-0841-481a-d39a-970fe3a63d2e"
      },
      "outputs": [
        {
          "output_type": "stream",
          "name": "stdout",
          "text": [
            "Tuple of alternating 1s and 0s: (0, 1, 0, 1, 0, 1, 0, 1, 0, 1)\n"
          ]
        }
      ],
      "source": [
        "# Define the value of n\n",
        "n = 10\n",
        "\n",
        "# Create a tuple of alternating 1s and 0s using a list comprehension\n",
        "alternating_tuple = tuple(i % 2 for i in range(n))\n",
        "\n",
        "# Print the tuple of alternating 1s and 0s\n",
        "print(\"Tuple of alternating 1s and 0s:\", alternating_tuple)"
      ]
    },
    {
      "cell_type": "markdown",
      "metadata": {
        "id": "Xm8rbFHBbtZh"
      },
      "source": [
        "## **Set based problems:**"
      ]
    },
    {
      "cell_type": "markdown",
      "metadata": {
        "id": "uP4kKIIFb6fx"
      },
      "source": [
        "1. Create a set with integers from 1 to 5."
      ]
    },
    {
      "cell_type": "code",
      "execution_count": null,
      "metadata": {
        "colab": {
          "base_uri": "https://localhost:8080/"
        },
        "id": "117_0fOGbs0s",
        "outputId": "b9225995-539d-436c-e04a-0fcab9195fef"
      },
      "outputs": [
        {
          "output_type": "stream",
          "name": "stdout",
          "text": [
            "{1, 2, 3, 4}\n"
          ]
        }
      ],
      "source": [
        "a=set()\n",
        "a.add(1)\n",
        "a.add(2)\n",
        "a.add(3)\n",
        "a.add(4)\n",
        "print(a)\n"
      ]
    },
    {
      "cell_type": "markdown",
      "metadata": {
        "id": "fnDvmmetcMhW"
      },
      "source": []
    },
    {
      "cell_type": "markdown",
      "metadata": {
        "id": "Ay_LHqDd8VNc"
      },
      "source": [
        "2. Add an element to a set."
      ]
    },
    {
      "cell_type": "code",
      "execution_count": null,
      "metadata": {
        "colab": {
          "base_uri": "https://localhost:8080/"
        },
        "id": "BcmFqTmP8U_O",
        "outputId": "b3adc896-4e77-4c18-d818-e760929aacea"
      },
      "outputs": [
        {
          "output_type": "stream",
          "name": "stdout",
          "text": [
            "{1, 2, 3, 4}\n"
          ]
        }
      ],
      "source": [
        "a=set()\n",
        "a.add(1)\n",
        "a.add(2)\n",
        "a.add(3)\n",
        "a.add(4)\n",
        "print(a)\n"
      ]
    },
    {
      "cell_type": "markdown",
      "metadata": {
        "id": "SwrjcZe883n0"
      },
      "source": [
        "3. Remove an element from a set."
      ]
    },
    {
      "cell_type": "code",
      "execution_count": null,
      "metadata": {
        "colab": {
          "base_uri": "https://localhost:8080/"
        },
        "id": "8Bjkox4585sx",
        "outputId": "d0229838-1295-4717-e691-69f837907b2d"
      },
      "outputs": [
        {
          "output_type": "execute_result",
          "data": {
            "text/plain": [
              "{2, 3, 4}"
            ]
          },
          "metadata": {},
          "execution_count": 160
        }
      ],
      "source": [
        "a={1, 2, 3, 4}\n",
        "a.remove(1)\n",
        "a"
      ]
    },
    {
      "cell_type": "markdown",
      "metadata": {
        "id": "xvFh8mn59GY4"
      },
      "source": [
        "4. Check if an element exists in a set."
      ]
    },
    {
      "cell_type": "code",
      "execution_count": null,
      "metadata": {
        "colab": {
          "base_uri": "https://localhost:8080/"
        },
        "id": "XjAi3sRy9IyN",
        "outputId": "4c56d373-49b4-43ef-ac52-e72bf7dee4f9"
      },
      "outputs": [
        {
          "output_type": "stream",
          "name": "stdout",
          "text": [
            "Not\n"
          ]
        }
      ],
      "source": [
        "a={1, 2, 3, 4}\n",
        "b=5\n",
        "\n",
        "if b in a:\n",
        "  print(\"Exist\")\n",
        "else:\n",
        "  print(\"Not\")"
      ]
    },
    {
      "cell_type": "markdown",
      "metadata": {
        "id": "t7VKyipD956J"
      },
      "source": [
        "5. Find the length of a set without using the `len()` function."
      ]
    },
    {
      "cell_type": "code",
      "execution_count": null,
      "metadata": {
        "colab": {
          "base_uri": "https://localhost:8080/"
        },
        "id": "CP9YXhwt98yJ",
        "outputId": "b12da8a4-ca78-46c6-8c28-55d40c35b5e2"
      },
      "outputs": [
        {
          "output_type": "execute_result",
          "data": {
            "text/plain": [
              "4"
            ]
          },
          "metadata": {},
          "execution_count": 162
        }
      ],
      "source": [
        "a={1, 2, 3, 4}\n",
        "count=0\n",
        "for i in a:\n",
        "  count+=1\n",
        "count"
      ]
    },
    {
      "cell_type": "markdown",
      "metadata": {
        "id": "I8wjcOa7-E2T"
      },
      "source": [
        "6. Clear all elements from a set."
      ]
    },
    {
      "cell_type": "code",
      "execution_count": null,
      "metadata": {
        "colab": {
          "base_uri": "https://localhost:8080/"
        },
        "id": "LmCqwfd4-G_P",
        "outputId": "ca1e83e3-18d6-41e1-e1bb-53b706eaa4de"
      },
      "outputs": [
        {
          "output_type": "execute_result",
          "data": {
            "text/plain": [
              "set()"
            ]
          },
          "metadata": {},
          "execution_count": 163
        }
      ],
      "source": [
        "a={1, 2, 3, 4}\n",
        "a.clear()\n",
        "a"
      ]
    },
    {
      "cell_type": "markdown",
      "metadata": {
        "id": "VJcVcywE-OYp"
      },
      "source": [
        "7. Create a set of even numbers from 1 to 10."
      ]
    },
    {
      "cell_type": "code",
      "execution_count": null,
      "metadata": {
        "colab": {
          "base_uri": "https://localhost:8080/"
        },
        "id": "zDLjcyf1-RsI",
        "outputId": "64df88a5-e006-403e-9725-04e60050459d"
      },
      "outputs": [
        {
          "output_type": "execute_result",
          "data": {
            "text/plain": [
              "{2, 4, 6, 8, 10}"
            ]
          },
          "metadata": {},
          "execution_count": 164
        }
      ],
      "source": [
        "a=set()\n",
        "for i in range(1,11):\n",
        "  if i%2==0:\n",
        "    a.add(i)\n",
        "a"
      ]
    },
    {
      "cell_type": "markdown",
      "metadata": {
        "id": "sEBH8L6J-xpj"
      },
      "source": [
        "8. Create a set of odd numbers from 1 to 10."
      ]
    },
    {
      "cell_type": "code",
      "execution_count": null,
      "metadata": {
        "colab": {
          "base_uri": "https://localhost:8080/"
        },
        "id": "M8pxJ4wD-z8L",
        "outputId": "eeb1a3a3-a0b2-46a9-dd69-4671142784a4"
      },
      "outputs": [
        {
          "output_type": "execute_result",
          "data": {
            "text/plain": [
              "{1, 3, 5, 7, 9}"
            ]
          },
          "metadata": {},
          "execution_count": 165
        }
      ],
      "source": [
        "a=set()\n",
        "for i in range(1,11):\n",
        "  if i%2!=0:\n",
        "    a.add(i)\n",
        "a"
      ]
    },
    {
      "cell_type": "markdown",
      "metadata": {
        "id": "xthWEEjS-2o3"
      },
      "source": [
        "9. Find the union of two sets."
      ]
    },
    {
      "cell_type": "code",
      "execution_count": null,
      "metadata": {
        "colab": {
          "base_uri": "https://localhost:8080/"
        },
        "id": "QaFkVnHq-4f8",
        "outputId": "c2c7c6c3-e623-47a1-8b90-b4ebcdd6639b"
      },
      "outputs": [
        {
          "output_type": "execute_result",
          "data": {
            "text/plain": [
              "{1, 2, 3, 4, 5, 6, 8, 10}"
            ]
          },
          "metadata": {},
          "execution_count": 166
        }
      ],
      "source": [
        "a={2, 4, 6, 8, 10}\n",
        "b={1,2,3,4,5}\n",
        "c=a.union(b)\n",
        "# c= a|b\n",
        "c"
      ]
    },
    {
      "cell_type": "markdown",
      "metadata": {
        "id": "hDajQvEd_OUL"
      },
      "source": [
        "10. Find the intersection of two sets."
      ]
    },
    {
      "cell_type": "code",
      "execution_count": null,
      "metadata": {
        "colab": {
          "base_uri": "https://localhost:8080/"
        },
        "id": "8QnIHY3i_Txv",
        "outputId": "ff57f05f-4d11-4c24-b340-a145f560d139"
      },
      "outputs": [
        {
          "output_type": "execute_result",
          "data": {
            "text/plain": [
              "{2, 4}"
            ]
          },
          "metadata": {},
          "execution_count": 167
        }
      ],
      "source": [
        "a={2, 4, 6, 8, 10}\n",
        "b={1,2,3,4,5}\n",
        "c=a.intersection(b)\n",
        "c"
      ]
    },
    {
      "cell_type": "markdown",
      "metadata": {
        "id": "1QGfKt0D_Zbw"
      },
      "source": [
        "11. Find the difference between two sets."
      ]
    },
    {
      "cell_type": "code",
      "execution_count": null,
      "metadata": {
        "colab": {
          "base_uri": "https://localhost:8080/"
        },
        "id": "ONtLMe4o_baz",
        "outputId": "6b2fdf0f-a1e9-4db6-f271-8ed3440e9d0c"
      },
      "outputs": [
        {
          "output_type": "execute_result",
          "data": {
            "text/plain": [
              "{6, 8, 10}"
            ]
          },
          "metadata": {},
          "execution_count": 168
        }
      ],
      "source": [
        "a={2, 4, 6, 8, 10}\n",
        "b={1,2,3,4,5}\n",
        "c=a.difference(b)\n",
        "c"
      ]
    },
    {
      "cell_type": "markdown",
      "metadata": {
        "id": "1MTSZmpN_f_z"
      },
      "source": [
        "12. Check if a set is a subset of another set."
      ]
    },
    {
      "cell_type": "code",
      "execution_count": null,
      "metadata": {
        "colab": {
          "base_uri": "https://localhost:8080/"
        },
        "id": "xAc0GPtb_u-i",
        "outputId": "f811de2c-c866-460d-d151-280e4b3fb43b"
      },
      "outputs": [
        {
          "output_type": "stream",
          "name": "stdout",
          "text": [
            "Is set1 a subset of set2: True\n"
          ]
        }
      ],
      "source": [
        "set1 = {1, 2, 3}\n",
        "set2 = {1, 2, 3, 4, 5}\n",
        "\n",
        "# Use the \"issubset()\" method to check if set1 is a subset of set2\n",
        "is_subset = set1.issubset(set2)\n",
        "\n",
        "# Print the result\n",
        "print(\"Is set1 a subset of set2:\", is_subset)"
      ]
    },
    {
      "cell_type": "markdown",
      "metadata": {
        "id": "1kKPc0co_09Z"
      },
      "source": [
        "13. Check if a set is a superset of another set."
      ]
    },
    {
      "cell_type": "code",
      "execution_count": null,
      "metadata": {
        "colab": {
          "base_uri": "https://localhost:8080/"
        },
        "id": "qgg5KaOS_7K5",
        "outputId": "06274735-b10d-41b2-bf56-f430da092aea"
      },
      "outputs": [
        {
          "output_type": "stream",
          "name": "stdout",
          "text": [
            "Is set1 a superset of set2: False\n"
          ]
        }
      ],
      "source": [
        "set1 = {1, 2, 3}\n",
        "set2 = {1, 2, 3, 4, 5}\n",
        "\n",
        "# Use the \"issubset()\" method to check if set1 is a subset of set2\n",
        "is_superset = set1.issuperset(set2)\n",
        "\n",
        "# Print the result\n",
        "print(\"Is set1 a superset of set2:\", is_superset)"
      ]
    },
    {
      "cell_type": "markdown",
      "metadata": {
        "id": "qKpv9ZWyAB2f"
      },
      "source": [
        "14. Create a set from a list."
      ]
    },
    {
      "cell_type": "code",
      "execution_count": null,
      "metadata": {
        "colab": {
          "base_uri": "https://localhost:8080/"
        },
        "id": "wBjYBizKAE9C",
        "outputId": "5b4f02bb-fb16-4892-cdc6-38a15ca7ebd2"
      },
      "outputs": [
        {
          "output_type": "execute_result",
          "data": {
            "text/plain": [
              "{1, 2, 3, 45}"
            ]
          },
          "metadata": {},
          "execution_count": 171
        }
      ],
      "source": [
        "a=set()\n",
        "lst=[1,2,3,45]\n",
        "for i in lst:\n",
        "  a.add(i)\n",
        "a\n"
      ]
    },
    {
      "cell_type": "markdown",
      "metadata": {
        "id": "6aKUya7bAnY5"
      },
      "source": [
        "15. Convert a set to a list.\n"
      ]
    },
    {
      "cell_type": "code",
      "execution_count": null,
      "metadata": {
        "colab": {
          "base_uri": "https://localhost:8080/"
        },
        "id": "Gb_QqiMeAsJJ",
        "outputId": "84196e22-52e2-4b8a-955c-33eb82a6ada2"
      },
      "outputs": [
        {
          "output_type": "execute_result",
          "data": {
            "text/plain": [
              "[1, 2, 3, 45]"
            ]
          },
          "metadata": {},
          "execution_count": 172
        }
      ],
      "source": [
        "a=list()\n",
        "b={1, 2, 3, 45}\n",
        "for i in b:\n",
        "  a.append(i)\n",
        "a"
      ]
    },
    {
      "cell_type": "markdown",
      "metadata": {
        "id": "dwXh1WtzA9-H"
      },
      "source": [
        "16. Remove a random element from a set."
      ]
    },
    {
      "cell_type": "code",
      "execution_count": null,
      "metadata": {
        "colab": {
          "base_uri": "https://localhost:8080/"
        },
        "id": "-yfXJuTCBKWv",
        "outputId": "5f391c74-c156-4b2f-aac1-a08d36757b6f"
      },
      "outputs": [
        {
          "output_type": "stream",
          "name": "stdout",
          "text": [
            "Original set: {1, 2, 3, 4, 5}\n",
            "Updated set after removing 3 : {1, 2, 4, 5}\n"
          ]
        }
      ],
      "source": [
        "import random  # Import the random module\n",
        "\n",
        "# Create a set with some elements\n",
        "my_set = {1, 2, 3, 4, 5}\n",
        "\n",
        "# Display the original set\n",
        "print(\"Original set:\", my_set)\n",
        "\n",
        "# Choose a random element from the set using the random.choice() function\n",
        "random_element = random.choice(list(my_set))\n",
        "\n",
        "# Remove the chosen random element from the set using the remove() method\n",
        "my_set.remove(random_element)\n",
        "\n",
        "# Display the updated set after removing the random element\n",
        "print(\"Updated set after removing\", random_element, \":\", my_set)"
      ]
    },
    {
      "cell_type": "markdown",
      "metadata": {
        "id": "EOVJTXilBbMG"
      },
      "source": [
        "17. Pop an element from a set."
      ]
    },
    {
      "cell_type": "code",
      "execution_count": null,
      "metadata": {
        "colab": {
          "base_uri": "https://localhost:8080/"
        },
        "id": "CbnzqzWaBdn2",
        "outputId": "1d638d9a-a56c-41da-ecb2-a9aa75fb0f92"
      },
      "outputs": [
        {
          "output_type": "stream",
          "name": "stdout",
          "text": [
            "Original set: {1, 2, 3, 4, 5}\n",
            "Popped element: 1\n",
            "Set after popping: {2, 3, 4, 5}\n"
          ]
        }
      ],
      "source": [
        "# Create a set with some elements\n",
        "my_set = {1, 2, 3, 4, 5}\n",
        "\n",
        "# Print the original set\n",
        "print(\"Original set:\", my_set)\n",
        "\n",
        "# Pop an element from the set using the pop() method\n",
        "popped_element = my_set.pop()\n",
        "\n",
        "# Print the element that was popped\n",
        "print(\"Popped element:\", popped_element)\n",
        "\n",
        "# Print the set after popping an element\n",
        "print(\"Set after popping:\", my_set)"
      ]
    },
    {
      "cell_type": "markdown",
      "metadata": {
        "id": "xhNkbsMsByMS"
      },
      "source": [
        "18. Check if two sets have no elements in common."
      ]
    },
    {
      "cell_type": "code",
      "execution_count": null,
      "metadata": {
        "colab": {
          "base_uri": "https://localhost:8080/"
        },
        "id": "rKl5O3XLB03e",
        "outputId": "231f74a7-f16a-496e-fa67-043ec9ddc529"
      },
      "outputs": [
        {
          "output_type": "stream",
          "name": "stdout",
          "text": [
            "The two sets have no elements in common.\n"
          ]
        }
      ],
      "source": [
        "# Step 1: Define two sets\n",
        "set1 = {1, 2, 3, 4}\n",
        "set2 = {5, 6, 7, 8}\n",
        "\n",
        "# Step 2: Check if the intersection of the two sets is empty\n",
        "# The intersection is the set of elements that are common to both sets\n",
        "common_elements = set1.intersection(set2)\n",
        "\n",
        "# Step 3: Check if the common_elements set is empty\n",
        "if not common_elements:\n",
        "    print(\"The two sets have no elements in common.\")\n",
        "else:\n",
        "    print(\"The two sets have common elements:\", common_elements)"
      ]
    },
    {
      "cell_type": "markdown",
      "metadata": {
        "id": "BlweHgZTCKan"
      },
      "source": [
        "19. Find the symmetric difference between two sets."
      ]
    },
    {
      "cell_type": "code",
      "execution_count": null,
      "metadata": {
        "colab": {
          "base_uri": "https://localhost:8080/"
        },
        "id": "P3yxNRSlCQGJ",
        "outputId": "92d4cef9-2cdd-455b-f574-d66b1ad51631"
      },
      "outputs": [
        {
          "output_type": "stream",
          "name": "stdout",
          "text": [
            "Symmetric Difference: {1, 2, 3, 4, 5, 6, 7, 8}\n"
          ]
        }
      ],
      "source": [
        "set1 = {1, 2, 3, 4}\n",
        "set2 = {5, 6, 7, 8}\n",
        "# Calculate the symmetric difference using the ^ operator\n",
        "symmetric_difference = set1 ^ set2\n",
        "\n",
        "# Print the symmetric difference\n",
        "print(\"Symmetric Difference:\", symmetric_difference)"
      ]
    },
    {
      "cell_type": "markdown",
      "metadata": {
        "id": "IMYx8anmCfE5"
      },
      "source": [
        "20. Update a set with elements from another set."
      ]
    },
    {
      "cell_type": "code",
      "execution_count": null,
      "metadata": {
        "colab": {
          "base_uri": "https://localhost:8080/"
        },
        "id": "pRhbHltECiKc",
        "outputId": "a8ab6e6a-7286-4942-e84b-0a981a7bd23c"
      },
      "outputs": [
        {
          "output_type": "stream",
          "name": "stdout",
          "text": [
            "{'b', 1, 2, 3, 'c', 'a'}\n"
          ]
        }
      ],
      "source": [
        "set1 = {\"a\", \"b\" , \"c\"}\n",
        "set2 = {1, 2, 3}\n",
        "\n",
        "set1.update(set2)\n",
        "print(set1)\n"
      ]
    },
    {
      "cell_type": "markdown",
      "metadata": {
        "id": "27AuRexMCm1Z"
      },
      "source": [
        "21. Create a set of the first 5 prime numbers."
      ]
    },
    {
      "cell_type": "code",
      "execution_count": null,
      "metadata": {
        "colab": {
          "base_uri": "https://localhost:8080/"
        },
        "id": "cxSqyJXUDIy3",
        "outputId": "a9fa87d7-a484-4bc5-f7db-e6f9206a1717"
      },
      "outputs": [
        {
          "output_type": "stream",
          "name": "stdout",
          "text": [
            "Set of the first 5 prime numbers: {2, 3, 5, 7, 11}\n"
          ]
        }
      ],
      "source": [
        "# Function to check if a number is prime\n",
        "def is_prime(num):\n",
        "    if num <= 1:\n",
        "        return False\n",
        "    for i in range(2, int(num ** 0.5) + 1):\n",
        "        if num % i == 0:\n",
        "            return False\n",
        "    return True\n",
        "\n",
        "# Create an empty set to store the prime numbers\n",
        "prime_set = set()\n",
        "\n",
        "# Initialize the number to start checking for primes\n",
        "num = 2\n",
        "\n",
        "# Loop until we have found the first 5 prime numbers\n",
        "while len(prime_set) < 5:\n",
        "    # Check if the current number is prime using the is_prime function\n",
        "    if is_prime(num):\n",
        "        # If the number is prime, add it to the prime_set\n",
        "        prime_set.add(num)\n",
        "\n",
        "    # Move on to the next number for the next iteration\n",
        "    num += 1\n",
        "\n",
        "# Print the set of prime numbers\n",
        "print(\"Set of the first 5 prime numbers:\", prime_set)"
      ]
    },
    {
      "cell_type": "markdown",
      "metadata": {
        "id": "zMz9VU6PE8S3"
      },
      "source": [
        "22. Check if two sets are identical."
      ]
    },
    {
      "cell_type": "code",
      "execution_count": null,
      "metadata": {
        "colab": {
          "base_uri": "https://localhost:8080/"
        },
        "id": "nzeVzF5HE_8G",
        "outputId": "853e63b7-3cf4-47ca-fb33-e55b5eec289b"
      },
      "outputs": [
        {
          "output_type": "stream",
          "name": "stdout",
          "text": [
            "The sets are identical.\n"
          ]
        }
      ],
      "source": [
        "# Step 1: Define two sets\n",
        "set1 = {1, 2, 3, 4, 5}\n",
        "set2 = {3, 1, 5, 2, 4}  # The order of elements doesn't matter in sets\n",
        "\n",
        "# Step 2: Check if the sets are identical using the `==` operator\n",
        "# Sets are unordered collections, so the order of elements doesn't matter.\n",
        "# The `==` operator compares the content of the sets.\n",
        "if set1 == set2:\n",
        "    print(\"The sets are identical.\")\n",
        "else:\n",
        "    print(\"The sets are not identical.\")"
      ]
    },
    {
      "cell_type": "markdown",
      "metadata": {
        "id": "xEU8mhbqFHWB"
      },
      "source": [
        "23. Create a frozen set."
      ]
    },
    {
      "cell_type": "code",
      "execution_count": null,
      "metadata": {
        "colab": {
          "base_uri": "https://localhost:8080/"
        },
        "id": "-CAaLd6sFKyx",
        "outputId": "d4a88252-2ae7-4c7b-8f7b-6d1a21a37aa4"
      },
      "outputs": [
        {
          "output_type": "stream",
          "name": "stdout",
          "text": [
            "Frozen Set: frozenset({1, 2, 3, 4, 5})\n"
          ]
        }
      ],
      "source": [
        "# Step 2: Define a list of elements that you want to include in the frozen set\n",
        "elements = [1, 2, 3, 4, 5]\n",
        "\n",
        "# Step 3: Create a frozen set using the 'frozenset' constructor and passing the list of elements\n",
        "my_frozen_set = frozenset(elements)\n",
        "\n",
        "# Step 4: Print the frozen set\n",
        "print(\"Frozen Set:\", my_frozen_set)"
      ]
    },
    {
      "cell_type": "markdown",
      "metadata": {
        "id": "sXwhaM0fFN3Q"
      },
      "source": [
        "24. Check if a set is disjoint with another set."
      ]
    },
    {
      "cell_type": "code",
      "execution_count": null,
      "metadata": {
        "colab": {
          "base_uri": "https://localhost:8080/"
        },
        "id": "T3gel7r4FRMu",
        "outputId": "126528fc-3865-481e-de1a-08a8b0228741"
      },
      "outputs": [
        {
          "output_type": "stream",
          "name": "stdout",
          "text": [
            "Are the sets disjoint? True\n"
          ]
        }
      ],
      "source": [
        "# Step 1: Define the two sets you want to check for disjointness\n",
        "set1 = {1, 2, 3, 4}\n",
        "set2 = {5, 6, 7, 8}\n",
        "\n",
        "# Step 2: Use the `isdisjoint()` method to check if the sets are disjoint\n",
        "# The `isdisjoint()` method returns True if the sets have no common elements,\n",
        "# and False if they have at least one common element.\n",
        "disjoint_status = set1.isdisjoint(set2)\n",
        "\n",
        "# Step 3: Print the result\n",
        "print(\"Are the sets disjoint?\", disjoint_status)"
      ]
    },
    {
      "cell_type": "markdown",
      "metadata": {
        "id": "vNaMMkTeFU-A"
      },
      "source": [
        "25. Create a set of squares of numbers from 1 to 5."
      ]
    },
    {
      "cell_type": "code",
      "execution_count": null,
      "metadata": {
        "colab": {
          "base_uri": "https://localhost:8080/"
        },
        "id": "8O-ThTE6FYQO",
        "outputId": "d7a260c8-517a-4a3d-e415-78034e18f247"
      },
      "outputs": [
        {
          "output_type": "stream",
          "name": "stdout",
          "text": [
            "{1, 4, 9, 16, 25}\n"
          ]
        }
      ],
      "source": [
        "# Step 1: Create an empty set to store the squares of numbers\n",
        "squares_set = set()\n",
        "\n",
        "# Step 2: Use a loop to iterate through numbers from 1 to 5\n",
        "for num in range(1, 6):\n",
        "    # Step 3: Calculate the square of the current number\n",
        "    square = num ** 2\n",
        "\n",
        "    # Step 4: Add the square to the set\n",
        "    squares_set.add(square)\n",
        "\n",
        "# Step 5: Print the set of squares\n",
        "print(squares_set)"
      ]
    },
    {
      "cell_type": "markdown",
      "metadata": {
        "id": "i_9MPO0OFeAv"
      },
      "source": [
        "26. Filter out all even numbers from a set."
      ]
    },
    {
      "cell_type": "code",
      "execution_count": null,
      "metadata": {
        "colab": {
          "base_uri": "https://localhost:8080/"
        },
        "id": "wwNIL4ymFpRL",
        "outputId": "6970591a-9d3f-43d5-e8c1-1d4f94624f39"
      },
      "outputs": [
        {
          "output_type": "stream",
          "name": "stdout",
          "text": [
            "Original Set: {1, 2, 3, 4, 5}\n",
            "Even Numbers Set: {2, 4}\n"
          ]
        }
      ],
      "source": [
        "# Step 1: Create a set with integers from 1 to 5\n",
        "original_set = {1, 2, 3, 4, 5}\n",
        "\n",
        "# Step 2: Initialize an empty set to store the filtered even numbers\n",
        "even_numbers_set = set()\n",
        "\n",
        "# Step 3: Iterate through each element in the original set\n",
        "for num in original_set:\n",
        "    # Step 4: Check if the current number is even (divisible by 2)\n",
        "    if num % 2 == 0:\n",
        "        # Step 5: If even, add it to the even_numbers_set\n",
        "        even_numbers_set.add(num)\n",
        "\n",
        "# Step 6: Print the original set and the set containing even numbers\n",
        "print(\"Original Set:\", original_set)\n",
        "print(\"Even Numbers Set:\", even_numbers_set)"
      ]
    },
    {
      "cell_type": "markdown",
      "metadata": {
        "id": "qaBOfxM2F52F"
      },
      "source": [
        "27. Multiply all elements in a set by 2."
      ]
    },
    {
      "cell_type": "code",
      "execution_count": null,
      "metadata": {
        "colab": {
          "base_uri": "https://localhost:8080/"
        },
        "id": "r5wyWCnWF8F1",
        "outputId": "0118552a-6a5e-4af0-b545-66a201f9bc96"
      },
      "outputs": [
        {
          "output_type": "stream",
          "name": "stdout",
          "text": [
            "Original Set: {1, 2, 3, 4, 5}\n",
            "Multiplied Set: {2, 4, 6, 8, 10}\n"
          ]
        }
      ],
      "source": [
        "# Create a set with integers from 1 to 5\n",
        "original_set = {1, 2, 3, 4, 5}\n",
        "\n",
        "# Initialize an empty set to store the multiplied elements\n",
        "multiplied_set = set()\n",
        "\n",
        "# Loop through each element in the original set\n",
        "for num in original_set:\n",
        "    # Multiply the current element by 2\n",
        "    multiplied_num = num * 2\n",
        "\n",
        "    # Add the multiplied element to the multiplied_set\n",
        "    multiplied_set.add(multiplied_num)\n",
        "\n",
        "# The original_set remains unchanged\n",
        "print(\"Original Set:\", original_set)\n",
        "\n",
        "# Display the set with elements multiplied by 2\n",
        "print(\"Multiplied Set:\", multiplied_set)"
      ]
    },
    {
      "cell_type": "markdown",
      "metadata": {
        "id": "o8zugsr0GMYi"
      },
      "source": [
        "28. Create a set of random numbers."
      ]
    },
    {
      "cell_type": "code",
      "execution_count": null,
      "metadata": {
        "colab": {
          "base_uri": "https://localhost:8080/"
        },
        "id": "X_G984ryGPQW",
        "outputId": "b3900346-e6ce-417d-f07e-c512869d4ee1"
      },
      "outputs": [
        {
          "output_type": "stream",
          "name": "stdout",
          "text": [
            "Generated set of random numbers: {96, 66, 80, 87, 25}\n"
          ]
        }
      ],
      "source": [
        "# Step 1: Import the `random` module to generate random numbers\n",
        "import random\n",
        "\n",
        "# Step 2: Define the number of random numbers you want in the set\n",
        "num_random_numbers = 5\n",
        "\n",
        "# Step 3: Initialize an empty set to store the random numbers\n",
        "random_number_set = set()\n",
        "\n",
        "# Step 4: Use a loop to generate random numbers and add them to the set\n",
        "for _ in range(num_random_numbers):\n",
        "    # Generate a random integer using the `randint` function from the `random` module\n",
        "    random_num = random.randint(1, 100)  # Generate a random number between 1 and 100\n",
        "    # Add the random number to the set\n",
        "    random_number_set.add(random_num)\n",
        "\n",
        "# Step 5: Print the generated set of random numbers\n",
        "print(\"Generated set of random numbers:\", random_number_set)"
      ]
    },
    {
      "cell_type": "markdown",
      "metadata": {
        "id": "m8sSSLmqGVHI"
      },
      "source": [
        "29. Check if a set is empty."
      ]
    },
    {
      "cell_type": "code",
      "execution_count": null,
      "metadata": {
        "colab": {
          "base_uri": "https://localhost:8080/"
        },
        "id": "DPJUd3o6GaCd",
        "outputId": "7ed9bcf4-6e5f-4e7b-c4fe-cc34391952a7"
      },
      "outputs": [
        {
          "output_type": "stream",
          "name": "stdout",
          "text": [
            "not empty\n"
          ]
        }
      ],
      "source": [
        "a={23,57,24}\n",
        "\n",
        "if not a:\n",
        "  print(\"Empty\")\n",
        "else:\n",
        "  print(\"not empty\")"
      ]
    },
    {
      "cell_type": "markdown",
      "metadata": {
        "id": "s9yYmIgCHdox"
      },
      "source": [
        "30. Create a nested set (hint: use frozenset)."
      ]
    },
    {
      "cell_type": "code",
      "execution_count": null,
      "metadata": {
        "colab": {
          "base_uri": "https://localhost:8080/"
        },
        "id": "-3CEIeaMHgD9",
        "outputId": "d52fa280-c5cb-4fd5-c9de-a9e68f9e824f"
      },
      "outputs": [
        {
          "output_type": "stream",
          "name": "stdout",
          "text": [
            "Nested Set: {frozenset({1, 2, 3, 4, 5}), frozenset({6, 7, 8, 9, 10})}\n"
          ]
        }
      ],
      "source": [
        "\n",
        "set1 = {1, 2, 3, 4, 5}\n",
        "set2 = {6, 7, 8, 9, 10}\n",
        "\n",
        "# Step 2: Create frozensets from the inner sets\n",
        "frozen_set1 = frozenset(set1)\n",
        "frozen_set2 = frozenset(set2)\n",
        "\n",
        "# Step 3: Create the nested set using the frozensets\n",
        "nested_set = {frozen_set1, frozen_set2}\n",
        "\n",
        "# Print the nested set\n",
        "print(\"Nested Set:\", nested_set)"
      ]
    },
    {
      "cell_type": "markdown",
      "metadata": {
        "id": "8bZ_nrcrH1AP"
      },
      "source": [
        "31. Remove an element from a set using the discard method."
      ]
    },
    {
      "cell_type": "code",
      "execution_count": null,
      "metadata": {
        "id": "AKrIB41IIo7Q",
        "colab": {
          "base_uri": "https://localhost:8080/"
        },
        "outputId": "49d6ea53-0b5b-4909-b4c4-1752eb050af7"
      },
      "outputs": [
        {
          "output_type": "stream",
          "name": "stdout",
          "text": [
            "Initial set: {2, 3, 4, 5}\n",
            "Set after removing 3 : {2, 4, 5}\n"
          ]
        }
      ],
      "source": [
        "set = {1, 2, 3, 4, 5}\n",
        "\n",
        "# Display the initial set\n",
        "print(\"Initial set:\", my_set)\n",
        "\n",
        "# Define the element to be removed\n",
        "element_to_remove = 3\n",
        "\n",
        "# Use the discard() method to remove the element from the set\n",
        "# If the element is not present in the set, discard() won't raise an error\n",
        "my_set.discard(element_to_remove)\n",
        "\n",
        "# Display the set after removing the element\n",
        "print(\"Set after removing\", element_to_remove, \":\", my_set)"
      ]
    },
    {
      "cell_type": "markdown",
      "metadata": {
        "id": "TutHeHxLI32s"
      },
      "source": [
        "32. Compare two sets."
      ]
    },
    {
      "cell_type": "code",
      "execution_count": null,
      "metadata": {
        "id": "6CA3VrcBI6Rv",
        "colab": {
          "base_uri": "https://localhost:8080/"
        },
        "outputId": "762852b3-6a4b-4f09-f8d2-bde4349d274c"
      },
      "outputs": [
        {
          "output_type": "stream",
          "name": "stdout",
          "text": [
            "Set 1: {1, 2, 3, 4, 5}\n",
            "Set 2: {4, 5, 6, 7, 8}\n",
            "Is set1 a subset of set2? False\n",
            "Is set2 a subset of set1? False\n",
            "Intersection: {4, 5}\n",
            "Union: {1, 2, 3, 4, 5, 6, 7, 8}\n",
            "Elements in set1 but not in set2: {1, 2, 3}\n",
            "Elements in set2 but not in set1: {8, 6, 7}\n"
          ]
        }
      ],
      "source": [
        "# Step 1: Define two sets\n",
        "set1 = {1, 2, 3, 4, 5}\n",
        "set2 = {4, 5, 6, 7, 8}\n",
        "\n",
        "# Step 2: Use set operations to compare the sets\n",
        "# Check if set1 is a subset of set2\n",
        "is_subset = set1.issubset(set2)\n",
        "\n",
        "# Check if set2 is a subset of set1\n",
        "is_superset = set1.issuperset(set2)\n",
        "\n",
        "# Find the intersection of the sets\n",
        "intersection = set1.intersection(set2)\n",
        "\n",
        "# Find the union of the sets\n",
        "union = set1.union(set2)\n",
        "\n",
        "# Find the elements that are in set1 but not in set2\n",
        "difference1 = set1.difference(set2)\n",
        "\n",
        "# Find the elements that are in set2 but not in set1\n",
        "difference2 = set2.difference(set1)\n",
        "\n",
        "# Step 3: Print the results\n",
        "print(\"Set 1:\", set1)\n",
        "print(\"Set 2:\", set2)\n",
        "print(\"Is set1 a subset of set2?\", is_subset)\n",
        "print(\"Is set2 a subset of set1?\", is_superset)\n",
        "print(\"Intersection:\", intersection)\n",
        "print(\"Union:\", union)\n",
        "print(\"Elements in set1 but not in set2:\", difference1)\n",
        "print(\"Elements in set2 but not in set1:\", difference2)"
      ]
    },
    {
      "cell_type": "markdown",
      "metadata": {
        "id": "jxSfjjA6JDfN"
      },
      "source": [
        "33. Create a set from a string."
      ]
    },
    {
      "cell_type": "code",
      "execution_count": null,
      "metadata": {
        "id": "GeM0X4BiJOVg",
        "colab": {
          "base_uri": "https://localhost:8080/"
        },
        "outputId": "d5403446-12a8-4ae8-ccfb-a929133bff28"
      },
      "outputs": [
        {
          "output_type": "stream",
          "name": "stdout",
          "text": [
            "hello\n"
          ]
        }
      ],
      "source": [
        "# Step 1: Define the input string\n",
        "input_string = \"hello\"\n",
        "\n",
        "# Step 2: Use the set() constructor to create a set from the characters in the string\n",
        "char_set = str(input_string)\n",
        "\n",
        "# Step 3: Print the resulting set\n",
        "print(char_set)"
      ]
    },
    {
      "cell_type": "markdown",
      "metadata": {
        "id": "egSGH7uYJRm5"
      },
      "source": [
        "34. Convert a set of strings to a set of integers."
      ]
    },
    {
      "cell_type": "code",
      "execution_count": null,
      "metadata": {
        "id": "At7IzYZxJVeK",
        "colab": {
          "base_uri": "https://localhost:8080/",
          "height": 222
        },
        "outputId": "a388bee9-60f2-423f-aa1a-593f1c314833"
      },
      "outputs": [
        {
          "output_type": "error",
          "ename": "TypeError",
          "evalue": "'set' object is not callable",
          "traceback": [
            "\u001b[0;31m---------------------------------------------------------------------------\u001b[0m",
            "\u001b[0;31mTypeError\u001b[0m                                 Traceback (most recent call last)",
            "\u001b[0;32m<ipython-input-198-07b2668168e5>\u001b[0m in \u001b[0;36m<cell line: 5>\u001b[0;34m()\u001b[0m\n\u001b[1;32m      3\u001b[0m \u001b[0;34m\u001b[0m\u001b[0m\n\u001b[1;32m      4\u001b[0m \u001b[0;31m# Step 2: Initialize an empty set to store integers\u001b[0m\u001b[0;34m\u001b[0m\u001b[0;34m\u001b[0m\u001b[0m\n\u001b[0;32m----> 5\u001b[0;31m \u001b[0minteger_set\u001b[0m \u001b[0;34m=\u001b[0m \u001b[0mset\u001b[0m\u001b[0;34m(\u001b[0m\u001b[0;34m)\u001b[0m  \u001b[0;31m# Use the built-in set() constructor to create an empty set\u001b[0m\u001b[0;34m\u001b[0m\u001b[0;34m\u001b[0m\u001b[0m\n\u001b[0m\u001b[1;32m      6\u001b[0m \u001b[0;34m\u001b[0m\u001b[0m\n\u001b[1;32m      7\u001b[0m \u001b[0;31m# Step 3: Iterate through each string in the string set\u001b[0m\u001b[0;34m\u001b[0m\u001b[0;34m\u001b[0m\u001b[0m\n",
            "\u001b[0;31mTypeError\u001b[0m: 'set' object is not callable"
          ]
        }
      ],
      "source": [
        "# Step 1: Create a set of strings\n",
        "string_set = {\"123\", \"456\", \"789\"}\n",
        "\n",
        "# Step 2: Initialize an empty set to store integers\n",
        "integer_set = set()  # Use the built-in set() constructor to create an empty set\n",
        "\n",
        "# Step 3: Iterate through each string in the string set\n",
        "for string in string_set:\n",
        "    # Step 4: Convert the string to an integer using the int() function\n",
        "    integer_value = int(string)\n",
        "\n",
        "    # Step 5: Add the integer to the integer set\n",
        "    integer_set.add(integer_value)\n",
        "\n",
        "# Step 6: Print the original string set and the converted integer set\n",
        "print(\"Original String Set:\", string_set)\n",
        "print(\"Converted Integer Set:\", integer_set)"
      ]
    },
    {
      "cell_type": "markdown",
      "metadata": {
        "id": "vfvlnXPUJce2"
      },
      "source": [
        "35. Convert a set of integers to a set of strings."
      ]
    },
    {
      "cell_type": "code",
      "execution_count": null,
      "metadata": {
        "colab": {
          "base_uri": "https://localhost:8080/",
          "height": 222
        },
        "id": "les2yiCtJfI2",
        "outputId": "a66175cb-cd87-4dd0-c10f-0d407cd21965"
      },
      "outputs": [
        {
          "output_type": "error",
          "ename": "TypeError",
          "evalue": "'set' object is not callable",
          "traceback": [
            "\u001b[0;31m---------------------------------------------------------------------------\u001b[0m",
            "\u001b[0;31mTypeError\u001b[0m                                 Traceback (most recent call last)",
            "\u001b[0;32m<ipython-input-197-aa9bee4828ed>\u001b[0m in \u001b[0;36m<cell line: 5>\u001b[0;34m()\u001b[0m\n\u001b[1;32m      3\u001b[0m \u001b[0;34m\u001b[0m\u001b[0m\n\u001b[1;32m      4\u001b[0m \u001b[0;31m# Step 2: Initialize an empty set to store the strings\u001b[0m\u001b[0;34m\u001b[0m\u001b[0;34m\u001b[0m\u001b[0m\n\u001b[0;32m----> 5\u001b[0;31m \u001b[0mstrings_set\u001b[0m \u001b[0;34m=\u001b[0m \u001b[0mset\u001b[0m\u001b[0;34m(\u001b[0m\u001b[0;34m)\u001b[0m\u001b[0;34m\u001b[0m\u001b[0;34m\u001b[0m\u001b[0m\n\u001b[0m\u001b[1;32m      6\u001b[0m \u001b[0;34m\u001b[0m\u001b[0m\n\u001b[1;32m      7\u001b[0m \u001b[0;31m# Step 3: Iterate through each integer in the integers_set\u001b[0m\u001b[0;34m\u001b[0m\u001b[0;34m\u001b[0m\u001b[0m\n",
            "\u001b[0;31mTypeError\u001b[0m: 'set' object is not callable"
          ]
        }
      ],
      "source": [
        "# Step 1: Create a set of integers\n",
        "integers_set = {1, 2, 3, 4, 5}\n",
        "\n",
        "# Step 2: Initialize an empty set to store the strings\n",
        "strings_set = set()\n",
        "\n",
        "# Step 3: Iterate through each integer in the integers_set\n",
        "for num in integers_set:\n",
        "    # Step 4: Convert the integer to a string using the str() function\n",
        "    num_str = str(num)\n",
        "\n",
        "    # Step 5: Add the string representation to the strings_set\n",
        "    strings_set.add(num_str)\n",
        "\n",
        "# Step 6: Print the original integers_set and the converted strings_set\n",
        "print(\"Original integers_set:\", integers_set)\n",
        "print(\"Converted strings_set:\", strings_set)"
      ]
    },
    {
      "cell_type": "markdown",
      "metadata": {
        "id": "qDfQz-ANJjJp"
      },
      "source": [
        "36. Create a set from a tuple."
      ]
    },
    {
      "cell_type": "code",
      "execution_count": null,
      "metadata": {
        "id": "foneI6viJlY2",
        "colab": {
          "base_uri": "https://localhost:8080/",
          "height": 222
        },
        "outputId": "6b9c2cef-aef8-40bc-d0a8-0c0d88b3367c"
      },
      "outputs": [
        {
          "output_type": "error",
          "ename": "TypeError",
          "evalue": "'set' object is not callable",
          "traceback": [
            "\u001b[0;31m---------------------------------------------------------------------------\u001b[0m",
            "\u001b[0;31mTypeError\u001b[0m                                 Traceback (most recent call last)",
            "\u001b[0;32m<ipython-input-199-948094fa53fd>\u001b[0m in \u001b[0;36m<cell line: 5>\u001b[0;34m()\u001b[0m\n\u001b[1;32m      3\u001b[0m \u001b[0;34m\u001b[0m\u001b[0m\n\u001b[1;32m      4\u001b[0m \u001b[0;31m# Step 1: Convert the tuple to a set\u001b[0m\u001b[0;34m\u001b[0m\u001b[0;34m\u001b[0m\u001b[0m\n\u001b[0;32m----> 5\u001b[0;31m \u001b[0moutput_set\u001b[0m \u001b[0;34m=\u001b[0m \u001b[0mset\u001b[0m\u001b[0;34m(\u001b[0m\u001b[0minput_tuple\u001b[0m\u001b[0;34m)\u001b[0m\u001b[0;34m\u001b[0m\u001b[0;34m\u001b[0m\u001b[0m\n\u001b[0m\u001b[1;32m      6\u001b[0m \u001b[0;31m# At this point, the set() function is used to convert the elements of the tuple into a set.\u001b[0m\u001b[0;34m\u001b[0m\u001b[0;34m\u001b[0m\u001b[0m\n\u001b[1;32m      7\u001b[0m \u001b[0;31m# Since sets only contain unique elements, duplicate values are automatically removed.\u001b[0m\u001b[0;34m\u001b[0m\u001b[0;34m\u001b[0m\u001b[0m\n",
            "\u001b[0;31mTypeError\u001b[0m: 'set' object is not callable"
          ]
        }
      ],
      "source": [
        "# Given tuple\n",
        "input_tuple = (1, 2, 3, 2, 4, 5, 1)\n",
        "\n",
        "# Step 1: Convert the tuple to a set\n",
        "output_set = set(input_tuple)\n",
        "# At this point, the set() function is used to convert the elements of the tuple into a set.\n",
        "# Since sets only contain unique elements, duplicate values are automatically removed.\n",
        "\n",
        "# Step 2: Print the resulting set\n",
        "print(output_set)\n",
        "# The set is now printed, and it will only contain the unique elements from the original tuple."
      ]
    },
    {
      "cell_type": "markdown",
      "metadata": {
        "id": "2SV6_1KSJqZs"
      },
      "source": [
        "37. Convert a set to a tuple."
      ]
    },
    {
      "cell_type": "code",
      "execution_count": null,
      "metadata": {
        "colab": {
          "base_uri": "https://localhost:8080/"
        },
        "id": "uni-ITXbJsno",
        "outputId": "ba039dcc-a41b-4bc1-c051-0fdffa213f0a"
      },
      "outputs": [
        {
          "output_type": "stream",
          "name": "stdout",
          "text": [
            "Original set: {1, 2, 3, 4, 5}\n",
            "Converted tuple: (1, 2, 3, 4, 5)\n"
          ]
        }
      ],
      "source": [
        "# Step 1: Create a set\n",
        "input_set = {1, 2, 3, 4, 5}\n",
        "\n",
        "# Step 2: Convert the set to a tuple\n",
        "output_tuple = tuple(input_set)\n",
        "\n",
        "# Step 3: Print the original set and the converted tuple\n",
        "print(\"Original set:\", input_set)\n",
        "print(\"Converted tuple:\", output_tuple)"
      ]
    },
    {
      "cell_type": "markdown",
      "metadata": {
        "id": "EsZTpW6xKhiu"
      },
      "source": [
        "38. Find the maximum value in a set."
      ]
    },
    {
      "cell_type": "code",
      "execution_count": null,
      "metadata": {
        "colab": {
          "base_uri": "https://localhost:8080/"
        },
        "id": "k8qjKl7aKkMq",
        "outputId": "b8f82e64-63af-40dc-b21b-80339a2d3e55"
      },
      "outputs": [
        {
          "output_type": "execute_result",
          "data": {
            "text/plain": [
              "5"
            ]
          },
          "metadata": {},
          "execution_count": 201
        }
      ],
      "source": [
        "a = {1, 2, 3, 4, 5}\n",
        "a=max(a)\n",
        "a"
      ]
    },
    {
      "cell_type": "markdown",
      "metadata": {
        "id": "7UXHqnWwLNGK"
      },
      "source": [
        "39. Find the minimum value in a set."
      ]
    },
    {
      "cell_type": "code",
      "execution_count": null,
      "metadata": {
        "colab": {
          "base_uri": "https://localhost:8080/"
        },
        "id": "Tcvq18F8KhO3",
        "outputId": "80816762-0ba4-4789-d525-580e6b197d11"
      },
      "outputs": [
        {
          "output_type": "execute_result",
          "data": {
            "text/plain": [
              "1"
            ]
          },
          "metadata": {},
          "execution_count": 202
        }
      ],
      "source": [
        "a = {1, 2, 3, 4, 5}\n",
        "a=min(a)\n",
        "a"
      ]
    },
    {
      "cell_type": "markdown",
      "metadata": {
        "id": "CLrPIWWxLTC7"
      },
      "source": [
        "40. Create a set from user input."
      ]
    },
    {
      "cell_type": "code",
      "execution_count": null,
      "metadata": {
        "colab": {
          "base_uri": "https://localhost:8080/",
          "height": 222
        },
        "id": "cLdWk-6ELVnf",
        "outputId": "856ad4bf-2780-43db-a628-b2e29a7a2113"
      },
      "outputs": [
        {
          "output_type": "error",
          "ename": "TypeError",
          "evalue": "'set' object is not callable",
          "traceback": [
            "\u001b[0;31m---------------------------------------------------------------------------\u001b[0m",
            "\u001b[0;31mTypeError\u001b[0m                                 Traceback (most recent call last)",
            "\u001b[0;32m<ipython-input-203-28cbc7c33ef9>\u001b[0m in \u001b[0;36m<cell line: 2>\u001b[0;34m()\u001b[0m\n\u001b[1;32m      1\u001b[0m \u001b[0;31m# Step 1: Initialize an empty set\u001b[0m\u001b[0;34m\u001b[0m\u001b[0;34m\u001b[0m\u001b[0m\n\u001b[0;32m----> 2\u001b[0;31m \u001b[0muser_set\u001b[0m \u001b[0;34m=\u001b[0m \u001b[0mset\u001b[0m\u001b[0;34m(\u001b[0m\u001b[0;34m)\u001b[0m\u001b[0;34m\u001b[0m\u001b[0;34m\u001b[0m\u001b[0m\n\u001b[0m\u001b[1;32m      3\u001b[0m \u001b[0;34m\u001b[0m\u001b[0m\n\u001b[1;32m      4\u001b[0m \u001b[0;31m# Step 2: Get input from the user\u001b[0m\u001b[0;34m\u001b[0m\u001b[0;34m\u001b[0m\u001b[0m\n\u001b[1;32m      5\u001b[0m \u001b[0mprint\u001b[0m\u001b[0;34m(\u001b[0m\u001b[0;34m\"Enter elements for the set (type 'done' to finish):\"\u001b[0m\u001b[0;34m)\u001b[0m\u001b[0;34m\u001b[0m\u001b[0;34m\u001b[0m\u001b[0m\n",
            "\u001b[0;31mTypeError\u001b[0m: 'set' object is not callable"
          ]
        }
      ],
      "source": [
        "# Step 1: Initialize an empty set\n",
        "user_set = set()\n",
        "\n",
        "# Step 2: Get input from the user\n",
        "print(\"Enter elements for the set (type 'done' to finish):\")\n",
        "while True:\n",
        "    user_input = input(\"> \")  # Get input from the user\n",
        "\n",
        "    if user_input.lower() == 'done':\n",
        "        break  # Exit the loop if the user enters 'done'\n",
        "\n",
        "    # Step 3: Add the user input to the set\n",
        "    user_set.add(user_input)\n",
        "\n",
        "# Step 4: Display the final set created from user input\n",
        "print(\"Final set:\", user_set)"
      ]
    },
    {
      "cell_type": "markdown",
      "metadata": {
        "id": "JWNEQWtYLq6q"
      },
      "source": [
        "41. Check if the intersection of two sets is empty."
      ]
    },
    {
      "cell_type": "code",
      "execution_count": null,
      "metadata": {
        "id": "x3s2lXBELx1m",
        "colab": {
          "base_uri": "https://localhost:8080/"
        },
        "outputId": "c2c8067f-d696-4441-8c04-117db15a2937"
      },
      "outputs": [
        {
          "output_type": "stream",
          "name": "stdout",
          "text": [
            "The intersection of the two sets is not empty.\n"
          ]
        }
      ],
      "source": [
        "set1 = {1, 2, 3, 4, 5}\n",
        "set2 = {4, 5, 6, 7, 8}\n",
        "\n",
        "# Step 2: Find the intersection of the two sets using the `intersection()` method\n",
        "intersection_result = set1.intersection(set2)\n",
        "\n",
        "# Step 3: Check if the intersection result is empty\n",
        "if not intersection_result:\n",
        "    print(\"The intersection of the two sets is empty.\")\n",
        "else:\n",
        "    print(\"The intersection of the two sets is not empty.\")"
      ]
    },
    {
      "cell_type": "markdown",
      "metadata": {
        "id": "6c6XQ78RL6Jd"
      },
      "source": [
        "42. Create a set of the first 5 Fibonacci numbers."
      ]
    },
    {
      "cell_type": "code",
      "execution_count": null,
      "metadata": {
        "id": "ZnTdZg0gL87E",
        "colab": {
          "base_uri": "https://localhost:8080/",
          "height": 222
        },
        "outputId": "d622ba91-3822-4603-eeb1-7f84bf1b73d8"
      },
      "outputs": [
        {
          "output_type": "error",
          "ename": "TypeError",
          "evalue": "'set' object is not callable",
          "traceback": [
            "\u001b[0;31m---------------------------------------------------------------------------\u001b[0m",
            "\u001b[0;31mTypeError\u001b[0m                                 Traceback (most recent call last)",
            "\u001b[0;32m<ipython-input-206-3a9bbb0343f5>\u001b[0m in \u001b[0;36m<cell line: 2>\u001b[0;34m()\u001b[0m\n\u001b[1;32m      1\u001b[0m \u001b[0;31m# Create a set to store the first 5 Fibonacci numbers\u001b[0m\u001b[0;34m\u001b[0m\u001b[0;34m\u001b[0m\u001b[0m\n\u001b[0;32m----> 2\u001b[0;31m \u001b[0mfibonacci_set\u001b[0m \u001b[0;34m=\u001b[0m \u001b[0mset\u001b[0m\u001b[0;34m(\u001b[0m\u001b[0;34m)\u001b[0m\u001b[0;34m\u001b[0m\u001b[0;34m\u001b[0m\u001b[0m\n\u001b[0m\u001b[1;32m      3\u001b[0m \u001b[0;34m\u001b[0m\u001b[0m\n\u001b[1;32m      4\u001b[0m \u001b[0;31m# Initialize the first two Fibonacci numbers\u001b[0m\u001b[0;34m\u001b[0m\u001b[0;34m\u001b[0m\u001b[0m\n\u001b[1;32m      5\u001b[0m \u001b[0ma\u001b[0m\u001b[0;34m,\u001b[0m \u001b[0mb\u001b[0m \u001b[0;34m=\u001b[0m \u001b[0;36m0\u001b[0m\u001b[0;34m,\u001b[0m \u001b[0;36m1\u001b[0m\u001b[0;34m\u001b[0m\u001b[0;34m\u001b[0m\u001b[0m\n",
            "\u001b[0;31mTypeError\u001b[0m: 'set' object is not callable"
          ]
        }
      ],
      "source": [
        "# Create a set to store the first 5 Fibonacci numbers\n",
        "fibonacci_set = set()\n",
        "\n",
        "# Initialize the first two Fibonacci numbers\n",
        "a, b = 0, 1\n",
        "\n",
        "# Loop to generate the first 5 Fibonacci numbers\n",
        "for _ in range(6):\n",
        "    # Add the current Fibonacci number to the set\n",
        "    fibonacci_set.add(a)\n",
        "\n",
        "    # Calculate the next Fibonacci number\n",
        "    a, b = b, a + b\n",
        "\n",
        "# Print the set of Fibonacci numbers\n",
        "print(\"Set of the first 5 Fibonacci numbers:\", fibonacci_set)"
      ]
    },
    {
      "cell_type": "markdown",
      "metadata": {
        "id": "qzFu2KyeMI2O"
      },
      "source": [
        "43. Remove duplicates from a list using sets."
      ]
    },
    {
      "cell_type": "code",
      "execution_count": null,
      "metadata": {
        "id": "fGrfA6svMO30",
        "colab": {
          "base_uri": "https://localhost:8080/",
          "height": 185
        },
        "outputId": "1bbfaf2f-51cc-4b70-e795-47222c4d3cd4"
      },
      "outputs": [
        {
          "output_type": "error",
          "ename": "TypeError",
          "evalue": "'set' object is not callable",
          "traceback": [
            "\u001b[0;31m---------------------------------------------------------------------------\u001b[0m",
            "\u001b[0;31mTypeError\u001b[0m                                 Traceback (most recent call last)",
            "\u001b[0;32m<ipython-input-207-0f70ef59a220>\u001b[0m in \u001b[0;36m<cell line: 2>\u001b[0;34m()\u001b[0m\n\u001b[1;32m      1\u001b[0m \u001b[0ma\u001b[0m\u001b[0;34m=\u001b[0m\u001b[0;34m[\u001b[0m\u001b[0;36m2\u001b[0m\u001b[0;34m,\u001b[0m\u001b[0;36m2\u001b[0m\u001b[0;34m,\u001b[0m\u001b[0;36m2\u001b[0m\u001b[0;34m,\u001b[0m\u001b[0;36m3\u001b[0m\u001b[0;34m,\u001b[0m\u001b[0;36m4\u001b[0m\u001b[0;34m,\u001b[0m\u001b[0;36m6\u001b[0m\u001b[0;34m,\u001b[0m\u001b[0;36m8\u001b[0m\u001b[0;34m,\u001b[0m\u001b[0;36m4\u001b[0m\u001b[0;34m,\u001b[0m\u001b[0;36m3\u001b[0m\u001b[0;34m,\u001b[0m\u001b[0;36m8\u001b[0m\u001b[0;34m,\u001b[0m\u001b[0;36m54\u001b[0m\u001b[0;34m,\u001b[0m\u001b[0;36m7\u001b[0m\u001b[0;34m,\u001b[0m\u001b[0;36m45\u001b[0m\u001b[0;34m,\u001b[0m\u001b[0;36m78\u001b[0m\u001b[0;34m,\u001b[0m\u001b[0;36m543\u001b[0m\u001b[0;34m,\u001b[0m\u001b[0;36m56\u001b[0m\u001b[0;34m,\u001b[0m\u001b[0;36m78\u001b[0m\u001b[0;34m,\u001b[0m\u001b[0;36m65\u001b[0m\u001b[0;34m,\u001b[0m\u001b[0;36m56\u001b[0m\u001b[0;34m]\u001b[0m\u001b[0;34m\u001b[0m\u001b[0;34m\u001b[0m\u001b[0m\n\u001b[0;32m----> 2\u001b[0;31m \u001b[0ma\u001b[0m\u001b[0;34m=\u001b[0m\u001b[0mset\u001b[0m\u001b[0;34m(\u001b[0m\u001b[0ma\u001b[0m\u001b[0;34m)\u001b[0m\u001b[0;34m\u001b[0m\u001b[0;34m\u001b[0m\u001b[0m\n\u001b[0m\u001b[1;32m      3\u001b[0m \u001b[0ma\u001b[0m\u001b[0;34m\u001b[0m\u001b[0;34m\u001b[0m\u001b[0m\n",
            "\u001b[0;31mTypeError\u001b[0m: 'set' object is not callable"
          ]
        }
      ],
      "source": [
        "a=[2,2,2,3,4,6,8,4,3,8,54,7,45,78,543,56,78,65,56]\n",
        "a=set(a)\n",
        "a"
      ]
    },
    {
      "cell_type": "markdown",
      "metadata": {
        "id": "ZADsbTYCMb9-"
      },
      "source": [
        "44. Check if two sets have the same elements, regardless of their count."
      ]
    },
    {
      "cell_type": "code",
      "execution_count": null,
      "metadata": {
        "id": "IBJjIrYJMrVv"
      },
      "outputs": [],
      "source": [
        "def have_same_elements(set1, set2):\n",
        "    # Convert the sets to lists and sort them\n",
        "    sorted_list1 = sorted(list(set1))\n",
        "    sorted_list2 = sorted(list(set2))\n",
        "\n",
        "    # Compare the sorted lists to check if they are equal\n",
        "    return sorted_list1 == sorted_list2\n",
        "\n",
        "# Example sets\n",
        "set1 = {1, 2, 3, 2, 1}\n",
        "set2 = {3, 1, 2}\n",
        "\n",
        "# Check if the sets have the same elements\n",
        "result = have_same_elements(set1, set2)\n",
        "\n",
        "# Print the result\n",
        "if result:\n",
        "    print(\"The sets have the same elements.\")\n",
        "else:\n",
        "    print(\"The sets do not have the same elements.\")"
      ]
    },
    {
      "cell_type": "markdown",
      "metadata": {
        "id": "IKdE51-ZMxdj"
      },
      "source": [
        "45. Create a set of the first n powers of 2"
      ]
    },
    {
      "cell_type": "code",
      "execution_count": null,
      "metadata": {
        "id": "RN1-P5NyM0ei"
      },
      "outputs": [],
      "source": [
        "def generate_powers_of_2(n):\n",
        "    # Initialize an empty set to store the powers of 2\n",
        "    powers_of_2 = set()\n",
        "\n",
        "    # Loop from 0 to n-1\n",
        "    for i in range(n):\n",
        "        # Calculate the current power of 2 using the exponentiation operator **\n",
        "        power = 2 ** i\n",
        "\n",
        "        # Add the current power of 2 to the set\n",
        "        powers_of_2.add(power)\n",
        "\n",
        "    # Return the set of powers of 2\n",
        "    return powers_of_2\n",
        "\n",
        "# Define the value of n\n",
        "n = 5\n",
        "\n",
        "# Call the function to generate the set of powers of 2\n",
        "powers_set = generate_powers_of_2(n)\n",
        "\n",
        "# Print the resulting set\n",
        "print(powers_set)"
      ]
    },
    {
      "cell_type": "markdown",
      "metadata": {
        "id": "SCVHXqgJM40Y"
      },
      "source": [
        "46. Find the common elements between a set and a list."
      ]
    },
    {
      "cell_type": "code",
      "execution_count": null,
      "metadata": {
        "id": "3Zr2h5weM-ZU"
      },
      "outputs": [],
      "source": [
        "# Step 1: Define a set and a list\n",
        "my_set = {3, 7, 9, 12, 15}\n",
        "my_list = [7, 12, 5, 9]\n",
        "\n",
        "# Step 2: Convert the list to a set for efficient comparison\n",
        "list_to_set = set(my_list)\n",
        "\n",
        "# Step 3: Initialize an empty list to store common elements\n",
        "common_elements = []\n",
        "\n",
        "# Step 4: Iterate through the elements in the set\n",
        "for element in my_set:\n",
        "    # Step 5: Check if the element is present in the converted set (list_to_set)\n",
        "    if element in list_to_set:\n",
        "        # Step 6: If the element is present in both the set and the list, add it to the common_elements list\n",
        "        common_elements.append(element)\n",
        "\n",
        "# Step 7: Print the common elements\n",
        "print(\"Common elements:\", common_elements)"
      ]
    },
    {
      "cell_type": "markdown",
      "metadata": {
        "id": "kkYz1UUnNH5P"
      },
      "source": [
        "47. Create a set of the first n triangular numbers.:"
      ]
    },
    {
      "cell_type": "code",
      "execution_count": null,
      "metadata": {
        "id": "oRKT4YKyNLvZ"
      },
      "outputs": [],
      "source": [
        "def generate_triangular_numbers(n):\n",
        "    triangular_numbers = set()  # Create an empty set to store the triangular numbers\n",
        "    for i in range(1, n + 1):\n",
        "        triangular_number = i * (i + 1) // 2  # Calculate the ith triangular number using the formula\n",
        "        triangular_numbers.add(triangular_number)  # Add the calculated triangular number to the set\n",
        "    return triangular_numbers\n",
        "\n",
        "# Input the value of 'n'\n",
        "n = int(input(\"Enter the value of n: \"))\n",
        "\n",
        "# Call the function to generate the set of first 'n' triangular numbers\n",
        "triangular_set = generate_triangular_numbers(n)\n",
        "\n",
        "# Display the set of triangular numbers\n",
        "print(f\"The set of the first {n} triangular numbers is:\", triangular_set)"
      ]
    },
    {
      "cell_type": "markdown",
      "metadata": {
        "id": "4Pz98znxNTIs"
      },
      "source": [
        "\n",
        "48. Check if a set contains another set as a subset"
      ]
    },
    {
      "cell_type": "code",
      "execution_count": null,
      "metadata": {
        "id": "aygEzDtKNYiY"
      },
      "outputs": [],
      "source": [
        "# Define two sets\n",
        "set1 = {1, 2, 3, 4, 5}\n",
        "set2 = {3, 4}\n",
        "\n",
        "# Check if set2 is a subset of set1\n",
        "is_subset = set2.issubset(set1)\n",
        "\n",
        "# Print the result\n",
        "if is_subset:\n",
        "    print(\"set2 is a subset of set1\")\n",
        "else:\n",
        "    print(\"set2 is not a subset of set1\")"
      ]
    },
    {
      "cell_type": "markdown",
      "metadata": {
        "id": "2Gy5dJZEN-8B"
      },
      "source": [
        "49. Create a set of alternating 1s and 0s of length n"
      ]
    },
    {
      "cell_type": "code",
      "execution_count": null,
      "metadata": {
        "id": "KkPK_qiJODUE"
      },
      "outputs": [],
      "source": [
        "def create_alternating_set(n):\n",
        "    # Initialize an empty set to store the alternating sequence.\n",
        "    alternating_set = set()\n",
        "\n",
        "    # Loop to generate alternating 1s and 0s.\n",
        "    for i in range(n):\n",
        "        # Alternate between adding 1 and 0 to the set based on whether i is even or odd.\n",
        "        if i % 2 == 0:\n",
        "            alternating_set.add(1)  # Add 1 if i is even.\n",
        "        else:\n",
        "            alternating_set.add(0)  # Add 0 if i is odd.\n",
        "\n",
        "    return alternating_set\n",
        "\n",
        "# Define the desired length of the alternating set.\n",
        "length_n = 10\n",
        "\n",
        "# Call the function to create the alternating set of length 'length_n'.\n",
        "result = create_alternating_set(length_n)\n",
        "\n",
        "# Print the resulting set.\n",
        "print(result)"
      ]
    },
    {
      "cell_type": "markdown",
      "metadata": {
        "id": "2_PAgic5OGTR"
      },
      "source": [
        " 50. Merge multiple sets into one.\n"
      ]
    },
    {
      "cell_type": "code",
      "execution_count": null,
      "metadata": {
        "id": "7a0Q3X-yOT3B"
      },
      "outputs": [],
      "source": [
        "# Step 1: Create multiple sets\n",
        "set1 = {1, 2, 3}\n",
        "set2 = {3, 4, 5}\n",
        "set3 = {5, 6, 7}\n",
        "\n",
        "# Step 2: Use the union() method to merge sets\n",
        "merged_set = set1.union(set2, set3)\n",
        "\n",
        "# Alternatively, you can use the | operator\n",
        "# merged_set = set1 | set2 | set3\n",
        "\n",
        "# Step 3: Print the merged set\n",
        "print(\"Merged Set:\", merged_set)"
      ]
    }
  ],
  "metadata": {
    "colab": {
      "provenance": []
    },
    "kernelspec": {
      "display_name": "Python 3",
      "name": "python3"
    },
    "language_info": {
      "name": "python"
    }
  },
  "nbformat": 4,
  "nbformat_minor": 0
}